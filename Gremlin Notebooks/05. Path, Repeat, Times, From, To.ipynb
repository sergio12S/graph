{
 "cells": [
  {
   "cell_type": "markdown",
   "metadata": {},
   "source": [
    "# 5. Path, Repeat, Times, From, To\n",
    "#### By Kwan Yin Andrew Chau"
   ]
  },
  {
   "cell_type": "code",
   "execution_count": 1,
   "metadata": {},
   "outputs": [],
   "source": [
    "import nbfinder\n",
    "from loader import g\n",
    "from loader import __\n",
    "from loader import hkVertexId"
   ]
  },
  {
   "cell_type": "markdown",
   "metadata": {},
   "source": [
    "## path()\n",
    "__Select the entire path of airports that start from HK and connect to Sydney through 3 routes__"
   ]
  },
  {
   "cell_type": "code",
   "execution_count": 2,
   "metadata": {
    "scrolled": true
   },
   "outputs": [
    {
     "output_type": "execute_result",
     "data": {
      "text/plain": [
       "[path[Hong Kong - Chek Lap Kok International Airport, Auckland International Airport, Hong Kong - Chek Lap Kok International Airport, Sydney Kingsford Smith],\n",
       " path[Hong Kong - Chek Lap Kok International Airport, Auckland International Airport, Shanghai - Pudong International Airport, Sydney Kingsford Smith],\n",
       " path[Hong Kong - Chek Lap Kok International Airport, Auckland International Airport, Vancouver, Sydney Kingsford Smith],\n",
       " path[Hong Kong - Chek Lap Kok International Airport, Auckland International Airport, Melbourne International Airport, Sydney Kingsford Smith],\n",
       " path[Hong Kong - Chek Lap Kok International Airport, Auckland International Airport, Perth International Airport, Sydney Kingsford Smith],\n",
       " path[Hong Kong - Chek Lap Kok International Airport, Auckland International Airport, Kuala Lumpur International Airport, Sydney Kingsford Smith],\n",
       " path[Hong Kong - Chek Lap Kok International Airport, Auckland International Airport, Beijing Capital International Airport, Sydney Kingsford Smith],\n",
       " path[Hong Kong - Chek Lap Kok International Airport, Auckland International Airport, Los Angeles International Airport, Sydney Kingsford Smith],\n",
       " path[Hong Kong - Chek Lap Kok International Airport, Auckland International Airport, Wellington International Airport, Sydney Kingsford Smith],\n",
       " path[Hong Kong - Chek Lap Kok International Airport, Auckland International Airport, Fua'amotu International Airport, Sydney Kingsford Smith]]"
      ]
     },
     "metadata": {},
     "execution_count": 2
    }
   ],
   "source": [
    "count = g.V(hkVertexId).out().out().out().has('code', 'SYD').count().next()\n",
    "g.V(hkVertexId).out().out().out().has('code', 'SYD').limit(10).path().by('desc').fold().next()"
   ]
  },
  {
   "cell_type": "markdown",
   "metadata": {},
   "source": [
    "## repeat(), times()\n",
    "Equivalent to"
   ]
  },
  {
   "cell_type": "code",
   "execution_count": 3,
   "metadata": {
    "scrolled": true
   },
   "outputs": [],
   "source": [
    "sameCount = g.V(hkVertexId).repeat(__.out()).times(3).has('code', 'SYD').count().next()\n",
    "assert sameCount == count"
   ]
  },
  {
   "cell_type": "markdown",
   "metadata": {},
   "source": [
    "__Select the path (including the route) that goes to HK airport__"
   ]
  },
  {
   "cell_type": "code",
   "execution_count": 4,
   "metadata": {},
   "outputs": [
    {
     "data": {
      "text/plain": [
       "[[v[32776], e[{'@type': 'janusgraph:RelationIdentifier', '@value': {'relationId': '1pxq9-pag-dg5-3bs'}}][32776-route->4312], v[4312]],\n",
       " [v[32776], e[{'@type': 'janusgraph:RelationIdentifier', '@value': {'relationId': '1pxc1-pag-dg5-6ew'}}][32776-route->8312], v[8312]],\n",
       " [v[32776], e[{'@type': 'janusgraph:RelationIdentifier', '@value': {'relationId': '1pwxt-pag-dg5-6fs'}}][32776-route->8344], v[8344]],\n",
       " [v[32776], e[{'@type': 'janusgraph:RelationIdentifier', '@value': {'relationId': '1pyip-pag-dg5-9ig'}}][32776-route->12328], v[12328]],\n",
       " [v[32776], e[{'@type': 'janusgraph:RelationIdentifier', '@value': {'relationId': '1q2gx-pag-dg5-9j4'}}][32776-route->12352], v[12352]],\n",
       " [v[32776], e[{'@type': 'janusgraph:RelationIdentifier', '@value': {'relationId': '1pwjl-pag-dg5-9mg'}}][32776-route->12472], v[12472]],\n",
       " [v[32776], e[{'@type': 'janusgraph:RelationIdentifier', '@value': {'relationId': '1q60x-pag-dg5-cow'}}][32776-route->16448], v[16448]],\n",
       " [v[32776], e[{'@type': 'janusgraph:RelationIdentifier', '@value': {'relationId': '1pywx-pag-dg5-cqg'}}][32776-route->16504], v[16504]],\n",
       " [v[32776], e[{'@type': 'janusgraph:RelationIdentifier', '@value': {'relationId': '1py4h-pag-dg5-crc'}}][32776-route->16536], v[16536]],\n",
       " [v[32776], e[{'@type': 'janusgraph:RelationIdentifier', '@value': {'relationId': '1q3nl-pag-dg5-ct4'}}][32776-route->16600], v[16600]]]"
      ]
     },
     "execution_count": 4,
     "metadata": {},
     "output_type": "execute_result"
    }
   ],
   "source": [
    "a = g.V(hkVertexId).outE().inV().limit(10).path().fold().next()\n",
    "a"
   ]
  },
  {
   "cell_type": "markdown",
   "metadata": {},
   "source": [
    "Note that this is different if you just used \"out()\", it would not have selected the route edge"
   ]
  },
  {
   "cell_type": "code",
   "execution_count": 5,
   "metadata": {},
   "outputs": [
    {
     "data": {
      "text/plain": [
       "[[v[32776], v[4312]],\n",
       " [v[32776], v[8312]],\n",
       " [v[32776], v[8344]],\n",
       " [v[32776], v[12328]],\n",
       " [v[32776], v[12352]],\n",
       " [v[32776], v[12472]],\n",
       " [v[32776], v[16448]],\n",
       " [v[32776], v[16504]],\n",
       " [v[32776], v[16536]],\n",
       " [v[32776], v[16600]]]"
      ]
     },
     "execution_count": 5,
     "metadata": {},
     "output_type": "execute_result"
    }
   ],
   "source": [
    "b = g.V(hkVertexId).out().limit(10).path().fold().next()\n",
    "assert a != b\n",
    "b"
   ]
  },
  {
   "cell_type": "markdown",
   "metadata": {},
   "source": [
    "__Choose what to return for each part of path__\n",
    "\n",
    "Since only 2 \"by\" modulators are specified, the third part (inV) will loop to use the 1st \"by\" modulator (code)"
   ]
  },
  {
   "cell_type": "code",
   "execution_count": 6,
   "metadata": {},
   "outputs": [
    {
     "data": {
      "text/plain": [
       "[['HKG', 7243, 'LAX'],\n",
       " ['HKG', 8054, 'JFK'],\n",
       " ['HKG', 8105, 'DFW'],\n",
       " ['HKG', 6484, 'SEA'],\n",
       " ['HKG', 1839, 'NRT'],\n",
       " ['HKG', 7952, 'BOS'],\n",
       " ['HKG', 4314, 'BNE'],\n",
       " ['HKG', 6910, 'SFO'],\n",
       " ['HKG', 7776, 'ORD'],\n",
       " ['HKG', 4603, 'MEL']]"
      ]
     },
     "execution_count": 6,
     "metadata": {},
     "output_type": "execute_result"
    }
   ],
   "source": [
    "g.V(hkVertexId).outE().inV().limit(10).path().\\\n",
    "    by('code').by('dist').fold().next()"
   ]
  },
  {
   "cell_type": "markdown",
   "metadata": {},
   "source": [
    "You do not have to supply a parameter to by() if it is for a single value"
   ]
  },
  {
   "cell_type": "code",
   "execution_count": 7,
   "metadata": {},
   "outputs": [
    {
     "data": {
      "text/plain": [
       "[['HKG', 'LAX', 4],\n",
       " ['HKG', 'JFK', 4],\n",
       " ['HKG', 'DFW', 7],\n",
       " ['HKG', 'SEA', 3],\n",
       " ['HKG', 'NRT', 2]]"
      ]
     },
     "execution_count": 7,
     "metadata": {},
     "output_type": "execute_result"
    }
   ],
   "source": [
    "g.V(hkVertexId).out().limit(5).values('runways').path().\\\n",
    "    by('code').by('code').by().fold().next()"
   ]
  },
  {
   "cell_type": "markdown",
   "metadata": {},
   "source": [
    "## from(), to()\n",
    "\n",
    "__Only include B to C in the path__"
   ]
  },
  {
   "cell_type": "code",
   "execution_count": 8,
   "metadata": {},
   "outputs": [
    {
     "data": {
      "text/plain": [
       "[['LAX', 'MCO'],\n",
       " ['LAX', 'FLL'],\n",
       " ['LAX', 'BWI'],\n",
       " ['LAX', 'ANC'],\n",
       " ['LAX', 'ATL'],\n",
       " ['LAX', 'AUS'],\n",
       " ['LAX', 'IAD'],\n",
       " ['LAX', 'RDU'],\n",
       " ['LAX', 'IAH'],\n",
       " ['LAX', 'MIA']]"
      ]
     },
     "execution_count": 8,
     "metadata": {},
     "output_type": "execute_result"
    }
   ],
   "source": [
    "a = g.V(hkVertexId).as_('a').out().as_('b').out().as_('c').path().\\\n",
    "    by('code').from_('b').to('c').limit(10).fold().next()\n",
    "a"
   ]
  },
  {
   "cell_type": "markdown",
   "metadata": {},
   "source": [
    "Equivalent to not having to() if you want to include the rest of the path"
   ]
  },
  {
   "cell_type": "code",
   "execution_count": 9,
   "metadata": {},
   "outputs": [],
   "source": [
    "b = g.V(hkVertexId).as_('a').out().as_('b').out().as_('c').path().\\\n",
    "    by('code').from_('b').limit(10).fold().next()\n",
    "assert a == b"
   ]
  },
  {
   "cell_type": "markdown",
   "metadata": {},
   "source": [
    "Include everything from the start up to B"
   ]
  },
  {
   "cell_type": "code",
   "execution_count": 10,
   "metadata": {},
   "outputs": [
    {
     "data": {
      "text/plain": [
       "[['HKG', 'LAX'],\n",
       " ['HKG', 'LAX'],\n",
       " ['HKG', 'LAX'],\n",
       " ['HKG', 'LAX'],\n",
       " ['HKG', 'LAX'],\n",
       " ['HKG', 'LAX'],\n",
       " ['HKG', 'LAX'],\n",
       " ['HKG', 'LAX'],\n",
       " ['HKG', 'LAX'],\n",
       " ['HKG', 'LAX']]"
      ]
     },
     "execution_count": 10,
     "metadata": {},
     "output_type": "execute_result"
    }
   ],
   "source": [
    "g.V(hkVertexId).as_('a').out().as_('b').out().as_('c').path().\\\n",
    "    by('code').to('b').limit(10).fold().next()"
   ]
  },
  {
   "cell_type": "code",
   "execution_count": null,
   "metadata": {},
   "outputs": [],
   "source": [
    "%%gremlin profile\n",
    "\n",
    "g.withSideEffect(\"Neptune#fts.endpoint\", \"{your-Elasticsearch-endpoint-URL\").\n",
    "    V().has(\"city\", \"Neptune#fts Anchora~\").\n",
    "    repeat(outE('route').inV().simplePath()).times(2).\n",
    "    project('Destination', 'Route').\n",
    "        by('code').\n",
    "        by(path().by('code').by('dist'))"
   ]
  },
  {
   "cell_type": "code",
   "execution_count": null,
   "metadata": {},
   "outputs": [],
   "source": [
    "g.E().hasLabel('knows').subgraph('subGraph').cap('subGraph').next() "
   ]
  }
 ],
 "metadata": {
  "kernelspec": {
   "name": "python385jvsc74a57bd06979c95ed64b1f7d04274d83197a2b6d564011fc5a90e8eff04d7aeea7c20390",
   "display_name": "Python 3.8.5 64-bit ('BIGDATA': venv)"
  },
  "language_info": {
   "codemirror_mode": {
    "name": "ipython",
    "version": 3
   },
   "file_extension": ".py",
   "mimetype": "text/x-python",
   "name": "python",
   "nbconvert_exporter": "python",
   "pygments_lexer": "ipython3",
   "version": "3.8.5"
  },
  "metadata": {
   "interpreter": {
    "hash": "6979c95ed64b1f7d04274d83197a2b6d564011fc5a90e8eff04d7aeea7c20390"
   }
  }
 },
 "nbformat": 4,
 "nbformat_minor": 2
}