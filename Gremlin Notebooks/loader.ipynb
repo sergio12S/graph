{
 "cells": [
  {
   "cell_type": "code",
   "execution_count": 4,
   "metadata": {},
   "outputs": [],
   "source": [
    "from gremlin_python.structure.graph import Graph\n",
    "from gremlin_python.process.anonymous_traversal import traversal\n",
    "from gremlin_python.driver.driver_remote_connection import DriverRemoteConnection\n",
    "\n",
    "from gremlin_python.process.graph_traversal import __\n",
    "from gremlin_python.process.strategies import *\n",
    "from gremlin_python.process.traversal import Barrier\n",
    "from gremlin_python.process.traversal import Cardinality\n",
    "from gremlin_python.process.traversal import Column\n",
    "from gremlin_python.process.traversal import Direction\n",
    "from gremlin_python.process.traversal import Operator\n",
    "from gremlin_python.process.traversal import Order\n",
    "from gremlin_python.process.traversal import P\n",
    "from gremlin_python.process.traversal import Pick\n",
    "from gremlin_python.process.traversal import Pop\n",
    "from gremlin_python.process.traversal import Scope\n",
    "from gremlin_python.process.traversal import T\n",
    "\n",
    "#from gremlin_python import statics"
   ]
  },
  {
   "cell_type": "code",
   "execution_count": 5,
   "metadata": {},
   "outputs": [],
   "source": [
    "#statics.load_statics(globals())"
   ]
  },
  {
   "cell_type": "code",
   "execution_count": 6,
   "metadata": {},
   "outputs": [],
   "source": [
    "server = '172.17.0.2'\n",
    "port = 8182\n",
    "endpoint = 'ws://' + server + ':' + str(port) + '/gremlin'\n",
    "transport_args = {'max_content_length': 200000}\n",
    "connection = DriverRemoteConnection(endpoint, 'g', **transport_args)\n",
    "g = traversal().withRemote(connection)"
   ]
  },
  {
   "cell_type": "code",
   "execution_count": 7,
   "metadata": {},
   "outputs": [
    {
     "output_type": "execute_result",
     "data": {
      "text/plain": [
       "3133512"
      ]
     },
     "metadata": {},
     "execution_count": 7
    }
   ],
   "source": [
    "hkVertexId = g.V().has('airport', 'code', 'HKG').id().next()\n",
    "hkVertexId"
   ]
  },
  {
   "cell_type": "code",
   "execution_count": 8,
   "metadata": {},
   "outputs": [
    {
     "output_type": "execute_result",
     "data": {
      "text/plain": [
       "2867264"
      ]
     },
     "metadata": {},
     "execution_count": 8
    }
   ],
   "source": [
    "sydneyVertexId = g.V().hasLabel('airport').has('code', 'SYD').id().next()\n",
    "sydneyVertexId"
   ]
  },
  {
   "cell_type": "code",
   "execution_count": null,
   "metadata": {},
   "outputs": [],
   "source": []
  }
 ],
 "metadata": {
  "kernelspec": {
   "name": "python385jvsc74a57bd06979c95ed64b1f7d04274d83197a2b6d564011fc5a90e8eff04d7aeea7c20390",
   "display_name": "Python 3.8.5 64-bit ('BIGDATA': venv)"
  },
  "language_info": {
   "codemirror_mode": {
    "name": "ipython",
    "version": 3
   },
   "file_extension": ".py",
   "mimetype": "text/x-python",
   "name": "python",
   "nbconvert_exporter": "python",
   "pygments_lexer": "ipython3",
   "version": "3.8.5"
  },
  "metadata": {
   "interpreter": {
    "hash": "6979c95ed64b1f7d04274d83197a2b6d564011fc5a90e8eff04d7aeea7c20390"
   }
  }
 },
 "nbformat": 4,
 "nbformat_minor": 2
}