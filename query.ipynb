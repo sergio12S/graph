{
 "metadata": {
  "language_info": {
   "codemirror_mode": {
    "name": "ipython",
    "version": 3
   },
   "file_extension": ".py",
   "mimetype": "text/x-python",
   "name": "python",
   "nbconvert_exporter": "python",
   "pygments_lexer": "ipython3",
   "version": "3.8.5"
  },
  "orig_nbformat": 2,
  "kernelspec": {
   "name": "python385jvsc74a57bd06979c95ed64b1f7d04274d83197a2b6d564011fc5a90e8eff04d7aeea7c20390",
   "display_name": "Python 3.8.5 64-bit ('BIGDATA': venv)"
  },
  "metadata": {
   "interpreter": {
    "hash": "6979c95ed64b1f7d04274d83197a2b6d564011fc5a90e8eff04d7aeea7c20390"
   }
  }
 },
 "nbformat": 4,
 "nbformat_minor": 2,
 "cells": [
  {
   "cell_type": "code",
   "execution_count": 1,
   "metadata": {},
   "outputs": [],
   "source": [
    "from gremlin_python.process.anonymous_traversal import traversal\n",
    "from gremlin_python.driver.driver_remote_connection import\\\n",
    "    DriverRemoteConnection\n",
    "from gremlin_python.process.traversal import T\n",
    "from gremlin_python.process.graph_traversal import __\n",
    "import json"
   ]
  },
  {
   "source": [
    "\n",
    "# TinkerPop 3.5.0 \n",
    "## Tornado replaced \n",
    "\n",
    "Since release, the Python client has used Tornado for its websocket and other transport needs. While this generally worked well, in some cases, such as when working within Jupyter notebooks, the Gremlin client encountered conflicts when trying to create its event loop. Starting with the 3.5.0 release, the Python client no longer uses Tornado. Instead AIO HTTP is used. For most users this will have zero impact to their code. However any code using features provided by Tornado may have to be slightly revised to use AIO HTTP instead. The move to AIO HTTP removes the event loop issues experienced by users of the prior clients and opens the door for additional future improvements.\n",
    "\n",
    "## max_content_length \n",
    "\n",
    "The Gremlin Java clients provide a setting that can be used to increase, or decrease, the maximum size of the result that can be returned to a client. The Tornado default is 10,240 bytes ( 10 * 10 * 1024) but the prior Python clients did not expose a way to set this value. Starting with the 3.5.0 Python client, transport specific arguments can now be provided when a remote connection is created. These are passed as kwargs to allow for easy expansion in the future without having to add additional arguments to the API each time a new setting is needed. If a value is not provided for max_content_length the same default 10,0240 byte value is used. The code below shows an example of how this works.\n"
   ],
   "cell_type": "markdown",
   "metadata": {}
  },
  {
   "cell_type": "code",
   "execution_count": 2,
   "metadata": {},
   "outputs": [],
   "source": [
    "server = '172.17.0.2'\n",
    "port = 8182\n",
    "endpoint = 'ws://' + server + ':' + str(port) + '/gremlin'\n",
    "transport_args = {'max_content_length': 20000}\n",
    "connection = DriverRemoteConnection(endpoint, 'g', **transport_args)\n",
    "g = traversal().withRemote(connection)\n",
    "# results = g.V('1','2','3').valueMap().toList()\n",
    "# print(results)"
   ]
  },
  {
   "cell_type": "code",
   "execution_count": 3,
   "metadata": {},
   "outputs": [
    {
     "output_type": "execute_result",
     "data": {
      "text/plain": [
       "[['addV', 'person'], ['property', 'name', 'serg'], ['as', 'm'], ['addV', 'person'], ['property', 'name', 'alex'], ['as', 'v'], ['addE', 'knows'], ['from', 'm'], ['to', 'v'], ['none'], ['values', '_ipython_canary_method_should_not_exist_'], ['values', '_ipython_canary_method_should_not_exist_']]"
      ]
     },
     "metadata": {},
     "execution_count": 3
    }
   ],
   "source": [
    "g.addV('person').property('name', 'serg').as_('m'). \\\n",
    "        addV('person').property('name', 'alex').as_('v'). \\\n",
    "        addE('knows').from_('m').to('v').iterate()"
   ]
  },
  {
   "cell_type": "code",
   "execution_count": 4,
   "metadata": {},
   "outputs": [
    {
     "output_type": "stream",
     "name": "stdout",
     "text": [
      "marko: {\"name\": [\"serg\"]}\n"
     ]
    }
   ],
   "source": [
    "    print(\n",
    "        \"marko: \" + json.dumps(g.V().has('person', 'name', 'serg')\n",
    "                              .valueMap().\n",
    "                              next())\n",
    "    )"
   ]
  },
  {
   "cell_type": "code",
   "execution_count": 5,
   "metadata": {},
   "outputs": [
    {
     "output_type": "stream",
     "name": "stdout",
     "text": [
      "who marko knows: {\"name\": [\"alex\"]}\n"
     ]
    }
   ],
   "source": [
    "print(\n",
    "        \"who marko knows: \" + json.dumps(g.V().has('person', 'name', 'serg')\n",
    "                                        .out('knows')\n",
    "                                        .valueMap()\n",
    "                                        .next())\n",
    "    )"
   ]
  },
  {
   "cell_type": "code",
   "execution_count": 6,
   "metadata": {},
   "outputs": [
    {
     "output_type": "execute_result",
     "data": {
      "text/plain": [
       "[{'name': ['alex']}]"
      ]
     },
     "metadata": {},
     "execution_count": 6
    }
   ],
   "source": [
    "g.V().has('person', 'name', 'serg').out('knows').valueMap().toList()"
   ]
  },
  {
   "source": [
    "## Load a dataset"
   ],
   "cell_type": "markdown",
   "metadata": {}
  },
  {
   "cell_type": "code",
   "execution_count": 7,
   "metadata": {},
   "outputs": [
    {
     "output_type": "execute_result",
     "data": {
      "text/plain": [
       "[['io', '/home/serg/projects/Bigdata/dataset/air-routes.graph.xml'], ['read'], ['none'], ['values', '_ipython_canary_method_should_not_exist_'], ['values', '_ipython_canary_method_should_not_exist_']]"
      ]
     },
     "metadata": {},
     "execution_count": 7
    }
   ],
   "source": [
    "g.V().drop().iterate()\n",
    "g.io('/home/serg/projects/Bigdata/dataset/air-routes.graph.xml').read().iterate()"
   ]
  },
  {
   "source": [
    "## has(), hasLabel(), hasId()"
   ],
   "cell_type": "markdown",
   "metadata": {}
  },
  {
   "cell_type": "code",
   "execution_count": 8,
   "metadata": {},
   "outputs": [
    {
     "output_type": "execute_result",
     "data": {
      "text/plain": [
       "True"
      ]
     },
     "metadata": {},
     "execution_count": 8
    }
   ],
   "source": [
    "findId = g.V().hasLabel('airport').has('code', 'SYD').next()\n",
    "g.V().hasLabel('airport').has('code', 'SYD').next() == g.V().has('airport', 'code', 'SYD').next() == g.V().hasId(findId).next()"
   ]
  },
  {
   "source": [
    "## Count"
   ],
   "cell_type": "markdown",
   "metadata": {}
  },
  {
   "cell_type": "code",
   "execution_count": 9,
   "metadata": {},
   "outputs": [
    {
     "output_type": "stream",
     "name": "stdout",
     "text": [
      "3619\n",
      "237\n",
      "3374\n"
     ]
    }
   ],
   "source": [
    "print(g.V().count().next())\n",
    "print(g.V().hasLabel('country').count().next())\n",
    "print(g.V().hasLabel('airport').count().next())"
   ]
  },
  {
   "source": [
    "## valueMap()\n"
   ],
   "cell_type": "markdown",
   "metadata": {}
  },
  {
   "cell_type": "code",
   "execution_count": 10,
   "metadata": {},
   "outputs": [
    {
     "output_type": "execute_result",
     "data": {
      "text/plain": [
       "{'code': ['SYD'],\n",
       " 'type': ['airport'],\n",
       " 'desc': ['Sydney Kingsford Smith'],\n",
       " 'country': ['AU'],\n",
       " 'longest': [12999],\n",
       " 'city': ['Sydney'],\n",
       " 'elev': [21],\n",
       " 'icao': ['YSSY'],\n",
       " 'lon': [151.177001953125],\n",
       " 'region': ['AU-NSW'],\n",
       " 'runways': [3],\n",
       " 'lat': [-33.9460983276367]}"
      ]
     },
     "metadata": {},
     "execution_count": 10
    }
   ],
   "source": [
    "g.V().has('airport', 'code', 'SYD').valueMap().next()"
   ]
  },
  {
   "cell_type": "code",
   "execution_count": 11,
   "metadata": {},
   "outputs": [
    {
     "output_type": "stream",
     "name": "stdout",
     "text": [
      "SYD\nairport\nSydney Kingsford Smith\nAU\n12999\nSydney\n21\nYSSY\n151.177001953125\nAU-NSW\n3\n-33.9460983276367\n"
     ]
    }
   ],
   "source": [
    "# Check all data in request using next()\n",
    "results = g.V(findId).values()\n",
    "count = g.V(findId).values().count().next()\n",
    "for c in range(count):\n",
    "  print(results.next())"
   ]
  },
  {
   "cell_type": "code",
   "execution_count": 12,
   "metadata": {},
   "outputs": [
    {
     "output_type": "stream",
     "name": "stdout",
     "text": [
      "Sydney Kingsford Smith airport has 3 runways...\n"
     ]
    }
   ],
   "source": [
    "req = g.V(findId).values('desc', 'runways')\n",
    "print(f'{req.next()} airport has {req.next()} runways...')\n"
   ]
  },
  {
   "source": [
    "## unfold() fold()"
   ],
   "cell_type": "markdown",
   "metadata": {}
  },
  {
   "cell_type": "code",
   "execution_count": 13,
   "metadata": {},
   "outputs": [
    {
     "output_type": "stream",
     "name": "stdout",
     "text": [
      "0, {'code': ['SYD']}\n1, {'type': ['airport']}\n2, {'desc': ['Sydney Kingsford Smith']}\n3, {'country': ['AU']}\n4, {'longest': [12999]}\n5, {'city': ['Sydney']}\n6, {'elev': [21]}\n7, {'icao': ['YSSY']}\n8, {'lon': [151.177001953125]}\n9, {'region': ['AU-NSW']}\n10, {'runways': [3]}\n11, {'lat': [-33.9460983276367]}\n"
     ]
    }
   ],
   "source": [
    "\n",
    "req = g.V(findId).valueMap().unfold()\n",
    "count = g.V(findId).values().count().next()\n",
    "for i in range(count):\n",
    "  print(f'{str(i)}, {req.next()}')\n"
   ]
  },
  {
   "cell_type": "code",
   "execution_count": 14,
   "metadata": {},
   "outputs": [
    {
     "output_type": "execute_result",
     "data": {
      "text/plain": [
       "[{'code': ['SYD']},\n",
       " {'type': ['airport']},\n",
       " {'desc': ['Sydney Kingsford Smith']},\n",
       " {'country': ['AU']},\n",
       " {'longest': [12999]},\n",
       " {'city': ['Sydney']},\n",
       " {'elev': [21]},\n",
       " {'icao': ['YSSY']},\n",
       " {'lon': [151.177001953125]},\n",
       " {'region': ['AU-NSW']},\n",
       " {'runways': [3]},\n",
       " {'lat': [-33.9460983276367]}]"
      ]
     },
     "metadata": {},
     "execution_count": 14
    }
   ],
   "source": [
    "req = g.V(findId).valueMap().unfold().fold().next()\n",
    "req"
   ]
  },
  {
   "source": [
    "## hasNot(), not()"
   ],
   "cell_type": "markdown",
   "metadata": {}
  },
  {
   "cell_type": "code",
   "execution_count": 16,
   "metadata": {},
   "outputs": [
    {
     "output_type": "stream",
     "name": "stdout",
     "text": [
      "{'code': ['AL'], 'type': ['country'], 'desc': ['Albania']}\n{'code': ['BB'], 'type': ['country'], 'desc': ['Barbados']}\n{'code': ['BO'], 'type': ['country'], 'desc': ['Bolivia']}\n{'code': ['BQ'], 'type': ['country'], 'desc': ['Bonaire - Sint Eustatius and Saba']}\n{'code': ['BG'], 'type': ['country'], 'desc': ['Bulgaria']}\n{'code': ['BI'], 'type': ['country'], 'desc': ['Burundi']}\n{'code': ['KY'], 'type': ['country'], 'desc': ['Cayman Islands']}\n{'code': ['CF'], 'type': ['country'], 'desc': ['Central African Republic']}\n{'code': ['CC'], 'type': ['country'], 'desc': ['Cocos (Keeling) Islands']}\n{'code': ['CD'], 'type': ['country'], 'desc': ['Democratic Republic of the Congo']}\n"
     ]
    }
   ],
   "source": [
    "req = g.V().hasNot('region').valueMap()\n",
    "count = g.V().hasNot('region').count().next()\n",
    "for c in range(count):\n",
    "    if c == 10:\n",
    "        break\n",
    "    print(req.next())"
   ]
  },
  {
   "cell_type": "code",
   "execution_count": 17,
   "metadata": {},
   "outputs": [],
   "source": [
    "same_count = g.V().not_(__.has('region')).count().next()"
   ]
  },
  {
   "cell_type": "code",
   "execution_count": 18,
   "metadata": {},
   "outputs": [
    {
     "output_type": "execute_result",
     "data": {
      "text/plain": [
       "[v[5849112], v[5853208], v[5857304]]"
      ]
     },
     "metadata": {},
     "execution_count": 18
    }
   ],
   "source": [
    "g.V().hasLabel('airport').next(3)"
   ]
  },
  {
   "cell_type": "code",
   "execution_count": 19,
   "metadata": {},
   "outputs": [
    {
     "output_type": "execute_result",
     "data": {
      "text/plain": [
       "43400"
      ]
     },
     "metadata": {},
     "execution_count": 19
    }
   ],
   "source": [
    "g.E().hasLabel('route').count().next()"
   ]
  },
  {
   "cell_type": "code",
   "execution_count": 20,
   "metadata": {},
   "outputs": [
    {
     "output_type": "stream",
     "name": "stdout",
     "text": [
      "Melbourne International Airport\nWellington International Airport\nManila, Ninoy Aquino International Airport\nSantiago, Comodoro Arturo Merino Benitez International Airport\nCairns International Airport\nDarwin International Airport\nIndira Gandhi International Airport\nAuckland International Airport\nChristchurch International Airport\nTokyo Haneda International Airport\nDoha, Hamad International Airport\nAlice Springs Airport\nDallas/Fort Worth International Airport\nSoekarno-Hatta International Airport\nHonolulu International Airport\nVancouver\nGuangzhou Baiyun International Airport\nPerth International Airport\nCanberra International Airport\nSeoul, Incheon International Airport\nSunshine Coast Airport\nDubai International Airport\nHong Kong - Chek Lap Kok International Airport\nSan Francisco International Airport\nSingapore, Changi International Airport\nKuala Lumpur International Airport\nHo Chi Minh City, Tan Son Nhat International Airport\nAyers Rock Connellan Airport\nGold Coast Airport\nAbu Dhabi International Airport\nAdelaide International Airport\nTaiwan Taoyuan International Airport\nKunming Wujiaba International Airport\nPort Moresby Jacksons International Airport\nLismore Airport\nMoruya Airport\nMackay Airport\nTownsville Airport\nHervey Bay Airport\nKarratha Airport\nParkes Airport\nChongqing Jiangbei International Airport\nRarotonga International Airport\nQueenstown International Airport\nBroome International Airport\nFua'amotu International Airport\nAvalon Airport\nBallina Byron Gateway Airport\nOrange Airport\nMildura Airport\nLaunceston Airport\nPort Macquarie Airport\nDubbo City Regional Airport\nNewcastle Airport\nArmidale Airport\nBroken Hill Airport\nGladstone Airport\nLord Howe Island Airport\nMerimbula Airport\nNarrandera Airport\nNorfolk Island International Airport\nPort Vila Bauerfield Airport\nHamilton Island Airport\nGriffith Airport\nBrisbane West Wellcamp Airport\nNarrabri Airport\nLos Angeles International Airport\nBeijing Capital International Airport\nShanghai - Pudong International Airport\nSuvarnabhumi Bangkok International Airport\nJohannesburg, OR Tambo International Airport\nBali - Ngurah Rai International Airport\nPhuket International Airport\nTokyo Narita\nBrisbane International Airport\nNoi Bai International Airport\nFiji, Nadi International Airport\nNanjing Lukou Airport\nHangzhou Xiaoshan International Airport\nChengdu Shuangliu International Airport\nWuhan Tianhe International Airport\nChangsha Huanghua International Airport\nProserpine Whitsunday Coast Airport\nBathurst Airport\nHobart International Airport\nTamworth Airport\nWagga Wagga City Airport\nTaree Airport\nLa Tontouta International Airport\nXi'an Xianyang International Airport\nNausori International Airport\nAlbury Airport\nMoree Airport\nCoffs Harbour Airport\n"
     ]
    }
   ],
   "source": [
    "results = g.V(findId).inE('route').outV().values('desc')\n",
    "count = g.V(findId).inE('route').outV().count().next()\n",
    "for c in range(count):\n",
    "    print(results.next())"
   ]
  },
  {
   "source": [
    "## Get types of vertices"
   ],
   "cell_type": "markdown",
   "metadata": {}
  },
  {
   "cell_type": "code",
   "execution_count": 21,
   "metadata": {},
   "outputs": [
    {
     "output_type": "stream",
     "name": "stdout",
     "text": [
      "{'continent': 7, 'country': 237, 'version': 1, 'airport': 3374}\n"
     ]
    }
   ],
   "source": [
    "a = g.V().groupCount().by(T.label).next()\n",
    "print(a)"
   ]
  },
  {
   "cell_type": "code",
   "execution_count": 22,
   "metadata": {},
   "outputs": [
    {
     "output_type": "execute_result",
     "data": {
      "text/plain": [
       "{'FR': 58, 'GR': 39, 'BE': 5}"
      ]
     },
     "metadata": {},
     "execution_count": 22
    }
   ],
   "source": [
    "g.V().hasLabel('airport').groupCount().by('country').select('FR','GR','BE').next()"
   ]
  },
  {
   "cell_type": "code",
   "execution_count": 23,
   "metadata": {},
   "outputs": [
    {
     "output_type": "execute_result",
     "data": {
      "text/plain": [
       "{'EU': 583, 'AS': 932, 'NA': 978, 'OC': 284, 'AF': 294, 'AN': 0, 'SA': 303}"
      ]
     },
     "metadata": {},
     "execution_count": 23
    }
   ],
   "source": [
    "g.V().hasLabel('continent').group().\\\n",
    "    by('code').by(__.out().count()).next()"
   ]
  },
  {
   "cell_type": "code",
   "execution_count": 24,
   "metadata": {},
   "outputs": [
    {
     "output_type": "execute_result",
     "data": {
      "text/plain": [
       "{'ORD': [8], 'BNA': [4], 'BWI': [3], 'IAD': [4], 'FLL': [2]}"
      ]
     },
     "metadata": {},
     "execution_count": 24
    }
   ],
   "source": [
    "g.V().hasLabel('airport').limit(5).group().\\\n",
    "    by('code').by('runways').next()"
   ]
  },
  {
   "cell_type": "code",
   "execution_count": null,
   "metadata": {},
   "outputs": [],
   "source": []
  }
 ]
}