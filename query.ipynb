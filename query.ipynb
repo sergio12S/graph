{
 "metadata": {
  "language_info": {
   "codemirror_mode": {
    "name": "ipython",
    "version": 3
   },
   "file_extension": ".py",
   "mimetype": "text/x-python",
   "name": "python",
   "nbconvert_exporter": "python",
   "pygments_lexer": "ipython3",
   "version": "3.8.5"
  },
  "orig_nbformat": 2,
  "kernelspec": {
   "name": "python385jvsc74a57bd06979c95ed64b1f7d04274d83197a2b6d564011fc5a90e8eff04d7aeea7c20390",
   "display_name": "Python 3.8.5 64-bit ('BIGDATA': venv)"
  },
  "metadata": {
   "interpreter": {
    "hash": "6979c95ed64b1f7d04274d83197a2b6d564011fc5a90e8eff04d7aeea7c20390"
   }
  }
 },
 "nbformat": 4,
 "nbformat_minor": 2,
 "cells": [
  {
   "cell_type": "code",
   "execution_count": 10,
   "metadata": {},
   "outputs": [],
   "source": [
    "from gremlin_python.process.anonymous_traversal import traversal\n",
    "from gremlin_python.driver.driver_remote_connection import\\\n",
    "    DriverRemoteConnection\n",
    "from gremlin_python.process.traversal import T\n",
    "from gremlin_python.process.traversal import P\n",
    "from gremlin_python.process.graph_traversal import __\n",
    "import json\n",
    "from gremlin_python.process.traversal import Order"
   ]
  },
  {
   "cell_type": "code",
   "execution_count": 11,
   "metadata": {},
   "outputs": [],
   "source": [
    "server = '172.17.0.2'\n",
    "port = 8182\n",
    "endpoint = 'ws://' + server + ':' + str(port) + '/gremlin'\n",
    "transport_args = {'max_content_length': 200000}\n",
    "connection = DriverRemoteConnection(endpoint, 'g', **transport_args)\n",
    "g = traversal().withRemote(connection)\n",
    "# results = g.V('1','2','3').valueMap().toList()\n",
    "# print(results)"
   ]
  },
  {
   "cell_type": "code",
   "execution_count": 13,
   "metadata": {},
   "outputs": [
    {
     "output_type": "execute_result",
     "data": {
      "text/plain": [
       "[['addV', 'person'], ['property', 'name', 'serg'], ['as', 'm'], ['addV', 'person'], ['property', 'name', 'alex'], ['as', 'v'], ['addE', 'knows'], ['from', 'm'], ['to', 'v'], ['none'], ['values', '_ipython_canary_method_should_not_exist_'], ['values', '_ipython_canary_method_should_not_exist_']]"
      ]
     },
     "metadata": {},
     "execution_count": 13
    }
   ],
   "source": [
    "g.addV('person').property('name', 'serg').as_('m'). \\\n",
    "        addV('person').property('name', 'alex').as_('v'). \\\n",
    "        addE('knows').from_('m').to('v').iterate()"
   ]
  },
  {
   "cell_type": "code",
   "execution_count": 14,
   "metadata": {},
   "outputs": [
    {
     "output_type": "execute_result",
     "data": {
      "text/plain": [
       "[{'name': ['serg']}]"
      ]
     },
     "metadata": {},
     "execution_count": 14
    }
   ],
   "source": [
    "g.V().has('person', 'name', 'serg').valueMap().fold().next()"
   ]
  },
  {
   "cell_type": "code",
   "execution_count": 15,
   "metadata": {},
   "outputs": [
    {
     "output_type": "stream",
     "name": "stdout",
     "text": [
      "marko: {\"name\": [\"serg\"]}\n"
     ]
    }
   ],
   "source": [
    "    print(\n",
    "        \"marko: \" + json.dumps(g.V().has('person', 'name', 'serg')\n",
    "                              .valueMap().\n",
    "                              next())\n",
    "    )"
   ]
  },
  {
   "cell_type": "code",
   "execution_count": 16,
   "metadata": {},
   "outputs": [
    {
     "output_type": "stream",
     "name": "stdout",
     "text": [
      "who marko knows: {\"name\": [\"alex\"]}\n"
     ]
    }
   ],
   "source": [
    "print(\n",
    "        \"who marko knows: \" + json.dumps(g.V().has('person', 'name', 'serg')\n",
    "                                        .out('knows')\n",
    "                                        .valueMap()\n",
    "                                        .next())\n",
    "    )"
   ]
  },
  {
   "cell_type": "code",
   "execution_count": 17,
   "metadata": {},
   "outputs": [
    {
     "output_type": "execute_result",
     "data": {
      "text/plain": [
       "{'name': ['alex']}"
      ]
     },
     "metadata": {},
     "execution_count": 17
    }
   ],
   "source": [
    "# g.V().drop().iterate()\n",
    "g.V().hasLabel('person').valueMap().next()"
   ]
  },
  {
   "source": [
    "## Load a dataset"
   ],
   "cell_type": "markdown",
   "metadata": {}
  },
  {
   "cell_type": "code",
   "execution_count": 18,
   "metadata": {},
   "outputs": [
    {
     "output_type": "execute_result",
     "data": {
      "text/plain": [
       "[['io', '/home/serg/projects/Bigdata/dataset/air-routes.graph.xml'], ['read'], ['none'], ['values', '_ipython_canary_method_should_not_exist_'], ['values', '_ipython_canary_method_should_not_exist_']]"
      ]
     },
     "metadata": {},
     "execution_count": 18
    }
   ],
   "source": [
    "g.V().drop().iterate()\n",
    "g.io('/home/serg/projects/Bigdata/dataset/air-routes.graph.xml').read().iterate()"
   ]
  },
  {
   "source": [
    "## Explorara data"
   ],
   "cell_type": "markdown",
   "metadata": {}
  },
  {
   "cell_type": "code",
   "execution_count": 19,
   "metadata": {},
   "outputs": [
    {
     "output_type": "stream",
     "name": "stderr",
     "text": [
      "Unclosed client session\n",
      "client_session: <aiohttp.client.ClientSession object at 0x7f9658ced3a0>\n",
      "Unclosed client session\n",
      "client_session: <aiohttp.client.ClientSession object at 0x7f96435c3040>\n",
      "Unclosed client session\n",
      "client_session: <aiohttp.client.ClientSession object at 0x7f96435c3e50>\n",
      "Unclosed client session\n",
      "client_session: <aiohttp.client.ClientSession object at 0x7f96436f91f0>\n"
     ]
    },
    {
     "output_type": "execute_result",
     "data": {
      "text/plain": [
       "{'code': ['SFO'],\n",
       " 'type': ['airport'],\n",
       " 'desc': ['San Francisco International Airport'],\n",
       " 'country': ['US'],\n",
       " 'longest': [11870],\n",
       " 'city': ['San Francisco'],\n",
       " 'elev': [13],\n",
       " 'icao': ['KSFO'],\n",
       " 'lon': [-122.375],\n",
       " 'region': ['US-CA'],\n",
       " 'runways': [4],\n",
       " 'lat': [37.6189994812012]}"
      ]
     },
     "metadata": {},
     "execution_count": 19
    }
   ],
   "source": [
    "g.V().valueMap().next()"
   ]
  },
  {
   "cell_type": "code",
   "execution_count": 20,
   "metadata": {},
   "outputs": [
    {
     "output_type": "execute_result",
     "data": {
      "text/plain": [
       "['airport', 'country', 'continent', 'version']"
      ]
     },
     "metadata": {},
     "execution_count": 20
    }
   ],
   "source": [
    "# Find uniq label\n",
    "g.V().label().dedup().toList()"
   ]
  },
  {
   "cell_type": "code",
   "execution_count": 21,
   "metadata": {},
   "outputs": [
    {
     "output_type": "execute_result",
     "data": {
      "text/plain": [
       "{'continent': 7, 'country': 237, 'version': 1, 'airport': 3374}"
      ]
     },
     "metadata": {},
     "execution_count": 21
    }
   ],
   "source": [
    " # Count label\n",
    " g.V().groupCount().by(T.label).next()"
   ]
  },
  {
   "cell_type": "code",
   "execution_count": 22,
   "metadata": {},
   "outputs": [
    {
     "output_type": "execute_result",
     "data": {
      "text/plain": [
       "{'contains': 6748, 'route': 43400}"
      ]
     },
     "metadata": {},
     "execution_count": 22
    }
   ],
   "source": [
    " # Count label\n",
    " g.E().groupCount().by(T.label).next()"
   ]
  },
  {
   "cell_type": "code",
   "execution_count": 30,
   "metadata": {},
   "outputs": [
    {
     "output_type": "execute_result",
     "data": {
      "text/plain": [
       "{0: 7,\n",
       " 1: 75,\n",
       " 2: 53,\n",
       " 3: 11,\n",
       " 4: 759,\n",
       " 5: 56,\n",
       " 6: 611,\n",
       " 7: 42,\n",
       " 8: 360,\n",
       " 9: 17,\n",
       " 10: 221,\n",
       " 11: 16,\n",
       " 12: 137,\n",
       " 13: 19,\n",
       " 14: 112,\n",
       " 526: 1,\n",
       " 15: 12,\n",
       " 16: 87,\n",
       " 17: 6,\n",
       " 18: 77,\n",
       " 19: 7,\n",
       " 20: 68,\n",
       " 21: 4,\n",
       " 22: 58,\n",
       " 23: 3,\n",
       " 24: 37,\n",
       " 25: 5,\n",
       " 26: 43,\n",
       " 27: 2,\n",
       " 28: 37,\n",
       " 29: 2,\n",
       " 30: 20,\n",
       " 542: 1,\n",
       " 543: 1,\n",
       " 31: 4,\n",
       " 32: 29,\n",
       " 33: 4,\n",
       " 34: 24,\n",
       " 546: 1,\n",
       " 36: 16,\n",
       " 37: 2,\n",
       " 38: 18,\n",
       " 39: 3,\n",
       " 40: 24,\n",
       " 41: 1,\n",
       " 42: 25,\n",
       " 44: 13,\n",
       " 45: 2,\n",
       " 46: 24,\n",
       " 48: 14,\n",
       " 49: 1,\n",
       " 50: 9,\n",
       " 51: 3,\n",
       " 52: 7,\n",
       " 54: 7,\n",
       " 55: 2,\n",
       " 56: 7,\n",
       " 58: 7,\n",
       " 59: 2,\n",
       " 60: 6,\n",
       " 62: 13,\n",
       " 63: 1,\n",
       " 64: 13,\n",
       " 65: 1,\n",
       " 66: 10,\n",
       " 67: 2,\n",
       " 579: 1,\n",
       " 68: 15,\n",
       " 70: 6,\n",
       " 583: 1,\n",
       " 72: 11,\n",
       " 73: 3,\n",
       " 74: 6,\n",
       " 75: 1,\n",
       " 76: 8,\n",
       " 77: 2,\n",
       " 78: 3,\n",
       " 80: 10,\n",
       " 81: 1,\n",
       " 82: 6,\n",
       " 84: 7,\n",
       " 86: 8,\n",
       " 87: 2,\n",
       " 88: 5,\n",
       " 90: 7,\n",
       " 92: 5,\n",
       " 94: 2,\n",
       " 96: 8,\n",
       " 98: 6,\n",
       " 100: 1,\n",
       " 102: 6,\n",
       " 104: 3,\n",
       " 106: 4,\n",
       " 108: 3,\n",
       " 110: 4,\n",
       " 112: 6,\n",
       " 113: 1,\n",
       " 114: 3,\n",
       " 115: 1,\n",
       " 116: 2,\n",
       " 118: 2,\n",
       " 120: 9,\n",
       " 122: 3,\n",
       " 124: 6,\n",
       " 126: 5,\n",
       " 128: 7,\n",
       " 130: 5,\n",
       " 132: 2,\n",
       " 134: 1,\n",
       " 136: 6,\n",
       " 137: 1,\n",
       " 138: 3,\n",
       " 140: 1,\n",
       " 141: 1,\n",
       " 142: 3,\n",
       " 144: 1,\n",
       " 146: 1,\n",
       " 148: 2,\n",
       " 150: 3,\n",
       " 152: 2,\n",
       " 154: 2,\n",
       " 156: 2,\n",
       " 158: 2,\n",
       " 160: 2,\n",
       " 162: 4,\n",
       " 164: 1,\n",
       " 166: 2,\n",
       " 168: 3,\n",
       " 170: 3,\n",
       " 172: 4,\n",
       " 174: 2,\n",
       " 180: 1,\n",
       " 182: 1,\n",
       " 184: 2,\n",
       " 186: 1,\n",
       " 188: 3,\n",
       " 190: 5,\n",
       " 192: 2,\n",
       " 196: 2,\n",
       " 198: 2,\n",
       " 203: 1,\n",
       " 204: 1,\n",
       " 206: 1,\n",
       " 209: 1,\n",
       " 210: 3,\n",
       " 212: 5,\n",
       " 213: 1,\n",
       " 214: 2,\n",
       " 216: 3,\n",
       " 218: 1,\n",
       " 220: 2,\n",
       " 222: 1,\n",
       " 226: 1,\n",
       " 228: 1,\n",
       " 230: 1,\n",
       " 232: 1,\n",
       " 234: 2,\n",
       " 237: 1,\n",
       " 238: 1,\n",
       " 240: 1,\n",
       " 246: 1,\n",
       " 248: 1,\n",
       " 250: 2,\n",
       " 254: 1,\n",
       " 256: 1,\n",
       " 260: 1,\n",
       " 262: 1,\n",
       " 266: 1,\n",
       " 268: 1,\n",
       " 274: 1,\n",
       " 276: 1,\n",
       " 284: 2,\n",
       " 286: 1,\n",
       " 288: 2,\n",
       " 290: 2,\n",
       " 292: 2,\n",
       " 294: 2,\n",
       " 303: 1,\n",
       " 304: 1,\n",
       " 306: 1,\n",
       " 314: 1,\n",
       " 326: 1,\n",
       " 328: 1,\n",
       " 329: 1,\n",
       " 332: 1,\n",
       " 334: 1,\n",
       " 338: 1,\n",
       " 344: 1,\n",
       " 362: 1,\n",
       " 364: 1,\n",
       " 365: 1,\n",
       " 366: 1,\n",
       " 374: 1,\n",
       " 375: 1,\n",
       " 378: 1,\n",
       " 380: 1,\n",
       " 382: 1,\n",
       " 384: 1,\n",
       " 386: 2,\n",
       " 392: 1,\n",
       " 402: 1,\n",
       " 404: 1,\n",
       " 932: 1,\n",
       " 430: 1,\n",
       " 444: 1,\n",
       " 460: 1,\n",
       " 466: 2,\n",
       " 978: 1,\n",
       " 471: 1,\n",
       " 476: 1}"
      ]
     },
     "metadata": {},
     "execution_count": 30
    }
   ],
   "source": [
    "# Распределение степеней\n",
    "g.V().groupCount().by(__.bothE().count()).next()"
   ]
  },
  {
   "cell_type": "code",
   "execution_count": 31,
   "metadata": {},
   "outputs": [
    {
     "output_type": "stream",
     "name": "stderr",
     "text": [
      "Unclosed client session\nclient_session: <aiohttp.client.ClientSession object at 0x7f96435d47c0>\n"
     ]
    },
    {
     "output_type": "execute_result",
     "data": {
      "text/plain": [
       "[{'code': ['SFO'],\n",
       "  'type': ['airport'],\n",
       "  'desc': ['San Francisco International Airport'],\n",
       "  'country': ['US'],\n",
       "  'longest': [11870],\n",
       "  'city': ['San Francisco'],\n",
       "  'elev': [13],\n",
       "  'icao': ['KSFO'],\n",
       "  'lon': [-122.375],\n",
       "  'region': ['US-CA'],\n",
       "  'runways': [4],\n",
       "  'lat': [37.6189994812012]}]"
      ]
     },
     "metadata": {},
     "execution_count": 31
    }
   ],
   "source": [
    "# Value in airport\n",
    "g.V().hasLabel('airport').valueMap().next(1)"
   ]
  },
  {
   "cell_type": "code",
   "execution_count": 32,
   "metadata": {},
   "outputs": [
    {
     "output_type": "execute_result",
     "data": {
      "text/plain": [
       "[{'code': ['AM'], 'type': ['country'], 'desc': ['Armenia']}]"
      ]
     },
     "metadata": {},
     "execution_count": 32
    }
   ],
   "source": [
    "# Value in country\n",
    "g.V().hasLabel('country').valueMap().next(1)"
   ]
  },
  {
   "cell_type": "code",
   "execution_count": 33,
   "metadata": {},
   "outputs": [
    {
     "output_type": "execute_result",
     "data": {
      "text/plain": [
       "[{'code': ['AS'], 'type': ['continent'], 'desc': ['Asia']}]"
      ]
     },
     "metadata": {},
     "execution_count": 33
    }
   ],
   "source": [
    "# Value in continent\n",
    "g.V().hasLabel('continent').valueMap().next(1)"
   ]
  },
  {
   "cell_type": "code",
   "execution_count": 34,
   "metadata": {},
   "outputs": [
    {
     "output_type": "execute_result",
     "data": {
      "text/plain": [
       "[{'code': ['0.77'],\n",
       "  'type': ['version'],\n",
       "  'desc': ['Version: 0.77 Generated: 2017-10-06 16:24:40 UTC\\nGraph created by Kelvin R. Lawrence\\nPlease let me know of any errors you find in the graph.']}]"
      ]
     },
     "metadata": {},
     "execution_count": 34
    }
   ],
   "source": [
    "# Value in continent\n",
    "g.V().hasLabel('version').valueMap().next(1)"
   ]
  },
  {
   "cell_type": "code",
   "execution_count": 35,
   "metadata": {},
   "outputs": [
    {
     "output_type": "execute_result",
     "data": {
      "text/plain": [
       "[{'dist': 1500},\n",
       " {'dist': 2010},\n",
       " {'dist': 2130},\n",
       " {'dist': 2450},\n",
       " {'dist': 2410},\n",
       " {'dist': 2577},\n",
       " {'dist': 1460},\n",
       " {'dist': 371},\n",
       " {'dist': 371},\n",
       " {'dist': 1630}]"
      ]
     },
     "metadata": {},
     "execution_count": 35
    }
   ],
   "source": [
    "g.E().hasLabel('route').valueMap().next(10)"
   ]
  },
  {
   "cell_type": "code",
   "execution_count": 36,
   "metadata": {},
   "outputs": [
    {
     "output_type": "execute_result",
     "data": {
      "text/plain": [
       "[{}, {}, {}, {}, {}, {}, {}, {}, {}, {}]"
      ]
     },
     "metadata": {},
     "execution_count": 36
    }
   ],
   "source": [
    "g.E().hasLabel('contains').valueMap().next(10)"
   ]
  },
  {
   "cell_type": "code",
   "execution_count": 37,
   "metadata": {},
   "outputs": [
    {
     "output_type": "execute_result",
     "data": {
      "text/plain": [
       "50148"
      ]
     },
     "metadata": {},
     "execution_count": 37
    }
   ],
   "source": [
    "g.E().dedup().count().next()"
   ]
  },
  {
   "cell_type": "code",
   "execution_count": 40,
   "metadata": {},
   "outputs": [
    {
     "output_type": "execute_result",
     "data": {
      "text/plain": [
       "[{'Udaipur': 1},\n",
       " {'Elim': 1},\n",
       " {'Indore': 1},\n",
       " {'San Jose': 4},\n",
       " {'Can Tho': 1},\n",
       " {'Chico': 1},\n",
       " {'Ishigaki': 1},\n",
       " {'International Falls': 1},\n",
       " {'Belo Horizonte': 2},\n",
       " {'Denizli': 1}]"
      ]
     },
     "metadata": {},
     "execution_count": 40
    }
   ],
   "source": [
    "g.V().hasLabel('airport').groupCount().by('city').order().by(Order.asc).unfold().next(10)"
   ]
  },
  {
   "cell_type": "code",
   "execution_count": 98,
   "metadata": {},
   "outputs": [
    {
     "output_type": "execute_result",
     "data": {
      "text/plain": [
       "[{1: 2316}, {2: 762}, {3: 225}, {4: 51}, {5: 14}, {6: 4}, {7: 1}, {8: 1}]"
      ]
     },
     "metadata": {},
     "execution_count": 98
    }
   ],
   "source": [
    "g.V().hasLabel('airport').groupCount().by('runways').unfold().next(10)"
   ]
  },
  {
   "cell_type": "code",
   "execution_count": 41,
   "metadata": {},
   "outputs": [
    {
     "output_type": "execute_result",
     "data": {
      "text/plain": [
       "[{'NZ-BOP': 3},\n",
       " {'MZ-A': 1},\n",
       " {'MZ-B': 1},\n",
       " {'IN-TN': 5},\n",
       " {'MZ-N': 1},\n",
       " {'PW-004': 1},\n",
       " {'MZ-I': 2},\n",
       " {'IN-TR': 1},\n",
       " {'BS-FP': 1},\n",
       " {'MZ-T': 1}]"
      ]
     },
     "metadata": {},
     "execution_count": 41
    }
   ],
   "source": [
    "g.V().hasLabel('airport').groupCount().by('region').unfold().next(10)"
   ]
  },
  {
   "cell_type": "code",
   "execution_count": 113,
   "metadata": {},
   "outputs": [
    {
     "output_type": "execute_result",
     "data": {
      "text/plain": [
       "[{1: 2316, 2: 762, 3: 225, 4: 51, 5: 14, 6: 4, 7: 1, 8: 1}]"
      ]
     },
     "metadata": {},
     "execution_count": 113
    }
   ],
   "source": [
    "g.V().hasLabel('airport').groupCount().by('runways').fold().next()"
   ]
  },
  {
   "cell_type": "code",
   "execution_count": 136,
   "metadata": {},
   "outputs": [
    {
     "output_type": "execute_result",
     "data": {
      "text/plain": [
       "['Chicago Midway International Airport',\n",
       " 'General Mitchell International Airport',\n",
       " 'George Bush Intercontinental',\n",
       " 'Gisborne Airport',\n",
       " 'Hamilton International Airport',\n",
       " 'Hartsfield - Jackson Atlanta International Airport',\n",
       " 'Karup Airport',\n",
       " 'Napier Airport',\n",
       " 'Nelson Airport',\n",
       " 'Paraparaumu Airport',\n",
       " 'Shannon Airport',\n",
       " 'Tauranga Airport',\n",
       " 'Toronto Pearson International Airport',\n",
       " 'Ufa International Airport']"
      ]
     },
     "metadata": {},
     "execution_count": 136
    }
   ],
   "source": [
    "g.V().has('runways', P.eq(5)).values('desc').order().by(Order.asc).fold().next()"
   ]
  },
  {
   "cell_type": "code",
   "execution_count": 16,
   "metadata": {},
   "outputs": [
    {
     "output_type": "execute_result",
     "data": {
      "text/plain": [
       "{'dist': 973}"
      ]
     },
     "metadata": {},
     "execution_count": 16
    }
   ],
   "source": [
    "g.E().valueMap().next()"
   ]
  },
  {
   "cell_type": "code",
   "execution_count": 229,
   "metadata": {},
   "outputs": [
    {
     "output_type": "execute_result",
     "data": {
      "text/plain": [
       "1164.7471658986176"
      ]
     },
     "metadata": {},
     "execution_count": 229
    }
   ],
   "source": [
    "g.V().hasLabel('airport').outE('route').values('dist').order().by(Order.desc).mean().next() # limit(10).toList()"
   ]
  },
  {
   "cell_type": "code",
   "execution_count": 244,
   "metadata": {},
   "outputs": [
    {
     "output_type": "stream",
     "name": "stdout",
     "text": [
      "225296\n"
     ]
    }
   ],
   "source": [
    "random_id = g.V().hasLabel('airport').sample(1).id().next()\n",
    "print(random_id)"
   ]
  },
  {
   "cell_type": "code",
   "execution_count": 245,
   "metadata": {},
   "outputs": [
    {
     "output_type": "execute_result",
     "data": {
      "text/plain": [
       "{'code': ['AMS'],\n",
       " 'type': ['airport'],\n",
       " 'desc': ['Amsterdam Airport Schiphol'],\n",
       " 'country': ['NL'],\n",
       " 'longest': [12467],\n",
       " 'city': ['Amsterdam'],\n",
       " 'elev': [-11],\n",
       " 'icao': ['EHAM'],\n",
       " 'lon': [4.76388978958],\n",
       " 'region': ['NL-NH'],\n",
       " 'runways': [6],\n",
       " 'lat': [52.3086013794]}"
      ]
     },
     "metadata": {},
     "execution_count": 245
    }
   ],
   "source": [
    "g.V(random_id).in_('route').valueMap().next()"
   ]
  },
  {
   "cell_type": "code",
   "execution_count": 247,
   "metadata": {},
   "outputs": [
    {
     "output_type": "execute_result",
     "data": {
      "text/plain": [
       "'Linköping City Airport'"
      ]
     },
     "metadata": {},
     "execution_count": 247
    }
   ],
   "source": [
    "g.V(random_id).outE('route').outV().values('desc').next()"
   ]
  },
  {
   "cell_type": "code",
   "execution_count": 261,
   "metadata": {},
   "outputs": [
    {
     "output_type": "execute_result",
     "data": {
      "text/plain": [
       "['Amsterdam', 'Copenhagen']"
      ]
     },
     "metadata": {},
     "execution_count": 261
    }
   ],
   "source": [
    " # Return the unique vertices of what's incoming to random_id and what's outgoing from random_id\n",
    " g.V(random_id).both().dedup().values('runway', 'city').fold().next()"
   ]
  },
  {
   "cell_type": "code",
   "execution_count": 272,
   "metadata": {},
   "outputs": [
    {
     "output_type": "execute_result",
     "data": {
      "text/plain": [
       "[599, 599, 224, 224]"
      ]
     },
     "metadata": {},
     "execution_count": 272
    }
   ],
   "source": [
    " g.V(random_id).bothE().dedup().values('dist').order().by(Order.desc).fold().next()"
   ]
  },
  {
   "cell_type": "code",
   "execution_count": 280,
   "metadata": {},
   "outputs": [
    {
     "output_type": "execute_result",
     "data": {
      "text/plain": [
       "['Linköping', 'Copenhagen', 'Amsterdam']"
      ]
     },
     "metadata": {},
     "execution_count": 280
    }
   ],
   "source": [
    " # Return the unique vertices connected to either ends of edges that are connected to random_id (both incoming and outgoing)\n",
    " g.V(random_id).bothE().bothV().dedup().values('city').order().by(Order.desc).fold().next()"
   ]
  },
  {
   "cell_type": "code",
   "execution_count": 290,
   "metadata": {},
   "outputs": [
    {
     "output_type": "execute_result",
     "data": {
      "text/plain": [
       "['Amsterdam', 'Copenhagen']"
      ]
     },
     "metadata": {},
     "execution_count": 290
    }
   ],
   "source": [
    "g.V(random_id).in_('route').values('city').fold().next()"
   ]
  },
  {
   "cell_type": "code",
   "execution_count": 291,
   "metadata": {},
   "outputs": [
    {
     "output_type": "execute_result",
     "data": {
      "text/plain": [
       "['Amsterdam', 'Copenhagen']"
      ]
     },
     "metadata": {},
     "execution_count": 291
    }
   ],
   "source": [
    "g.V(random_id).out('route').values('city').fold().next()"
   ]
  },
  {
   "cell_type": "code",
   "execution_count": 342,
   "metadata": {},
   "outputs": [
    {
     "output_type": "stream",
     "name": "stdout",
     "text": [
      "e[{'@type': 'janusgraph:RelationIdentifier', '@value': {'relationId': '1nw8y-368-fth-36g'}}][4112-route->4120]\n"
     ]
    }
   ],
   "source": [
    "# Create subgraph\n",
    "# g.V().hasLabel('airport').has('code', 'SYD').outE('route').subgraph('sg').inV().outE('route').subgraph('sg').cap('sg').next().traversal()\n",
    "# g.E().hasLabel('route').subgraph('subGraph').cap('subGraph').next()\n",
    "# g.V(random_id).emit().repeat(__.both().simplePath()).times(3).dedup().next()\n",
    "# g.V().hasLabel('airport').has('code', 'SYD').emit().repeat(__.both().simplePath()).times(3).dedup().next()\n",
    "sg = g.E().hasLabel('route').subgraph('subGraph').next()\n",
    "print(sg)\n"
   ]
  },
  {
   "cell_type": "code",
   "execution_count": 366,
   "metadata": {},
   "outputs": [],
   "source": [
    " subGraph = g.V().hasLabel('airport').has('code', 'SYD').outE('route').subgraph('x').cap('x').next()"
   ]
  },
  {
   "cell_type": "code",
   "execution_count": 368,
   "metadata": {},
   "outputs": [
    {
     "output_type": "stream",
     "name": "stdout",
     "text": [
      "{}\n"
     ]
    }
   ],
   "source": []
  },
  {
   "source": [
    "## has(), hasLabel(), hasId()"
   ],
   "cell_type": "markdown",
   "metadata": {}
  },
  {
   "cell_type": "code",
   "execution_count": 12,
   "metadata": {},
   "outputs": [
    {
     "output_type": "execute_result",
     "data": {
      "text/plain": [
       "True"
      ]
     },
     "metadata": {},
     "execution_count": 12
    }
   ],
   "source": [
    "findId = g.V().hasLabel('airport').has('code', 'SYD').next()\n",
    "g.V().hasLabel('airport').has('code', 'SYD').next() == g.V().has('airport', 'code', 'SYD').next() == g.V().hasId(findId).next()"
   ]
  },
  {
   "cell_type": "code",
   "execution_count": 99,
   "metadata": {},
   "outputs": [
    {
     "output_type": "stream",
     "name": "stdout",
     "text": [
      "v[9080968]\n{'code': ['SYD'], 'type': ['airport'], 'desc': ['Sydney Kingsford Smith'], 'country': ['AU'], 'longest': [12999], 'city': ['Sydney'], 'elev': [21], 'icao': ['YSSY'], 'lon': [151.177001953125], 'region': ['AU-NSW'], 'runways': [3], 'lat': [-33.9460983276367]}\n"
     ]
    }
   ],
   "source": [
    " # Check data in Vertex by id\n",
    " print(findId)\n",
    " req = g.V().hasId(findId).valueMap().next()\n",
    " print(req)"
   ]
  },
  {
   "cell_type": "code",
   "execution_count": 92,
   "metadata": {},
   "outputs": [
    {
     "output_type": "stream",
     "name": "stdout",
     "text": [
      "[['V'], ['hasId', v[7192816]], ['drop'], ['none']]\n"
     ]
    }
   ],
   "source": [
    "# Delete data by id\n",
    "# req = g.V().hasId(findId).drop().iterate()\n",
    "# print(req)"
   ]
  },
  {
   "source": [
    "## Count"
   ],
   "cell_type": "markdown",
   "metadata": {}
  },
  {
   "cell_type": "code",
   "execution_count": 63,
   "metadata": {},
   "outputs": [
    {
     "output_type": "stream",
     "name": "stdout",
     "text": [
      "3618\n",
      "237\n",
      "3373\n"
     ]
    }
   ],
   "source": [
    "print(g.V().count().next())\n",
    "print(g.V().hasLabel('country').count().next())\n",
    "print(g.V().hasLabel('airport').count().next())"
   ]
  },
  {
   "source": [
    "## valueMap()\n"
   ],
   "cell_type": "markdown",
   "metadata": {}
  },
  {
   "cell_type": "code",
   "execution_count": 100,
   "metadata": {},
   "outputs": [
    {
     "output_type": "execute_result",
     "data": {
      "text/plain": [
       "{'code': ['SYD'],\n",
       " 'type': ['airport'],\n",
       " 'desc': ['Sydney Kingsford Smith'],\n",
       " 'country': ['AU'],\n",
       " 'longest': [12999],\n",
       " 'city': ['Sydney'],\n",
       " 'elev': [21],\n",
       " 'icao': ['YSSY'],\n",
       " 'lon': [151.177001953125],\n",
       " 'region': ['AU-NSW'],\n",
       " 'runways': [3],\n",
       " 'lat': [-33.9460983276367]}"
      ]
     },
     "metadata": {},
     "execution_count": 100
    }
   ],
   "source": [
    "g.V().has('airport', 'code', 'SYD').valueMap().next()"
   ]
  },
  {
   "cell_type": "code",
   "execution_count": 11,
   "metadata": {},
   "outputs": [
    {
     "output_type": "stream",
     "name": "stdout",
     "text": [
      "SYD\nairport\nSydney Kingsford Smith\nAU\n12999\nSydney\n21\nYSSY\n151.177001953125\nAU-NSW\n3\n-33.9460983276367\n"
     ]
    }
   ],
   "source": [
    "# Check all data in request using next()\n",
    "results = g.V(findId).values()\n",
    "count = g.V(findId).values().count().next()\n",
    "for c in range(count):\n",
    "  print(results.next())"
   ]
  },
  {
   "cell_type": "code",
   "execution_count": 12,
   "metadata": {},
   "outputs": [
    {
     "output_type": "stream",
     "name": "stdout",
     "text": [
      "Sydney Kingsford Smith airport has 3 runways...\n"
     ]
    }
   ],
   "source": [
    "req = g.V(findId).values('desc', 'runways')\n",
    "print(f'{req.next()} airport has {req.next()} runways...')\n"
   ]
  },
  {
   "source": [
    "## unfold() fold()"
   ],
   "cell_type": "markdown",
   "metadata": {}
  },
  {
   "cell_type": "code",
   "execution_count": 13,
   "metadata": {},
   "outputs": [
    {
     "output_type": "stream",
     "name": "stdout",
     "text": [
      "0, {'code': ['SYD']}\n1, {'type': ['airport']}\n2, {'desc': ['Sydney Kingsford Smith']}\n3, {'country': ['AU']}\n4, {'longest': [12999]}\n5, {'city': ['Sydney']}\n6, {'elev': [21]}\n7, {'icao': ['YSSY']}\n8, {'lon': [151.177001953125]}\n9, {'region': ['AU-NSW']}\n10, {'runways': [3]}\n11, {'lat': [-33.9460983276367]}\n"
     ]
    }
   ],
   "source": [
    "\n",
    "req = g.V(findId).valueMap().unfold()\n",
    "count = g.V(findId).values().count().next()\n",
    "for i in range(count):\n",
    "  print(f'{str(i)}, {req.next()}')\n"
   ]
  },
  {
   "cell_type": "code",
   "execution_count": 14,
   "metadata": {},
   "outputs": [
    {
     "output_type": "execute_result",
     "data": {
      "text/plain": [
       "[{'code': ['SYD']},\n",
       " {'type': ['airport']},\n",
       " {'desc': ['Sydney Kingsford Smith']},\n",
       " {'country': ['AU']},\n",
       " {'longest': [12999]},\n",
       " {'city': ['Sydney']},\n",
       " {'elev': [21]},\n",
       " {'icao': ['YSSY']},\n",
       " {'lon': [151.177001953125]},\n",
       " {'region': ['AU-NSW']},\n",
       " {'runways': [3]},\n",
       " {'lat': [-33.9460983276367]}]"
      ]
     },
     "metadata": {},
     "execution_count": 14
    }
   ],
   "source": [
    "req = g.V(findId).valueMap().unfold().fold().next()\n",
    "req"
   ]
  },
  {
   "source": [
    "## hasNot(), not()"
   ],
   "cell_type": "markdown",
   "metadata": {}
  },
  {
   "cell_type": "code",
   "execution_count": 16,
   "metadata": {},
   "outputs": [
    {
     "output_type": "stream",
     "name": "stdout",
     "text": [
      "{'code': ['AL'], 'type': ['country'], 'desc': ['Albania']}\n{'code': ['BB'], 'type': ['country'], 'desc': ['Barbados']}\n{'code': ['BO'], 'type': ['country'], 'desc': ['Bolivia']}\n{'code': ['BQ'], 'type': ['country'], 'desc': ['Bonaire - Sint Eustatius and Saba']}\n{'code': ['BG'], 'type': ['country'], 'desc': ['Bulgaria']}\n{'code': ['BI'], 'type': ['country'], 'desc': ['Burundi']}\n{'code': ['KY'], 'type': ['country'], 'desc': ['Cayman Islands']}\n{'code': ['CF'], 'type': ['country'], 'desc': ['Central African Republic']}\n{'code': ['CC'], 'type': ['country'], 'desc': ['Cocos (Keeling) Islands']}\n{'code': ['CD'], 'type': ['country'], 'desc': ['Democratic Republic of the Congo']}\n"
     ]
    }
   ],
   "source": [
    "req = g.V().hasNot('region').valueMap()\n",
    "count = g.V().hasNot('region').count().next()\n",
    "for c in range(count):\n",
    "    if c == 10:\n",
    "        break\n",
    "    print(req.next())"
   ]
  },
  {
   "cell_type": "code",
   "execution_count": 17,
   "metadata": {},
   "outputs": [],
   "source": [
    "same_count = g.V().not_(__.has('region')).count().next()"
   ]
  },
  {
   "cell_type": "code",
   "execution_count": 18,
   "metadata": {},
   "outputs": [
    {
     "output_type": "execute_result",
     "data": {
      "text/plain": [
       "[v[5849112], v[5853208], v[5857304]]"
      ]
     },
     "metadata": {},
     "execution_count": 18
    }
   ],
   "source": [
    "g.V().hasLabel('airport').next(3)"
   ]
  },
  {
   "cell_type": "code",
   "execution_count": 19,
   "metadata": {},
   "outputs": [
    {
     "output_type": "execute_result",
     "data": {
      "text/plain": [
       "43400"
      ]
     },
     "metadata": {},
     "execution_count": 19
    }
   ],
   "source": [
    "g.E().hasLabel('route').count().next()"
   ]
  },
  {
   "cell_type": "code",
   "execution_count": 20,
   "metadata": {},
   "outputs": [
    {
     "output_type": "stream",
     "name": "stdout",
     "text": [
      "Melbourne International Airport\nWellington International Airport\nManila, Ninoy Aquino International Airport\nSantiago, Comodoro Arturo Merino Benitez International Airport\nCairns International Airport\nDarwin International Airport\nIndira Gandhi International Airport\nAuckland International Airport\nChristchurch International Airport\nTokyo Haneda International Airport\nDoha, Hamad International Airport\nAlice Springs Airport\nDallas/Fort Worth International Airport\nSoekarno-Hatta International Airport\nHonolulu International Airport\nVancouver\nGuangzhou Baiyun International Airport\nPerth International Airport\nCanberra International Airport\nSeoul, Incheon International Airport\nSunshine Coast Airport\nDubai International Airport\nHong Kong - Chek Lap Kok International Airport\nSan Francisco International Airport\nSingapore, Changi International Airport\nKuala Lumpur International Airport\nHo Chi Minh City, Tan Son Nhat International Airport\nAyers Rock Connellan Airport\nGold Coast Airport\nAbu Dhabi International Airport\nAdelaide International Airport\nTaiwan Taoyuan International Airport\nKunming Wujiaba International Airport\nPort Moresby Jacksons International Airport\nLismore Airport\nMoruya Airport\nMackay Airport\nTownsville Airport\nHervey Bay Airport\nKarratha Airport\nParkes Airport\nChongqing Jiangbei International Airport\nRarotonga International Airport\nQueenstown International Airport\nBroome International Airport\nFua'amotu International Airport\nAvalon Airport\nBallina Byron Gateway Airport\nOrange Airport\nMildura Airport\nLaunceston Airport\nPort Macquarie Airport\nDubbo City Regional Airport\nNewcastle Airport\nArmidale Airport\nBroken Hill Airport\nGladstone Airport\nLord Howe Island Airport\nMerimbula Airport\nNarrandera Airport\nNorfolk Island International Airport\nPort Vila Bauerfield Airport\nHamilton Island Airport\nGriffith Airport\nBrisbane West Wellcamp Airport\nNarrabri Airport\nLos Angeles International Airport\nBeijing Capital International Airport\nShanghai - Pudong International Airport\nSuvarnabhumi Bangkok International Airport\nJohannesburg, OR Tambo International Airport\nBali - Ngurah Rai International Airport\nPhuket International Airport\nTokyo Narita\nBrisbane International Airport\nNoi Bai International Airport\nFiji, Nadi International Airport\nNanjing Lukou Airport\nHangzhou Xiaoshan International Airport\nChengdu Shuangliu International Airport\nWuhan Tianhe International Airport\nChangsha Huanghua International Airport\nProserpine Whitsunday Coast Airport\nBathurst Airport\nHobart International Airport\nTamworth Airport\nWagga Wagga City Airport\nTaree Airport\nLa Tontouta International Airport\nXi'an Xianyang International Airport\nNausori International Airport\nAlbury Airport\nMoree Airport\nCoffs Harbour Airport\n"
     ]
    }
   ],
   "source": [
    "results = g.V(findId).inE('route').outV().values('desc')\n",
    "count = g.V(findId).inE('route').outV().count().next()\n",
    "for c in range(count):\n",
    "    print(results.next())"
   ]
  },
  {
   "source": [
    "## Get types of vertices"
   ],
   "cell_type": "markdown",
   "metadata": {}
  },
  {
   "cell_type": "code",
   "execution_count": 21,
   "metadata": {},
   "outputs": [
    {
     "output_type": "stream",
     "name": "stdout",
     "text": [
      "{'continent': 7, 'country': 237, 'version': 1, 'airport': 3374}\n"
     ]
    }
   ],
   "source": [
    "a = g.V().groupCount().by(T.label).next()\n",
    "print(a)"
   ]
  },
  {
   "cell_type": "code",
   "execution_count": 22,
   "metadata": {},
   "outputs": [
    {
     "output_type": "execute_result",
     "data": {
      "text/plain": [
       "{'FR': 58, 'GR': 39, 'BE': 5}"
      ]
     },
     "metadata": {},
     "execution_count": 22
    }
   ],
   "source": [
    "g.V().hasLabel('airport').groupCount().by('country').select('FR','GR','BE').next()"
   ]
  },
  {
   "cell_type": "code",
   "execution_count": 23,
   "metadata": {},
   "outputs": [
    {
     "output_type": "execute_result",
     "data": {
      "text/plain": [
       "{'EU': 583, 'AS': 932, 'NA': 978, 'OC': 284, 'AF': 294, 'AN': 0, 'SA': 303}"
      ]
     },
     "metadata": {},
     "execution_count": 23
    }
   ],
   "source": [
    "g.V().hasLabel('continent').group().\\\n",
    "    by('code').by(__.out().count()).next()"
   ]
  },
  {
   "cell_type": "code",
   "execution_count": 24,
   "metadata": {},
   "outputs": [
    {
     "output_type": "execute_result",
     "data": {
      "text/plain": [
       "{'ORD': [8], 'BNA': [4], 'BWI': [3], 'IAD': [4], 'FLL': [2]}"
      ]
     },
     "metadata": {},
     "execution_count": 24
    }
   ],
   "source": [
    "g.V().hasLabel('airport').limit(5).group().\\\n",
    "    by('code').by('runways').next()"
   ]
  },
  {
   "cell_type": "code",
   "execution_count": 4,
   "metadata": {},
   "outputs": [
    {
     "output_type": "execute_result",
     "data": {
      "text/plain": [
       "value': {'relationId': 'goyrn-3yhi0-fth-3iiag'}}][6647832-route->5902360],\n",
       " e[{'@type': 'janusgraph:RelationIdentifier', '@value': {'relationId': 'g5gqs-3tnog-fth-1pge8'}}][6422560-route->2867264],\n",
       " e[{'@type': 'janusgraph:RelationIdentifier', '@value': {'relationId': 'g5h50-3tnog-fth-20oxs'}}][6422560-route->3391552],\n",
       " e[{'@type': 'janusgraph:RelationIdentifier', '@value': {'relationId': 'g5j44-3tu00-fth-1pge8'}}][6430752-route->2867264],\n",
       " e[{'@type': 'janusgraph:RelationIdentifier', '@value': {'relationId': 'g5jic-3tu00-fth-3iiag'}}][6430752-route->5902360],\n",
       " e[{'@type': 'janusgraph:RelationIdentifier', '@value': {'relationId': 'g5jwk-3tx5s-fth-1pge8'}}][6434848-route->2867264],\n",
       " e[{'@type': 'janusgraph:RelationIdentifier', '@value': {'relationId': 'g5kas-3tx5s-fth-1pjk0'}}][6434848-route->2871360],\n",
       " e[{'@type': 'janusgraph:RelationIdentifier', '@value': {'relationId': 'g5kp0-3tx5s-fth-1wtw8'}}][6434848-route->3211352],\n",
       " e[{'@type': 'janusgraph:RelationIdentifier', '@value': {'relationId': 'g5l38-3u0bk-fth-1pge8'}}][6438944-route->2867264],\n",
       " e[{'@type': 'janusgraph:RelationIdentifier', '@value': {'relationId': 'g5lhg-3u0bk-fth-2i5yo'}}][6438944-route->4206768],\n",
       " e[{'@type': 'janusgraph:RelationIdentifier', '@value': {'relationId': '7239k-1pge8-fth-1pjk0'}}][2867264-route->2871360],\n",
       " e[{'@type': 'janusgraph:RelationIdentifier', '@value': {'relationId': '72614-1pge8-fth-1pmps'}}][2867264-route->2875456],\n",
       " e[{'@type': 'janusgraph:RelationIdentifier', '@value': {'relationId': '728eg-1pge8-fth-1pzcw'}}][2867264-route->2891840],\n",
       " e[{'@type': 'janusgraph:RelationIdentifier', '@value': {'relationId': '72ars-1pge8-fth-1qy4g'}}][2867264-route->2936896],\n",
       " e[{'@type': 'janusgraph:RelationIdentifier', '@value': {'relationId': '72cco-1pge8-fth-1r4g0'}}][2867264-route->2945088],\n",
       " e[{'@type': 'janusgraph:RelationIdentifier', '@value': {'relationId': '72eq0-1pge8-fth-1rh34'}}][2867264-route->2961472],\n",
       " e[{'@type': 'janusgraph:RelationIdentifier', '@value': {'relationId': '72420-1pge8-fth-1s6gg'}}][2867264-route->2994352],\n",
       " e[{'@type': 'janusgraph:RelationIdentifier', '@value': {'relationId': '7258o-1pge8-fth-1scs0'}}][2867264-route->3002544],\n",
       " e[{'@type': 'janusgraph:RelationIdentifier', '@value': {'relationId': '727m0-1pge8-fth-1sj3k'}}][2867264-route->3010736],\n",
       " e[{'@type': 'janusgraph:RelationIdentifier', '@value': {'relationId': '7296w-1pge8-fth-1spf4'}}][2867264-route->3018928],\n",
       " e[{'@type': 'janusgraph:RelationIdentifier', '@value': {'relationId': '729l4-1pge8-fth-1sskw'}}][2867264-route->3023024],\n",
       " e[{'@type': 'janusgraph:RelationIdentifier', '@value': {'relationId': '72bk8-1pge8-fth-1t228'}}][2867264-route->3035312],\n",
       " e[{'@type': 'janusgraph:RelationIdentifier', '@value': {'relationId': '720i0-1pge8-fth-1tuk8'}}][2867264-route->3072248],\n",
       " e[{'@type': 'janusgraph:RelationIdentifier', '@value': {'relationId': '72fig-1pge8-fth-1u0ts'}}][2867264-route->3080368],\n",
       " e[{'@type': 'janusgraph:RelationIdentifier', '@value': {'relationId': '721oo-1pge8-fth-1u0vs'}}][2867264-route->3080440],\n",
       " e[{'@type': 'janusgraph:RelationIdentifier', '@value': {'relationId': '7222w-1pge8-fth-1u41k'}}][2867264-route->3084536],\n",
       " e[{'@type': 'janusgraph:RelationIdentifier', '@value': {'relationId': '72fwo-1pge8-fth-1uab4'}}][2867264-route->3092656],\n",
       " e[{'@type': 'janusgraph:RelationIdentifier', '@value': {'relationId': '724ug-1pge8-fth-1uad4'}}][2867264-route->3092728],\n",
       " e[{'@type': 'janusgraph:RelationIdentifier', '@value': {'relationId': '72808-1pge8-fth-1udiw'}}][2867264-route->3096824],\n",
       " e[{'@type': 'janusgraph:RelationIdentifier', '@value': {'relationId': '729zc-1pge8-fth-1uq60'}}][2867264-route->3113208],\n",
       " e[{'@type': 'janusgraph:RelationIdentifier', '@value': {'relationId': '72djc-1pge8-fth-1uzk8'}}][2867264-route->3125384],\n",
       " e[{'@type': 'janusgraph:RelationIdentifier', '@value': {'relationId': '723ns-1pge8-fth-1v2o8'}}][2867264-route->3129416],\n",
       " e[{'@type': 'janusgraph:RelationIdentifier', '@value': {'relationId': '724g8-1pge8-fth-1v5u0'}}][2867264-route->3133512],\n",
       " e[{'@type': 'janusgraph:RelationIdentifier', '@value': {'relationId': '721ag-1pge8-fth-1vfbs'}}][2867264-route->3145816],\n",
       " e[{'@type': 'janusgraph:RelationIdentifier', '@value': {'relationId': '722vc-1pge8-fth-1vryw'}}][2867264-route->3162200],\n",
       " e[{'@type': 'janusgraph:RelationIdentifier', '@value': {'relationId': '7277s-1pge8-fth-1vv4o'}}][2867264-route->3166296],\n",
       " e[{'@type': 'janusgraph:RelationIdentifier', '@value': {'relationId': '72d54-1pge8-fth-1we2w'}}][2867264-route->3190856],\n",
       " e[{'@type': 'janusgraph:RelationIdentifier', '@value': {'relationId': '72b60-1pge8-fth-1wqqg'}}][2867264-route->3207256],\n",
       " e[{'@type': 'janusgraph:RelationIdentifier', '@value': {'relationId': '72byg-1pge8-fth-1wtw8'}}][2867264-route->3211352],\n",
       " e[{'@type': 'janusgraph:RelationIdentifier', '@value': {'relationId': '72cqw-1pge8-fth-1wx20'}}][2867264-route->3215448],\n",
       " e[{'@type': 'janusgraph:RelationIdentifier', '@value': {'relationId': '72ebs-1pge8-fth-1x07c'}}][2867264-route->3219528],\n",
       " e[{'@type': 'janusgraph:RelationIdentifier', '@value': {'relationId': '72dxk-1pge8-fth-1x9p4'}}][2867264-route->3231832],\n",
       " e[{'@type': 'janusgraph:RelationIdentifier', '@value': {'relationId': '72juw-1pge8-fth-1yhzc'}}][2867264-route->3289224],\n",
       " e[{'@type': 'janusgraph:RelationIdentifier', '@value': {'relationId': '72hvs-1pge8-fth-1yrew'}}][2867264-route->3301448],\n",
       " e[{'@type': 'janusgraph:RelationIdentifier', '@value': {'relationId': '72sjs-1pge8-fth-20628'}}][2867264-route->3367088],\n",
       " e[{'@type': 'janusgraph:RelationIdentifier', '@value': {'relationId': '72vpk-1pge8-fth-20980'}}][2867264-route->3371184],\n",
       " e[{'@type': 'janusgraph:RelationIdentifier', '@value': {'relationId': '72olk-1pge8-fth-20cao'}}][2867264-route->3375168],\n",
       " e[{'@type': 'janusgraph:RelationIdentifier', '@value': {'relationId': '72qko-1pge8-fth-20fgg'}}][2867264-route->3379264],\n",
       " e[{'@type': 'janusgraph:RelationIdentifier', '@value': {'relationId': '72rrc-1pge8-fth-20im8'}}][2867264-route->3383360],\n",
       " e[{'@type': 'janusgraph:RelationIdentifier', '@value': {'relationId': '72ww8-1pge8-fth-20ls0'}}][2867264-route->3387456],\n",
       " e[{'@type': 'janusgraph:RelationIdentifier', '@value': {'relationId': '72xag-1pge8-fth-20oxs'}}][2867264-route->3391552],\n",
       " e[{'@type': 'janusgraph:RelationIdentifier', '@value': {'relationId': '72k94-1pge8-fth-20v9k'}}][2867264-route->3399752],\n",
       " e[{'@type': 'janusgraph:RelationIdentifier', '@value': {'relationId': '72l1k-1pge8-fth-20veg'}}][2867264-route->3399928],\n",
       " e[{'@type': 'janusgraph:RelationIdentifier', '@value': {'relationId': '72n0o-1pge8-fth-211mw'}}][2867264-route->3408008],\n",
       " e[{'@type': 'janusgraph:RelationIdentifier', '@value': {'relationId': '72ps8-1pge8-fth-214so'}}][2867264-route->3412104],\n",
       " e[{'@type': 'janusgraph:RelationIdentifier', '@value': {'relationId': '72m88-1pge8-fth-214vs'}}][2867264-route->3412216],\n",
       " e[{'@type': 'janusgraph:RelationIdentifier', '@value': {'relationId': '72sy0-1pge8-fth-217yg'}}][2867264-route->3416200],\n",
       " e[{'@type': 'janusgraph:RelationIdentifier', '@value': {'relationId': '72ozs-1pge8-fth-2181k'}}][2867264-route->3416312],\n",
       " e[{'@type': 'janusgraph:RelationIdentifier', '@value': {'relationId': '72wi0-1pge8-fth-21b48'}}][2867264-route->3420296],\n",
       " e[{'@type': 'janusgraph:RelationIdentifier', '@value': {'relationId': '72uiw-1pge8-fth-21b7c'}}][2867264-route->3420408],\n",
       " e[{'@type': 'janusgraph:RelationIdentifier', '@value': {'relationId': '72ux4-1pge8-fth-21ed4'}}][2867264-route->3424504],\n",
       " e[{'@type': 'janusgraph:RelationIdentifier', '@value': {'relationId': '72xoo-1pge8-fth-21hiw'}}][2867264-route->3428600],\n",
       " e[{'@type': 'janusgraph:RelationIdentifier', '@value': {'relationId': '72yh4-1pge8-fth-21koo'}}][2867264-route->3432696],\n",
       " e[{'@type': 'janusgraph:RelationIdentifier', '@value': {'relationId': '730g8-1pge8-fth-21nug'}}][2867264-route->3436792],\n",
       " e[{'@type': 'janusgraph:RelationIdentifier', '@value': {'relationId': '72new-1pge8-fth-23brc'}}][2867264-route->3514440],\n",
       " e[{'@type': 'janusgraph:RelationIdentifier', '@value': {'relationId': '72nt4-1pge8-fth-23ex4'}}][2867264-route->3518536],\n",
       " e[{'@type': 'janusgraph:RelationIdentifier', '@value': {'relationId': '72qyw-1pge8-fth-23i2w'}}][2867264-route->3522632],\n",
       " e[{'@type': 'janusgraph:RelationIdentifier', '@value': {'relationId': '72s5k-1pge8-fth-23l8o'}}][2867264-route->3526728],\n",
       " e[{'@type': 'janusgraph:RelationIdentifier', '@value': {'relationId': '72tqg-1pge8-fth-23oeg'}}][2867264-route->3530824],\n",
       " e[{'@type': 'janusgraph:RelationIdentifier', '@value': {'relationId': '72w3s-1pge8-fth-23rk8'}}][2867264-route->3534920],\n",
       " e[{'@type': 'janusgraph:RelationIdentifier', '@value': {'relationId': '72yvc-1pge8-fth-23uq0'}}][2867264-route->3539016],\n",
       " e[{'@type': 'janusgraph:RelationIdentifier', '@value': {'relationId': '72mmg-1pge8-fth-2447s'}}][2867264-route->3551320],\n",
       " e[{'@type': 'janusgraph:RelationIdentifier', '@value': {'relationId': '72o7c-1pge8-fth-247dk'}}][2867264-route->3555416],\n",
       " e[{'@type': 'janusgraph:RelationIdentifier', '@value': {'relationId': '72rd4-1pge8-fth-24ajc'}}][2867264-route->3559512],\n",
       " e[{'@type': 'janusgraph:RelationIdentifier', '@value': {'relationId': '7318o-1pge8-fth-2kcw0'}}][2867264-route->4309056],\n",
       " e[{'@type': 'janusgraph:RelationIdentifier', '@value': {'relationId': '730ug-1pge8-fth-2kss0'}}][2867264-route->4329648],\n",
       " e[{'@type': 'janusgraph:RelationIdentifier', '@value': {'relationId': '720w8-1pge8-fth-3dezk'}}][2867264-route->5664800],\n",
       " e[{'@type': 'janusgraph:RelationIdentifier', '@value': {'relationId': '725mw-1pge8-fth-3ealc'}}][2867264-route->5705760],\n",
       " e[{'@type': 'janusgraph:RelationIdentifier', '@value': {'relationId': '726tk-1pge8-fth-3edr4'}}][2867264-route->5709856],\n",
       " e[{'@type': 'janusgraph:RelationIdentifier', '@value': {'relationId': '728so-1pge8-fth-3etk0'}}][2867264-route->5730336],\n",
       " e[{'@type': 'janusgraph:RelationIdentifier', '@value': {'relationId': '72adk-1pge8-fth-3ezvk'}}][2867264-route->5738528],\n",
       " e[{'@type': 'janusgraph:RelationIdentifier', '@value': {'relationId': '72f48-1pge8-fth-3gu8w'}}][2867264-route->5824544],\n",
       " e[{'@type': 'janusgraph:RelationIdentifier', '@value': {'relationId': '72gaw-1pge8-fth-3hgdc'}}][2867264-route->5853216],\n",
       " e[{'@type': 'janusgraph:RelationIdentifier', '@value': {'relationId': '722h4-1pge8-fth-3if4o'}}][2867264-route->5898264],\n",
       " e[{'@type': 'janusgraph:RelationIdentifier', '@value': {'relationId': '726fc-1pge8-fth-3iiag'}}][2867264-route->5902360],\n",
       " e[{'@type': 'janusgraph:RelationIdentifier', '@value': {'relationId': '72ia0-1pge8-fth-3k9i8'}}][2867264-route->5984288],\n",
       " e[{'@type': 'janusgraph:RelationIdentifier', '@value': {'relationId': '72gp4-1pge8-fth-3ma6w'}}][2867264-route->6078488],\n",
       " e[{'@type': 'janusgraph:RelationIdentifier', '@value': {'relationId': '72h3c-1pge8-fth-3mdco'}}][2867264-route->6082584],\n",
       " e[{'@type': 'janusgraph:RelationIdentifier', '@value': {'relationId': '72io8-1pge8-fth-3mgio'}}][2867264-route->6086688],\n",
       " e[{'@type': 'janusgraph:RelationIdentifier', '@value': {'relationId': '72hhk-1pge8-fth-3n8yg'}}][2867264-route->6123544],\n",
       " e[{'@type': 'janusgraph:RelationIdentifier', '@value': {'relationId': '72jgo-1pge8-fth-3o4kg'}}][2867264-route->6164512],\n",
       " e[{'@type': 'janusgraph:RelationIdentifier', '@value': {'relationId': '72j2g-1pge8-fth-3t1js'}}][2867264-route->6393880],\n",
       " e[{'@type': 'janusgraph:RelationIdentifier', '@value': {'relationId': '72pe0-1pge8-fth-3tkio'}}][2867264-route->6418464],\n",
       " e[{'@type': 'janusgraph:RelationIdentifier', '@value': {'relationId': '72q6g-1pge8-fth-3tnog'}}][2867264-route->6422560],\n",
       " e[{'@type': 'janusgraph:RelationIdentifier', '@value': {'relationId': '72u4o-1pge8-fth-3tqu8'}}][2867264-route->6426656],\n",
       " e[{'@type': 'janusgraph:RelationIdentifier', '@value': {'relationId': '72z9k-1pge8-fth-3tu00'}}][2867264-route->6430752],\n",
       " e[{'@type': 'janusgraph:RelationIdentifier', '@value': {'relationId': '72zns-1pge8-fth-3tx5s'}}][2867264-route->6434848],\n",
       " e[{'@type': 'janusgraph:RelationIdentifier', '@value': {'relationId': '73020-1pge8-fth-3u0bk'}}][2867264-route->6438944],\n",
       " e[{'@type': 'janusgraph:RelationIdentifier', '@value': {'relationId': '72knc-1pge8-fth-3uplk'}}][2867264-route->6471704],\n",
       " e[{'@type': 'janusgraph:RelationIdentifier', '@value': {'relationId': '72lfs-1pge8-fth-3x2xk'}}][2867264-route->6582296],\n",
       " e[{'@type': 'janusgraph:RelationIdentifier', '@value': {'relationId': '72lu0-1pge8-fth-3y80o'}}][2867264-route->6635544],\n",
       " e[{'@type': 'janusgraph:RelationIdentifier', '@value': {'relationId': '72tc8-1pge8-fth-3yb6g'}}][2867264-route->6639640],\n",
       " e[{'@type': 'janusgraph:RelationIdentifier', '@value': {'relationId': '72vbc-1pge8-fth-3yec8'}}][2867264-route->6643736],\n",
       " e[{'@type': 'janusgraph:RelationIdentifier', '@value': {'relationId': '72y2w-1pge8-fth-3yhi0'}}][2867264-route->6647832],\n",
       " e[{'@type': 'janusgraph:RelationIdentifier', '@value': {'relationId': '81ds8-20oxs-fth-1pge8'}}][3391552-route->2867264],\n",
       " e[{'@type': 'janusgraph:RelationIdentifier', '@value': {'relationId': '81e6g-20oxs-fth-3tnog'}}][3391552-route->6422560],\n",
       " e[{'@type': 'janusgraph:RelationIdentifier', '@value': {'relationId': '993bd-23brc-fth-1pge8'}}][3514440-route->2867264],\n",
       " e[{'@type': 'janusgraph:RelationIdentifier', '@value': {'relationId': '993pl-23brc-fth-3iiag'}}][3514440-route->5902360],\n",
       " e[{'@type': 'janusgraph:RelationIdentifier', '@value': {'relationId': '9943t-23ex4-fth-1pge8'}}][3518536-route->2867264],\n",
       " e[{'@type': 'janusgraph:RelationIdentifier', '@value': {'relationId': '994i1-23ex4-fth-1x07c'}}][3518536-route->3219528],\n",
       " e[{'@type': 'janusgraph:RelationIdentifier', '@value': {'relationId': '994w9-23ex4-fth-21b7c'}}][3518536-route->3420408],\n",
       " e[{'@type': 'janusgraph:RelationIdentifier', '@value': {'relationId': '995ah-23ex4-fth-21koo'}}][3518536-route->3432696],\n",
       " e[{'@type': 'janusgraph:RelationIdentifier', '@value': {'relationId': '996vd-23l8o-fth-1pge8'}}][3526728-route->2867264],\n",
       " e[{'@type': 'janusgraph:RelationIdentifier', '@value': {'relationId': '997nt-23l8o-fth-21hiw'}}][3526728-route->3428600],\n",
       " e[{'@type': 'janusgraph:RelationIdentifier', '@value': {'relationId': '9979l-23l8o-fth-3iiag'}}][3526728-route->5902360],\n",
       " e[{'@type': 'janusgraph:RelationIdentifier', '@value': {'relationId': '99821-23oeg-fth-1pge8'}}][3530824-route->2867264],\n",
       " e[{'@type': 'janusgraph:RelationIdentifier', '@value': {'relationId': '998g9-23oeg-fth-1pjk0'}}][3530824-route->2871360],\n",
       " e[{'@type': 'janusgraph:RelationIdentifier', '@value': {'relationId': '998uh-23oeg-fth-20980'}}][3530824-route->3371184],\n",
       " e[{'@type': 'janusgraph:RelationIdentifier', '@value': {'relationId': '9998p-23rk8-fth-1pge8'}}][3534920-route->2867264],\n",
       " e[{'@type': 'janusgraph:RelationIdentifier', '@value': {'relationId': '999mx-23rk8-fth-24ajc'}}][3534920-route->3559512],\n",
       " e[{'@type': 'janusgraph:RelationIdentifier', '@value': {'relationId': '8eeq3-1wtw8-fth-1pge8'}}][3211352-route->2867264],\n",
       " e[{'@type': 'janusgraph:RelationIdentifier', '@value': {'relationId': '8efij-1wtw8-fth-1pjk0'}}][3211352-route->2871360],\n",
       " e[{'@type': 'janusgraph:RelationIdentifier', '@value': {'relationId': '8ehhn-1wtw8-fth-1r4g0'}}][3211352-route->2945088],\n",
       " e[{'@type': 'janusgraph:RelationIdentifier', '@value': {'relationId': '8efwr-1wtw8-fth-1scs0'}}][3211352-route->3002544],\n",
       " e[{'@type': 'janusgraph:RelationIdentifier', '@value': {'relationId': '8egp7-1wtw8-fth-1sj3k'}}][3211352-route->3010736],\n",
       " e[{'@type': 'janusgraph:RelationIdentifier', '@value': {'relationId': '8ehvv-1wtw8-fth-1trcg'}}][3211352-route->3068080],\n",
       " e[{'@type': 'janusgraph:RelationIdentifier', '@value': {'relationId': '8eh3f-1wtw8-fth-1udiw'}}][3211352-route->3096824],\n",
       " e[{'@type': 'janusgraph:RelationIdentifier', '@value': {'relationId': '8ef4b-1wtw8-fth-1vryw'}}][3211352-route->3162200],\n",
       " e[{'@type': 'janusgraph:RelationIdentifier', '@value': {'relationId': '8egaz-1wtw8-fth-1vv4o'}}][3211352-route->3166296],\n",
       " e[{'@type': 'janusgraph:RelationIdentifier', '@value': {'relationId': '8eia3-1wtw8-fth-1x07c'}}][3211352-route->3219528],\n",
       " e[{'@type': 'janusgraph:RelationIdentifier', '@value': {'relationId': '8ejgr-1wtw8-fth-21nug'}}][3211352-route->3436792],\n",
       " e[{'@type': 'janusgraph:RelationIdentifier', '@value': {'relationId': '8eebv-1wtw8-fth-3if4o'}}][3211352-route->5898264],\n",
       " e[{'@type': 'janusgraph:RelationIdentifier', '@value': {'relationId': '8eiob-1wtw8-fth-3o4kg'}}][3211352-route->6164512],\n",
       " e[{'@type': 'janusgraph:RelationIdentifier', '@value': {'relationId': '8ej2j-1wtw8-fth-3tx5s'}}][3211352-route->6434848],\n",
       " e[{'@type': 'janusgraph:RelationIdentifier', '@value': {'relationId': '8ejuz-1wtw8-fth-46wwo'}}][3211352-route->7041048],\n",
       " e[{'@type': 'janusgraph:RelationIdentifier', '@value': {'relationId': '92hhn-24ajc-fth-1pge8'}}][3559512-route->2867264],\n",
       " e[{'@type': 'janusgraph:RelationIdentifier', '@value': {'relationId': '92hvv-24ajc-fth-23rk8'}}][3559512-route->3534920],\n",
       " e[{'@type': 'janusgraph:RelationIdentifier', '@value': {'relationId': '8u429-21b48-fth-1pge8'}}][3420296-route->2867264],\n",
       " e[{'@type': 'janusgraph:RelationIdentifier', '@value': {'relationId': '8u4gh-21b48-fth-3iiag'}}][3420296-route->5902360],\n",
       " e[{'@type': 'janusgraph:RelationIdentifier', '@value': {'relationId': '8z9qu-20628-fth-1pge8'}}][3367088-route->2867264],\n",
       " e[{'@type': 'janusgraph:RelationIdentifier', '@value': {'relationId': '8za52-20980-fth-1pge8'}}][3371184-route->2867264],\n",
       " e[{'@type': 'janusgraph:RelationIdentifier', '@value': {'relationId': '8zaja-20980-fth-23oeg'}}][3371184-route->3530824],\n",
       " e[{'@type': 'janusgraph:RelationIdentifier', '@value': {'relationId': '98x06-2i5yo-fth-3u0bk'}}][4206768-route->6438944],\n",
       " e[{'@type': 'janusgraph:RelationIdentifier', '@value': {'relationId': '99kpi-2kss0-fth-1pge8'}}][4329648-route->2867264],\n",
       " e[{'@type': 'janusgraph:RelationIdentifier', '@value': {'relationId': '99l3q-2kss0-fth-3iiag'}}][4329648-route->5902360],\n",
       " e[{'@type': 'janusgraph:RelationIdentifier', '@value': {'relationId': '99lhy-2kss0-fth-3yec8'}}][4329648-route->6643736],\n",
       " e[{'@type': 'janusgraph:RelationIdentifier', '@value': {'relationId': '86bz3-2181k-fth-1pge8'}}][3416312-route->2867264],\n",
       " e[{'@type': 'janusgraph:RelationIdentifier', '@value': {'relationId': '86cdb-2181k-fth-1pjk0'}}][3416312-route->2871360],\n",
       " e[{'@type': 'janusgraph:RelationIdentifier', '@value': {'relationId': '86crj-2181k-fth-21nug'}}][3416312-route->3436792],\n",
       " e[{'@type': 'janusgraph:RelationIdentifier', '@value': {'relationId': '86gpr-21hiw-fth-1pge8'}}][3428600-route->2867264],\n",
       " e[{'@type': 'janusgraph:RelationIdentifier', '@value': {'relationId': '86hi7-21hiw-fth-23l8o'}}][3428600-route->3526728],\n",
       " e[{'@type': 'janusgraph:RelationIdentifier', '@value': {'relationId': '86h3z-21hiw-fth-3iiag'}}][3428600-route->5902360],\n",
       " e[{'@type': 'janusgraph:RelationIdentifier', '@value': {'relationId': '86hwf-21hiw-fth-4zj8g'}}][3428600-route->8376352],\n",
       " e[{'@type': 'janusgraph:RelationIdentifier', '@value': {'relationId': '86ian-21koo-fth-1pge8'}}][3432696-route->2867264],\n",
       " e[{'@type': 'janusgraph:RelationIdentifier', '@value': {'relationId': '86j33-21koo-fth-23ex4'}}][3432696-route->3518536],\n",
       " e[{'@type': 'janusgraph:RelationIdentifier', '@value': {'relationId': '86iov-21koo-fth-3iiag'}}][3432696-route->5902360],\n",
       " e[{'@type': 'janusgraph:RelationIdentifier', '@value': {'relationId': '86jhb-21koo-fth-4zj8g'}}][3432696-route->8376352],\n",
       " e[{'@type': 'janusgraph:RelationIdentifier', '@value': {'relationId': '86jvj-21nug-fth-1pge8'}}][3436792-route->2867264],\n",
       " e[{'@type': 'janusgraph:RelationIdentifier', '@value': {'relationId': '86k9r-21nug-fth-1pjk0'}}][3436792-route->2871360],\n",
       " e[{'@type': 'janusgraph:RelationIdentifier', '@value': {'relationId': '86l27-21nug-fth-1wtw8'}}][3436792-route->3211352],\n",
       " e[{'@type': 'janusgraph:RelationIdentifier', '@value': {'relationId': '86lgf-21nug-fth-2181k'}}][3436792-route->3416312],\n",
       " e[{'@type': 'janusgraph:RelationIdentifier', '@value': {'relationId': '86knz-21nug-fth-3iiag'}}][3436792-route->5902360],\n",
       " e[{'@type': 'janusgraph:RelationIdentifier', '@value': {'relationId': '86lun-21nug-fth-3yhi0'}}][3436792-route->6647832]]"
      ]
     },
     "metadata": {},
     "execution_count": 4
    }
   ],
   "source": [
    "g.V().has('region', 'AU-NSW').outE('route').fold().next()"
   ]
  },
  {
   "cell_type": "code",
   "execution_count": 9,
   "metadata": {},
   "outputs": [
    {
     "output_type": "execute_result",
     "data": {
      "text/plain": [
       "94"
      ]
     },
     "metadata": {},
     "execution_count": 9
    }
   ],
   "source": [
    "g.V(findId).in_('route').count().next()"
   ]
  },
  {
   "cell_type": "code",
   "execution_count": 11,
   "metadata": {},
   "outputs": [
    {
     "output_type": "execute_result",
     "data": {
      "text/plain": [
       "['Albury Airport',\n",
       " 'Moree Airport',\n",
       " 'Coffs Harbour Airport',\n",
       " 'Portland Airport',\n",
       " 'Bathurst Airport',\n",
       " 'Tamworth Airport',\n",
       " 'Wagga Wagga City Airport',\n",
       " 'Taree Airport',\n",
       " 'Melbourne Essendon Airport',\n",
       " 'Sydney Kingsford Smith',\n",
       " 'Melbourne International Airport',\n",
       " 'Parkes Airport',\n",
       " 'Armidale Airport',\n",
       " 'Broken Hill Airport',\n",
       " 'Lord Howe Island Airport',\n",
       " 'Merimbula Airport',\n",
       " 'Narrandera Airport',\n",
       " 'Gold Coast Airport',\n",
       " 'Griffith Airport',\n",
       " 'Sydney Bankstown Airport',\n",
       " 'Avalon Airport',\n",
       " 'Orange Airport',\n",
       " 'Lismore Airport',\n",
       " 'Moruya Airport',\n",
       " 'Grafton Airport',\n",
       " 'Narrabri Airport',\n",
       " 'Warrnambool Airport',\n",
       " 'Ballina Byron Gateway Airport',\n",
       " 'Mildura Airport',\n",
       " 'Port Macquarie Airport',\n",
       " 'Dubbo City Regional Airport',\n",
       " 'Newcastle Airport']"
      ]
     },
     "metadata": {},
     "execution_count": 11
    }
   ],
   "source": [
    "g.V().has('region', P.within('AU-NSW', 'AU-VIC')).\\\n",
    "    values('desc').fold().next()"
   ]
  },
  {
   "cell_type": "code",
   "execution_count": 12,
   "metadata": {},
   "outputs": [
    {
     "output_type": "execute_result",
     "data": {
      "text/plain": [
       "1.875"
      ]
     },
     "metadata": {},
     "execution_count": 12
    }
   ],
   "source": [
    "g.V().has('region', P.within('AU-NSW', 'AU-VIC')).\\\n",
    "    values('runways').mean().next()"
   ]
  },
  {
   "cell_type": "code",
   "execution_count": 17,
   "metadata": {},
   "outputs": [
    {
     "output_type": "execute_result",
     "data": {
      "text/plain": [
       "1199"
      ]
     },
     "metadata": {},
     "execution_count": 17
    }
   ],
   "source": [
    " g.V(findId).as_('hk').out('route').in_('route').\\\n",
    "    where(P.neq('hk')).dedup().count().next()"
   ]
  },
  {
   "cell_type": "code",
   "execution_count": 18,
   "metadata": {},
   "outputs": [
    {
     "output_type": "execute_result",
     "data": {
      "text/plain": [
       "[v[6643736], v[6647832]]"
      ]
     },
     "metadata": {},
     "execution_count": 18
    }
   ],
   "source": [
    "g.V(findId).out('route').tail(2).fold().next()"
   ]
  },
  {
   "cell_type": "code",
   "execution_count": 22,
   "metadata": {},
   "outputs": [
    {
     "output_type": "execute_result",
     "data": {
      "text/plain": [
       "[path[Sydney Kingsford Smith, Melbourne International Airport, Wellington International Airport, Sydney Kingsford Smith],\n",
       " path[Sydney Kingsford Smith, Melbourne International Airport, Manila, Ninoy Aquino International Airport, Sydney Kingsford Smith],\n",
       " path[Sydney Kingsford Smith, Melbourne International Airport, Cairns International Airport, Sydney Kingsford Smith],\n",
       " path[Sydney Kingsford Smith, Melbourne International Airport, Darwin International Airport, Sydney Kingsford Smith],\n",
       " path[Sydney Kingsford Smith, Melbourne International Airport, Indira Gandhi International Airport, Sydney Kingsford Smith],\n",
       " path[Sydney Kingsford Smith, Melbourne International Airport, Auckland International Airport, Sydney Kingsford Smith],\n",
       " path[Sydney Kingsford Smith, Melbourne International Airport, Christchurch International Airport, Sydney Kingsford Smith],\n",
       " path[Sydney Kingsford Smith, Melbourne International Airport, Doha, Hamad International Airport, Sydney Kingsford Smith],\n",
       " path[Sydney Kingsford Smith, Melbourne International Airport, Alice Springs Airport, Sydney Kingsford Smith],\n",
       " path[Sydney Kingsford Smith, Melbourne International Airport, Soekarno-Hatta International Airport, Sydney Kingsford Smith]]"
      ]
     },
     "metadata": {},
     "execution_count": 22
    }
   ],
   "source": [
    "g.V(findId).out().out().out().has('code', 'SYD').limit(10).path().by('desc').fold().next()"
   ]
  },
  {
   "cell_type": "code",
   "execution_count": 25,
   "metadata": {},
   "outputs": [
    {
     "output_type": "execute_result",
     "data": {
      "text/plain": [
       "[path[DFW, DCA],\n",
       " path[DFW, PBI],\n",
       " path[DFW, ANC],\n",
       " path[DFW, FLL],\n",
       " path[DFW, BWI],\n",
       " path[DFW, TPA],\n",
       " path[DFW, JFK],\n",
       " path[DFW, BNA],\n",
       " path[DFW, SAT],\n",
       " path[DFW, SEA]]"
      ]
     },
     "metadata": {},
     "execution_count": 25
    }
   ],
   "source": [
    " g.V(findId).as_('a').out().as_('b').out().as_('c').path().\\\n",
    "    by('code').from_('b').to('c').limit(10).fold().next()"
   ]
  },
  {
   "source": [
    "## Select"
   ],
   "cell_type": "markdown",
   "metadata": {}
  },
  {
   "cell_type": "code",
   "execution_count": 25,
   "metadata": {},
   "outputs": [
    {
     "output_type": "execute_result",
     "data": {
      "text/plain": [
       "[{'a': v[2867264], 'b': v[2871360], 'c': v[2867264], 'd': v[2871360]},\n",
       " {'a': v[2867264], 'b': v[2871360], 'c': v[2867264], 'd': v[2875456]},\n",
       " {'a': v[2867264], 'b': v[2871360], 'c': v[2867264], 'd': v[2891840]},\n",
       " {'a': v[2867264], 'b': v[2871360], 'c': v[2867264], 'd': v[2936896]},\n",
       " {'a': v[2867264], 'b': v[2871360], 'c': v[2867264], 'd': v[2945088]},\n",
       " {'a': v[2867264], 'b': v[2871360], 'c': v[2867264], 'd': v[2961472]},\n",
       " {'a': v[2867264], 'b': v[2871360], 'c': v[2867264], 'd': v[2994352]},\n",
       " {'a': v[2867264], 'b': v[2871360], 'c': v[2867264], 'd': v[3002544]},\n",
       " {'a': v[2867264], 'b': v[2871360], 'c': v[2867264], 'd': v[3010736]},\n",
       " {'a': v[2867264], 'b': v[2871360], 'c': v[2867264], 'd': v[3018928]}]"
      ]
     },
     "metadata": {},
     "execution_count": 25
    }
   ],
   "source": [
    "# Select the traversal of airports from HK that are 3 flights away\n",
    "g.V(findId).as_('a').out().as_('b').out().as_('c').out().as_('d').\\\n",
    "    select('a', 'b', 'c', 'd').limit(10).fold().next()"
   ]
  },
  {
   "source": [
    "## Mean"
   ],
   "cell_type": "markdown",
   "metadata": {}
  },
  {
   "cell_type": "code",
   "execution_count": 27,
   "metadata": {},
   "outputs": [
    {
     "output_type": "execute_result",
     "data": {
      "text/plain": [
       "12.863070539419088"
      ]
     },
     "metadata": {},
     "execution_count": 27
    }
   ],
   "source": [
    "g.V().hasLabel('airport').\\\n",
    "    local(__.out('route').count()).mean().next()"
   ]
  },
  {
   "cell_type": "code",
   "execution_count": 127,
   "metadata": {},
   "outputs": [
    {
     "output_type": "execute_result",
     "data": {
      "text/plain": [
       "['ABX',\n",
       " 'Albury',\n",
       " 'ARM',\n",
       " 'Armidale',\n",
       " 'BHQ',\n",
       " 'Broken Hill',\n",
       " 'BHS',\n",
       " 'Bathurst',\n",
       " 'BNK',\n",
       " 'Ballina']"
      ]
     },
     "metadata": {},
     "execution_count": 127
    }
   ],
   "source": [
    "g.V().has('region','AU-NSW').order().by('code').values('code','city').limit(10).fold().next()"
   ]
  },
  {
   "source": [
    "## SuM()"
   ],
   "cell_type": "markdown",
   "metadata": {}
  },
  {
   "cell_type": "code",
   "execution_count": 126,
   "metadata": {},
   "outputs": [
    {
     "output_type": "execute_result",
     "data": {
      "text/plain": [
       "4828"
      ]
     },
     "metadata": {},
     "execution_count": 126
    }
   ],
   "source": [
    "g.V().hasLabel('airport').values('runways').sum().next()"
   ]
  },
  {
   "source": [
    "## Max()"
   ],
   "cell_type": "markdown",
   "metadata": {}
  },
  {
   "cell_type": "code",
   "execution_count": 7,
   "metadata": {},
   "outputs": [
    {
     "output_type": "execute_result",
     "data": {
      "text/plain": [
       "18045"
      ]
     },
     "metadata": {},
     "execution_count": 7
    }
   ],
   "source": [
    "g.V().hasLabel('airport').values('longest').max().next()"
   ]
  },
  {
   "source": [
    "# TASK, Select vertex to delete\n",
    "Пример схемы с богами.\n",
    "Написать метод рекурсивного обхода дерева с циклическими связями - и пометить узлы для удаления например\n"
   ],
   "cell_type": "markdown",
   "metadata": {}
  },
  {
   "cell_type": "code",
   "execution_count": 96,
   "metadata": {},
   "outputs": [
    {
     "output_type": "stream",
     "name": "stdout",
     "text": [
      "0\n"
     ]
    }
   ],
   "source": [
    "# Repeating traversal\n",
    "'''\n",
    " * dedup() - Remove duplicates\n",
    " * where(neq(\"u861\")) -  Exclude u861\n",
    " * repeat() - avoid combinatorial explosion!\n",
    "\n",
    " * emit() - modulator to “output” all the traversed vertices\n",
    " If emit() is placed after repeat(), it will “output” all vertices leaving the repeat-traversal. If emit() is placed before repeat(), it will “output” the vertices prior to entering the repeat-traversal.\n",
    "\n",
    " Controlling the recursion\n",
    " repeat(out(\"route\").simplePath())) helps reducing the combinatory explosion due to cyclic loops but we still have a rapid graph expansion.\n",
    " '''\n",
    "\n",
    "list_code = g.V()\\\n",
    "    .has('airport', 'code', 'SYD')\\\n",
    "    .as_(\"SYD\")\\\n",
    "    .repeat(__.out(\"route\")).times(2)\\\n",
    "    .emit()\\\n",
    "    .dedup()\\\n",
    "    .where(P.neq(\"SYD\"))\\\n",
    "    .values(\"code\")\\\n",
    "    .fold()\\\n",
    "    .next()\n",
    "print(len(list_code))"
   ]
  },
  {
   "cell_type": "code",
   "execution_count": 107,
   "metadata": {},
   "outputs": [
    {
     "output_type": "stream",
     "name": "stdout",
     "text": [
      "Total counts 0\n"
     ]
    }
   ],
   "source": [
    "id_for_delete = g.V()\\\n",
    "    .has('airport', 'code', 'SYD')\\\n",
    "    .as_(\"SYD\")\\\n",
    "    .repeat(__.out(\"route\")).times(2)\\\n",
    "    .emit()\\\n",
    "    .dedup()\\\n",
    "    .where(P.neq(\"SYD\"))\n",
    "counts =  g.V()\\\n",
    "    .has('airport', 'code', 'SYD')\\\n",
    "    .as_(\"SYD\")\\\n",
    "    .repeat(__.out(\"route\")).times(2)\\\n",
    "    .emit()\\\n",
    "    .dedup()\\\n",
    "    .where(P.neq(\"SYD\"))\\\n",
    "    .count()\\\n",
    "    .next()\n",
    "print('Total counts', counts)\n",
    "\n",
    "for i in range(counts):\n",
    "    if i > 10:\n",
    "        break\n",
    "    print(id_for_delete.next())\n",
    "\n"
   ]
  },
  {
   "cell_type": "code",
   "execution_count": 106,
   "metadata": {},
   "outputs": [
    {
     "output_type": "execute_result",
     "data": {
      "text/plain": [
       "[['V'], ['has', 'airport', 'code', 'SYD'], ['as', 'SYD'], ['repeat', [['out', 'route']]], ['times', 2], ['emit'], ['where', neq(SYD)], ['drop'], ['none'], ['values', '_ipython_canary_method_should_not_exist_'], ['values', '_ipython_canary_method_should_not_exist_']]"
      ]
     },
     "metadata": {},
     "execution_count": 106
    }
   ],
   "source": [
    "# Delete data\n",
    "g.V()\\\n",
    "    .has('airport', 'code', 'SYD')\\\n",
    "    .as_(\"SYD\")\\\n",
    "    .repeat(__.out(\"route\")).times(2)\\\n",
    "    .emit()\\\n",
    "    .where(P.neq(\"SYD\"))\\\n",
    "    .drop()\\\n",
    "    .iterate()"
   ]
  },
  {
   "cell_type": "code",
   "execution_count": 15,
   "metadata": {},
   "outputs": [
    {
     "output_type": "execute_result",
     "data": {
      "text/plain": [
       "[]"
      ]
     },
     "metadata": {},
     "execution_count": 15
    }
   ],
   "source": [
    "# g.E().has('airport', 'code', 'SYD').drop()\n",
    "g.E().has('airport', 'code', 'SYD').fold().next()"
   ]
  },
  {
   "cell_type": "code",
   "execution_count": 132,
   "metadata": {},
   "outputs": [
    {
     "output_type": "execute_result",
     "data": {
      "text/plain": [
       "[path[SYD, TPE],\n",
       " path[SYD, SIN, TPE],\n",
       " path[SYD, MEL, TPE],\n",
       " path[SYD, NRT, TPE],\n",
       " path[SYD, DXB, TPE],\n",
       " path[SYD, KUL, TPE],\n",
       " path[SYD, BKK, TPE],\n",
       " path[SYD, ICN, TPE],\n",
       " path[SYD, CAN, TPE],\n",
       " path[SYD, DPS, TPE],\n",
       " path[SYD, NKG, TPE],\n",
       " path[SYD, HGH, TPE],\n",
       " path[SYD, KMG, TPE],\n",
       " path[SYD, CSX, TPE],\n",
       " path[SYD, DEL, TPE],\n",
       " path[SYD, LAX, TPE],\n",
       " path[SYD, HKG, TPE],\n",
       " path[SYD, BNE, TPE],\n",
       " path[SYD, HNL, TPE],\n",
       " path[SYD, PEK, TPE],\n",
       " path[SYD, MNL, TPE],\n",
       " path[SYD, SGN, TPE],\n",
       " path[SYD, CTU, TPE],\n",
       " path[SYD, XIY, TPE],\n",
       " path[SYD, HAN, TPE],\n",
       " path[SYD, WUH, TPE],\n",
       " path[SYD, CKG, TPE],\n",
       " path[SYD, SFO, TPE],\n",
       " path[SYD, YVR, TPE],\n",
       " path[SYD, PVG, TPE],\n",
       " path[SYD, HND, TPE],\n",
       " path[SYD, CGK, TPE],\n",
       " path[SYD, SIN, CDG, TPE],\n",
       " path[SYD, SIN, MEL, TPE],\n",
       " path[SYD, SIN, NRT, TPE],\n",
       " path[SYD, SIN, FCO, TPE],\n",
       " path[SYD, SIN, DXB, TPE],\n",
       " path[SYD, SIN, KUL, TPE],\n",
       " path[SYD, SIN, BKK, TPE],\n",
       " path[SYD, SIN, ICN, TPE],\n",
       " path[SYD, SIN, PNH, TPE],\n",
       " path[SYD, SIN, FUK, TPE],\n",
       " path[SYD, SIN, CAN, TPE],\n",
       " path[SYD, SIN, KIX, TPE],\n",
       " path[SYD, SIN, CTS, TPE],\n",
       " path[SYD, SIN, DPS, TPE],\n",
       " path[SYD, SIN, NKG, TPE],\n",
       " path[SYD, SIN, HGH, TPE],\n",
       " path[SYD, SIN, KMG, TPE],\n",
       " path[SYD, SIN, CSX, TPE]]"
      ]
     },
     "metadata": {},
     "execution_count": 132
    }
   ],
   "source": [
    "g.V(findId)\\\n",
    "    .repeat(__.out().simplePath())\\\n",
    "    .emit(__.has('code', 'TPE'))\\\n",
    "    .path()\\\n",
    "    .by('code')\\\n",
    "    .limit(50)\\\n",
    "    .fold()\\\n",
    "    .next()"
   ]
  },
  {
   "source": [
    "'''\n",
    "### Plan\n",
    "\n",
    "[x] 1) I’ll share our previous demo with update graph functionality(we can get connection here, settings etc)\n",
    "[x] 2) Sergey can create new notepad and connect to the graph using example from the demo\n",
    "3) Work with Neptune Graph more:\n",
    "    - prepare query for getting all elemnets of the subgraph(for example clamshell) and render them in the notepad\n",
    "    - prepare query for getting all drop addresses for related clamshell\n",
    "    - show 100 clamshells with connected house hold to the drop\n",
    "    - mark/add to all elements of the subgraph(clamshell level) with the unique value property, render it and show that some elements have it\n",
    "4) Lambda and Step Machine\n",
    "    - step machine has a ist of regions(ATLANTA, FREEDOM)\n",
    "    - create Lamdba which get all clamshell ids from the bucket(region)\n",
    "    - get only 20 from that list of clamshell ids and run in parralel in the step function using lamdba function wich reognize all node names and calculate their count\n",
    "\n",
    "Note:\n",
    "1. Documentation for explorar data\n",
    "Do we need drop verted before explorar data?\n",
    "\n",
    "'''\n",
    "\n",
    "\n",
    "\n",
    "\n"
   ],
   "cell_type": "code",
   "metadata": {},
   "execution_count": null,
   "outputs": []
  },
  {
   "source": [
    "# Pre working withe dataset"
   ],
   "cell_type": "markdown",
   "metadata": {}
  },
  {
   "cell_type": "code",
   "execution_count": null,
   "metadata": {},
   "outputs": [],
   "source": [
    "'''\n",
    "How do we know which Neptune cluster to access? The cell magics exposed by Neptune Notebooks use a configuration located by default under ~/graph_notebook_config.json At the time of initialization of the Sagemaker instance, this configuration is generated using environment variables derived from the cluster being connected to.\n",
    "'''\n",
    "\n",
    "%%bash\n",
    "\n",
    "cat ~/graph_notebook_config.json"
   ]
  },
  {
   "cell_type": "code",
   "execution_count": null,
   "metadata": {},
   "outputs": [],
   "source": [
    "%graph_notebook_config"
   ]
  },
  {
   "cell_type": "code",
   "execution_count": null,
   "metadata": {},
   "outputs": [],
   "source": []
  },
  {
   "source": [
    "# Reviewing the dataset"
   ],
   "cell_type": "markdown",
   "metadata": {}
  },
  {
   "cell_type": "code",
   "execution_count": null,
   "metadata": {},
   "outputs": [],
   "source": [
    "# Check vertex of dataset\n",
    "%%gremlin\n",
    "g.V().groupCount().by(label).unfold()"
   ]
  },
  {
   "cell_type": "code",
   "execution_count": null,
   "metadata": {},
   "outputs": [],
   "source": [
    "# Check edge of dataset\n",
    "%%gremlin\n",
    "g.E().groupCount().by(label).unfold()"
   ]
  },
  {
   "cell_type": "code",
   "execution_count": null,
   "metadata": {},
   "outputs": [],
   "source": [
    "%%gremlin -p v,inv\n",
    "g.V().has('airport','code','CZM').out('route').path().by('city')"
   ]
  },
  {
   "cell_type": "code",
   "execution_count": null,
   "metadata": {},
   "outputs": [],
   "source": [
    "'''\n",
    "Run the query below, select the Graph tab, select a node in the graph and click on the details button (the one with three .- one above the other). As you select different vertices the details view window will update. This is useful when you want to explore lots of properties for multiple vertices using the Graph view.\n",
    "'''\n",
    "%%gremlin\n",
    "g.V().has('airport','code','CZM').\n",
    "  out('route').\n",
    "  path().\n",
    "    by(valueMap('code','city','region','desc','lat','lon').\n",
    "       order(local).\n",
    "         by(keys))"
   ]
  },
  {
   "cell_type": "code",
   "execution_count": null,
   "metadata": {},
   "outputs": [],
   "source": [
    "# Explorar data by ID of client\n",
    "%%gremlin \n",
    "\n",
    "g.V('ed4982b00e323383583f30236e5b1f11').\n",
    "    out('uses').     // traverse the users edge to get to IP addresses\n",
    "    in('uses').      // go from the IP address vertex to other associated transient IDs\n",
    "    in('has_identity').    //go from the found transient IDs to known users (persistent IDs)\n",
    "    dedup().          // remove duplicate persistent IDs\n",
    "    path()           // show a path from the unknown anonymous user to a known user"
   ]
  },
  {
   "cell_type": "code",
   "execution_count": null,
   "metadata": {},
   "outputs": [],
   "source": [
    "%%gremlin\n",
    "\n",
    "g.V('ed4982b00e323383583f30236e5b1f11').\n",
    "    out('uses').     // traverse the users edge to get to IP addresses\n",
    "    in('uses').      // go from the IP address vertex to other associated transient IDs\n",
    "    in('has_identity').    //go from the found transient IDs to known users (persistent IDs)\n",
    "    dedup().          // remove duplicate persistent IDs\n",
    "    in('member').as('household').   //found the household associated with the found known user\n",
    "    out('member').    // traverse back to other known users in this household\n",
    "    out('has_identity').     //find other associated anonymous users associated to the known users\n",
    "    out('visited','uses').     //look at the other websites/products browed by those anonymous users\n",
    "    path().from('household')     //display the graph from household to associated clickstream events"
   ]
  },
  {
   "cell_type": "code",
   "execution_count": null,
   "metadata": {},
   "outputs": [],
   "source": []
  },
  {
   "cell_type": "code",
   "execution_count": null,
   "metadata": {},
   "outputs": [],
   "source": [
    "# Verify the data was inserted\n",
    "%%gremlin\n",
    "g.V().groupCount().by(label).unfold()\n"
   ]
  },
  {
   "cell_type": "code",
   "execution_count": null,
   "metadata": {},
   "outputs": [],
   "source": [
    "# Verify the data was inserted\n",
    "%%gremlin\n",
    "g.E().groupCount().by(label).unfold()"
   ]
  },
  {
   "cell_type": "code",
   "execution_count": null,
   "metadata": {},
   "outputs": [],
   "source": [
    "# Build a visualization of the graph \n",
    "%%gremlin -p v,ine,outv,oute,inv,oute,inv\n",
    "g.V().hasLabel('League').inE().outV().outE().inV().outE().inV().path().by('name').by(label)"
   ]
  },
  {
   "cell_type": "code",
   "execution_count": null,
   "metadata": {},
   "outputs": [],
   "source": [
    "# How many teams were in the league that season?\n",
    "%%gremlin\n",
    "g.V().hasLabel('Team').count()"
   ]
  },
  {
   "cell_type": "code",
   "execution_count": null,
   "metadata": {},
   "outputs": [],
   "source": [
    "# How many teams were in the league that season?\n",
    "%%gremlin\n",
    "g.V('EPL-2019-20').in('CURRENT_LEAGUE').count()"
   ]
  },
  {
   "cell_type": "code",
   "execution_count": null,
   "metadata": {},
   "outputs": [],
   "source": [
    "# Team info\n",
    "%%gremlin\n",
    "g.V().hasLabel('Team').valueMap()"
   ]
  },
  {
   "cell_type": "code",
   "execution_count": null,
   "metadata": {},
   "outputs": [],
   "source": [
    "# Team and stadium info\n",
    "%%gremlin\n",
    "g.V().hasLabel('Team').\n",
    "  project('name','stadium','city').\n",
    "    by('name').\n",
    "    by(out('STADIUM').values('name')).\n",
    "    by(out('STADIUM').out('CITY').values('name'))"
   ]
  },
  {
   "cell_type": "code",
   "execution_count": null,
   "metadata": {},
   "outputs": [],
   "source": [
    "# Teams based in London\n",
    "%%gremlin\n",
    "g.V().has('City','name','London').in('CITY').in('STADIUM').values('name')"
   ]
  },
  {
   "cell_type": "code",
   "execution_count": null,
   "metadata": {},
   "outputs": [],
   "source": [
    "# Stadiums in London\n",
    "%%gremlin -p v,outv\n",
    "g.V().has('City','name','London').in('CITY').path().by('name')"
   ]
  },
  {
   "cell_type": "code",
   "execution_count": null,
   "metadata": {},
   "outputs": [],
   "source": [
    "# Teams in London plus their stadiums\n",
    "%%gremlin -p v,outv,outv\n",
    "g.V().has('City','name','London').in('CITY').in('STADIUM').path().by('name')\n"
   ]
  },
  {
   "cell_type": "code",
   "execution_count": null,
   "metadata": {},
   "outputs": [],
   "source": [
    "# Was Coventry in the league that season?\n",
    "%%gremlin\n",
    "g.V().has('Team','name','Coventry').\n",
    "  fold().\n",
    "  coalesce(unfold(),constant('Not in the EPL that year'))"
   ]
  },
  {
   "cell_type": "code",
   "execution_count": null,
   "metadata": {},
   "outputs": [],
   "source": [
    "# Using text predicates to find sub-strings\n",
    "%%gremlin\n",
    "g.V().has('Team','name',containing('ou')).values('name')"
   ]
  },
  {
   "cell_type": "code",
   "execution_count": null,
   "metadata": {},
   "outputs": [],
   "source": [
    "# Find everything the graph contains related to Arsenal\n",
    "\n",
    "%%gremlin\n",
    "\n",
    "g.V().hasId('Arsenal').\n",
    "        project('names-and-age','stadium','city').\n",
    "          by(valueMap().by(unfold())).\n",
    "          by(out('STADIUM').values('name')).\n",
    "          by(out('STADIUM').out('CITY').values('name')).unfold()"
   ]
  },
  {
   "cell_type": "code",
   "execution_count": null,
   "metadata": {},
   "outputs": [],
   "source": [
    "# How many stadiums are in each city?\n",
    "%%gremlin\n",
    "g.V().hasLabel('Stadium').\n",
    "  groupCount().\n",
    "    by(out('CITY')).\n",
    "  order(local).\n",
    "    by(values,desc).\n",
    "  unfold()"
   ]
  },
  {
   "cell_type": "code",
   "execution_count": null,
   "metadata": {},
   "outputs": [],
   "source": [
    "# What year did each stadium open?\n",
    "%%gremlin\n",
    "g.V().hasLabel('Stadium').\n",
    "  valueMap('name','opened').by(unfold()).\n",
    "    order().\n",
    "  by(select('opened'))"
   ]
  },
  {
   "cell_type": "code",
   "execution_count": null,
   "metadata": {},
   "outputs": [],
   "source": [
    "# Stadiums ordered by descending capacity\n",
    "%%gremlin\n",
    "g.V().hasLabel('Stadium').\n",
    "  order().\n",
    "    by('capacity',desc).\n",
    "  valueMap('name','capacity').\n",
    "    by(unfold())"
   ]
  },
  {
   "cell_type": "code",
   "execution_count": null,
   "metadata": {},
   "outputs": [],
   "source": [
    "# Number of teams founded in a given year\n",
    "\n",
    "%%gremlin\n",
    "g.V().hasLabel('Team').\n",
    "  group().\n",
    "    by('founded').\n",
    "    by('name').\n",
    "  order(local).\n",
    "    by(keys).\n",
    "  unfold()"
   ]
  },
  {
   "cell_type": "code",
   "execution_count": null,
   "metadata": {},
   "outputs": [],
   "source": [
    "# In this case, the edge direction can be determined as there is an outE step included in the query.\n",
    "g.V().hasLabel('airport').outE().inV().path().limit(5)"
   ]
  },
  {
   "cell_type": "code",
   "execution_count": null,
   "metadata": {},
   "outputs": [],
   "source": [
    "'''\n",
    "When no by modulators are provided, the visualizer will use the vertex and edge labels to annotate the elements of the diagram. However, when by modulators are used, it is not possible for the visualizer in all cases to decide on its own which path elements represent a vertex and which represent an edge. Here is an example of such a query:\n",
    "'''\n",
    "\n",
    "g.V().hasLabel('airport').outE().inV().path().by('code').by('dist').limit(5)"
   ]
  },
  {
   "cell_type": "code",
   "execution_count": null,
   "metadata": {},
   "outputs": [],
   "source": [
    "# We can provide visualization hints for the query shown earlier as follows:\n",
    "\n",
    "%%gremlin -p v,oute,inv\n",
    "g.V().hasLabel('airport').outE().inV().path().by('code').by('dist').limit(5)"
   ]
  },
  {
   "source": [
    "## Recomedation system"
   ],
   "cell_type": "markdown",
   "metadata": {}
  },
  {
   "cell_type": "code",
   "execution_count": null,
   "metadata": {},
   "outputs": [],
   "source": [
    "%%gremlin\n",
    "\n",
    "g.V().hasLabel('User').has('name', 'Terry').as_('user')  \n",
    "  .bothE('FRIEND')    \n",
    "    .has('strength', P.gt(1)).otherV()\n",
    "    .aggregate('friends')\n",
    "  .bothE('FRIEND')\n",
    "    .has('strength', P.gt(1)).otherV()\n",
    "    .where(P.neq('user')).where(P.without('friends'))\n",
    "  .groupCount().by('name')\n",
    "  .order(Scope.local).by(values, Order.decr)\n",
    "  .next()\n"
   ]
  },
  {
   "cell_type": "code",
   "execution_count": null,
   "metadata": {},
   "outputs": [],
   "source": [
    "# Lamdda\n",
    "import json\n",
    "import urllib.parse\n",
    "import boto3\n",
    "\n",
    "print('Loading function')\n",
    "\n",
    "s3 = boto3.client('s3')\n",
    "\n",
    "\n",
    "def lambda_handler(event, context):\n",
    "    #print(\"Received event: \" + json.dumps(event, indent=2))\n",
    "\n",
    "    # Get the object from the event and show its content type\n",
    "    bucket = event['Records'][0]['s3']['bucket']['name']\n",
    "    key = urllib.parse.unquote_plus(event['Records'][0]['s3']['object']['key'], encoding='utf-8')\n",
    "    try:\n",
    "        response = s3.get_object(Bucket=bucket, Key=key)\n",
    "        print(\"CONTENT TYPE: \" + response['ContentType'])\n",
    "        return response['ContentType']\n",
    "    except Exception as e:\n",
    "        print(e)\n",
    "        print('Error getting object {} from bucket {}. Make sure they exist and your bucket is in the same region as this function.'.format(key, bucket))\n",
    "        raise e\n",
    "              "
   ]
  },
  {
   "cell_type": "code",
   "execution_count": null,
   "metadata": {},
   "outputs": [],
   "source": [
    "# - prepare query for getting all elemnets of the subgraph(for example clamshell) and render them in the notepad\n",
    "%%gremlin\n",
    "g.E().project('clamshell').\n",
    "        by(id).\n",
    "        by('clamshell').\n",
    "        by(inV().id()).\n",
    "        by(outV().id())\n",
    "        \n",
    "g.V(node_id).emit().repeat(both().simplePath()).dedup()\n",
    "\n",
    "g.V().\n",
    "  repeat(groupCount('m').\n",
    "           by('name').\n",
    "         outE().has(....).inV()).\n",
    "    times(5).\n",
    "  cap('m')\n",
    "\n",
    "g.V().repeat(outE().order().by('clamshell').inV()).emit().times(3)\n",
    "\n",
    "g.V().has('url','c94174b63350fd53').out('clamshell').dedup().path()\n",
    "  "
   ]
  },
  {
   "cell_type": "code",
   "execution_count": null,
   "metadata": {},
   "outputs": [],
   "source": [
    "# - prepare query for getting all drop addresses for related clamshell\n",
    "%%gremlin \n",
    "\n",
    "g.V('id343434').out('clamshell').in('clamshell').dedup().toList()\n",
    "g.V().has('name').out('clamshell').valueMap()      \n",
    "\n",
    "%%gremlin -p v,oute,inv\n",
    "g.V().has('airport','code','PSP').outE().inV().\n",
    "  path().\n",
    "    by(valueMap('code','city','region','desc','lat','lon').with(WithOptions.tokens)).\n",
    "    by('dist').limit(10)"
   ]
  },
  {
   "cell_type": "code",
   "execution_count": null,
   "metadata": {},
   "outputs": [],
   "source": [
    "#   - show 100 clamshells with connected house hold to the drop\n",
    "g.V().hasLabel('clamshells').outE().inV().path().by('house_hold').limit(100)\n",
    "\n",
    "g.V().has('country','NZ').out('route').has('country','AU').path().by('house hold').limit(100) #house hold dropn\n",
    "\n"
   ]
  },
  {
   "cell_type": "code",
   "execution_count": null,
   "metadata": {},
   "outputs": [],
   "source": [
    "# - mark/add to all elements of the subgraph(clamshell level) with the unique value property, render it and show that some elements have it\n",
    "g.V().hasLabel('person').properties('interesting').iterate()"
   ]
  },
  {
   "source": [
    "# Test"
   ],
   "cell_type": "markdown",
   "metadata": {}
  },
  {
   "cell_type": "code",
   "execution_count": 79,
   "metadata": {},
   "outputs": [
    {
     "output_type": "execute_result",
     "data": {
      "text/plain": [
       "3619"
      ]
     },
     "metadata": {},
     "execution_count": 79
    }
   ],
   "source": [
    "g.V().count().next()"
   ]
  },
  {
   "cell_type": "code",
   "execution_count": 80,
   "metadata": {},
   "outputs": [
    {
     "output_type": "execute_result",
     "data": {
      "text/plain": [
       "50148"
      ]
     },
     "metadata": {},
     "execution_count": 80
    }
   ],
   "source": [
    "g.E().count().next()"
   ]
  },
  {
   "cell_type": "code",
   "execution_count": 101,
   "metadata": {},
   "outputs": [
    {
     "output_type": "execute_result",
     "data": {
      "text/plain": [
       "[v[10080264], v[10084360], v[10088456]]"
      ]
     },
     "metadata": {},
     "execution_count": 101
    }
   ],
   "source": [
    "g.V().next(3)"
   ]
  },
  {
   "cell_type": "code",
   "execution_count": 139,
   "metadata": {},
   "outputs": [
    {
     "output_type": "execute_result",
     "data": {
      "text/plain": [
       "{'code': ['ATL'],\n",
       " 'type': ['airport'],\n",
       " 'desc': ['Hartsfield - Jackson Atlanta International Airport'],\n",
       " 'country': ['US'],\n",
       " 'longest': [12390],\n",
       " 'city': ['Atlanta'],\n",
       " 'elev': [1026],\n",
       " 'icao': ['KATL'],\n",
       " 'lon': [-84.4281005859375],\n",
       " 'region': ['US-GA'],\n",
       " 'runways': [5],\n",
       " 'lat': [33.6366996765137]}"
      ]
     },
     "metadata": {},
     "execution_count": 139
    }
   ],
   "source": [
    "g.V(10084360).valueMap().next()"
   ]
  },
  {
   "cell_type": "code",
   "execution_count": 143,
   "metadata": {},
   "outputs": [
    {
     "output_type": "execute_result",
     "data": {
      "text/plain": [
       "[e[{'@type': 'janusgraph:RelationIdentifier', '@value': {'relationId': 'lccn5-60554-fth-608aw'}}][10084360-route->10088456],\n",
       " e[{'@type': 'janusgraph:RelationIdentifier', '@value': {'relationId': 'lcfep-60554-fth-60bgo'}}][10084360-route->10092552],\n",
       " e[{'@type': 'janusgraph:RelationIdentifier', '@value': {'relationId': 'lcgzl-60554-fth-60emg'}}][10084360-route->10096648]]"
      ]
     },
     "metadata": {},
     "execution_count": 143
    }
   ],
   "source": [
    "g.E().next(3)"
   ]
  },
  {
   "cell_type": "code",
   "execution_count": null,
   "metadata": {},
   "outputs": [],
   "source": []
  },
  {
   "cell_type": "code",
   "execution_count": 240,
   "metadata": {},
   "outputs": [
    {
     "output_type": "execute_result",
     "data": {
      "text/plain": [
       "{'PR': 6,\n",
       " 'PT': 14,\n",
       " 'PW': 1,\n",
       " 'PY': 2,\n",
       " 'QA': 1,\n",
       " 'AE': 10,\n",
       " 'AF': 4,\n",
       " 'AG': 1,\n",
       " 'AI': 1,\n",
       " 'AL': 1,\n",
       " 'AM': 2,\n",
       " 'AO': 14,\n",
       " 'AR': 36,\n",
       " 'AS': 1,\n",
       " 'AT': 6,\n",
       " 'RE': 2,\n",
       " 'AU': 124,\n",
       " 'AW': 1,\n",
       " 'AZ': 5,\n",
       " 'RO': 14,\n",
       " 'BA': 4,\n",
       " 'BB': 1,\n",
       " 'RS': 2,\n",
       " 'BD': 7,\n",
       " 'RU': 120,\n",
       " 'BE': 5,\n",
       " 'BF': 2,\n",
       " 'BG': 4,\n",
       " 'RW': 2,\n",
       " 'BH': 1,\n",
       " 'BI': 1,\n",
       " 'BJ': 1,\n",
       " 'BL': 1,\n",
       " 'BM': 1,\n",
       " 'BN': 1,\n",
       " 'BO': 15,\n",
       " 'SA': 26,\n",
       " 'SB': 17,\n",
       " 'BQ': 3,\n",
       " 'SC': 2,\n",
       " 'BR': 115,\n",
       " 'BS': 18,\n",
       " 'SD': 5,\n",
       " 'SE': 39,\n",
       " 'BT': 1,\n",
       " 'SG': 1,\n",
       " 'BW': 4,\n",
       " 'SH': 2,\n",
       " 'SI': 1,\n",
       " 'BY': 2,\n",
       " 'BZ': 13,\n",
       " 'SK': 2,\n",
       " 'SL': 1,\n",
       " 'SN': 3,\n",
       " 'SO': 5,\n",
       " 'CA': 203,\n",
       " 'SR': 1,\n",
       " 'SS': 1,\n",
       " 'CC': 1,\n",
       " 'ST': 1,\n",
       " 'CD': 11,\n",
       " 'CF': 1,\n",
       " 'SV': 1,\n",
       " 'CG': 3,\n",
       " 'CH': 5,\n",
       " 'SX': 1,\n",
       " 'SY': 2,\n",
       " 'CI': 1,\n",
       " 'SZ': 1,\n",
       " 'CK': 6,\n",
       " 'CL': 17,\n",
       " 'CM': 5,\n",
       " 'CN': 209,\n",
       " 'CO': 50,\n",
       " 'CR': 13,\n",
       " 'TC': 4,\n",
       " 'TD': 1,\n",
       " 'CU': 12,\n",
       " 'TG': 1,\n",
       " 'CV': 7,\n",
       " 'TH': 32,\n",
       " 'CW': 1,\n",
       " 'CX': 1,\n",
       " 'TJ': 4,\n",
       " 'CY': 3,\n",
       " 'CZ': 5,\n",
       " 'TL': 1,\n",
       " 'TM': 1,\n",
       " 'TN': 8,\n",
       " 'TO': 1,\n",
       " 'TR': 48,\n",
       " 'TT': 2,\n",
       " 'DE': 33,\n",
       " 'TV': 1,\n",
       " 'TW': 9,\n",
       " 'TZ': 8,\n",
       " 'DJ': 1,\n",
       " 'DK': 8,\n",
       " 'DM': 1,\n",
       " 'DO': 7,\n",
       " 'UA': 15,\n",
       " 'UG': 4,\n",
       " 'UK': 58,\n",
       " 'DZ': 29,\n",
       " 'US': 579,\n",
       " 'EC': 15,\n",
       " 'EE': 3,\n",
       " 'EG': 10,\n",
       " 'EH': 2,\n",
       " 'UY': 2,\n",
       " 'UZ': 11,\n",
       " 'ER': 1,\n",
       " 'VC': 1,\n",
       " 'ES': 42,\n",
       " 'ET': 14,\n",
       " 'VE': 24,\n",
       " 'VG': 2,\n",
       " 'VI': 2,\n",
       " 'VN': 21,\n",
       " 'VU': 26,\n",
       " 'FI': 20,\n",
       " 'FJ': 10,\n",
       " 'FK': 2,\n",
       " 'FM': 4,\n",
       " 'FO': 1,\n",
       " 'FR': 58,\n",
       " 'WF': 2,\n",
       " 'GA': 2,\n",
       " 'WS': 1,\n",
       " 'GD': 1,\n",
       " 'GE': 3,\n",
       " 'GF': 1,\n",
       " 'GG': 2,\n",
       " 'GH': 5,\n",
       " 'GI': 1,\n",
       " 'GL': 14,\n",
       " 'GM': 1,\n",
       " 'GN': 1,\n",
       " 'GP': 1,\n",
       " 'GQ': 2,\n",
       " 'GR': 39,\n",
       " 'GT': 2,\n",
       " 'GU': 1,\n",
       " 'GW': 1,\n",
       " 'GY': 2,\n",
       " 'HK': 1,\n",
       " 'HN': 6,\n",
       " 'HR': 8,\n",
       " 'YE': 9,\n",
       " 'HT': 2,\n",
       " 'HU': 2,\n",
       " 'ID': 67,\n",
       " 'YT': 1,\n",
       " 'IE': 7,\n",
       " 'IL': 5,\n",
       " 'IM': 1,\n",
       " 'IN': 73,\n",
       " 'ZA': 20,\n",
       " 'IQ': 6,\n",
       " 'IR': 44,\n",
       " 'IS': 5,\n",
       " 'IT': 36,\n",
       " 'ZM': 8,\n",
       " 'JE': 1,\n",
       " 'ZW': 3,\n",
       " 'JM': 2,\n",
       " 'JO': 2,\n",
       " 'JP': 63,\n",
       " 'KE': 14,\n",
       " 'KG': 2,\n",
       " 'KH': 3,\n",
       " 'KI': 2,\n",
       " 'KM': 1,\n",
       " 'KN': 2,\n",
       " 'KP': 1,\n",
       " 'KR': 15,\n",
       " 'KS': 1,\n",
       " 'KW': 1,\n",
       " 'KY': 3,\n",
       " 'KZ': 20,\n",
       " 'LA': 8,\n",
       " 'LB': 1,\n",
       " 'LC': 2,\n",
       " 'LK': 6,\n",
       " 'LR': 2,\n",
       " 'LS': 1,\n",
       " 'LT': 3,\n",
       " 'LU': 1,\n",
       " 'LV': 1,\n",
       " 'LY': 10,\n",
       " 'MA': 14,\n",
       " 'MD': 1,\n",
       " 'ME': 2,\n",
       " 'MF': 1,\n",
       " 'MG': 13,\n",
       " 'MH': 2,\n",
       " 'MK': 1,\n",
       " 'ML': 1,\n",
       " 'MM': 14,\n",
       " 'MN': 10,\n",
       " 'MO': 1,\n",
       " 'MP': 2,\n",
       " 'MQ': 1,\n",
       " 'MR': 3,\n",
       " 'MS': 1,\n",
       " 'MT': 1,\n",
       " 'MU': 2,\n",
       " 'MV': 8,\n",
       " 'MW': 2,\n",
       " 'MX': 59,\n",
       " 'MY': 34,\n",
       " 'MZ': 10,\n",
       " 'NA': 4,\n",
       " 'NC': 1,\n",
       " 'NE': 1,\n",
       " 'NF': 1,\n",
       " 'NG': 18,\n",
       " 'NI': 1,\n",
       " 'NL': 5,\n",
       " 'NO': 49,\n",
       " 'NP': 10,\n",
       " 'NR': 1,\n",
       " 'NZ': 25,\n",
       " 'OM': 4,\n",
       " 'PA': 5,\n",
       " 'PE': 20,\n",
       " 'PF': 30,\n",
       " 'PG': 26,\n",
       " 'PH': 38,\n",
       " 'PK': 21,\n",
       " 'PL': 13,\n",
       " 'PM': 1}"
      ]
     },
     "metadata": {},
     "execution_count": 240
    }
   ],
   "source": [
    "g.V().hasLabel('airport').groupCount().by('country').next()"
   ]
  },
  {
   "cell_type": "code",
   "execution_count": 166,
   "metadata": {},
   "outputs": [
    {
     "output_type": "execute_result",
     "data": {
      "text/plain": [
       "[path[ORD, ATL],\n",
       " path[ORD, AUS],\n",
       " path[ORD, IAD],\n",
       " path[ORD, LGA],\n",
       " path[ORD, PHX],\n",
       " path[ORD, ELP],\n",
       " path[ORD, DUB],\n",
       " path[ORD, HKG],\n",
       " path[ORD, PVG],\n",
       " path[ORD, FCO]]"
      ]
     },
     "metadata": {},
     "execution_count": 166
    }
   ],
   "source": [
    "g.V().has('code','ORD').out().path().by('code').limit(10).fold().next()"
   ]
  },
  {
   "cell_type": "code",
   "execution_count": 170,
   "metadata": {},
   "outputs": [
    {
     "output_type": "execute_result",
     "data": {
      "text/plain": [
       "{'DE': 4,\n",
       " 'PR': 1,\n",
       " 'HK': 1,\n",
       " 'BE': 1,\n",
       " 'TW': 1,\n",
       " 'JM': 1,\n",
       " 'JO': 1,\n",
       " 'JP': 2,\n",
       " 'DK': 1,\n",
       " 'DO': 1,\n",
       " 'FR': 1,\n",
       " 'QA': 1,\n",
       " 'BR': 1,\n",
       " 'BS': 1,\n",
       " 'SE': 1,\n",
       " 'UK': 2,\n",
       " 'IE': 1,\n",
       " 'US': 166,\n",
       " 'CA': 13,\n",
       " 'SV': 1,\n",
       " 'AE': 2,\n",
       " 'IN': 1,\n",
       " 'CH': 1,\n",
       " 'SX': 1,\n",
       " 'KR': 1,\n",
       " 'IS': 1,\n",
       " 'CN': 2,\n",
       " 'IT': 1,\n",
       " 'MX': 6,\n",
       " 'GT': 1,\n",
       " 'KY': 1,\n",
       " 'ES': 2,\n",
       " 'TC': 1,\n",
       " 'CR': 1,\n",
       " 'PA': 1,\n",
       " 'AT': 1,\n",
       " 'VI': 1,\n",
       " 'LC': 1,\n",
       " 'PL': 2,\n",
       " 'NL': 1,\n",
       " 'TR': 1}"
      ]
     },
     "metadata": {},
     "execution_count": 170
    }
   ],
   "source": [
    "g.V().has('code','ORD').out().groupCount().by('country').next()"
   ]
  },
  {
   "cell_type": "code",
   "execution_count": 178,
   "metadata": {},
   "outputs": [
    {
     "output_type": "execute_result",
     "data": {
      "text/plain": [
       "['DFW',\n",
       " 'airport',\n",
       " 'Dallas/Fort Worth International Airport',\n",
       " 'US',\n",
       " 13401,\n",
       " 'Dallas',\n",
       " 607,\n",
       " 'KDFW',\n",
       " -97.0380020141602,\n",
       " 'US-TX',\n",
       " 7,\n",
       " 32.896800994873]"
      ]
     },
     "metadata": {},
     "execution_count": 178
    }
   ],
   "source": [
    "g.V().has('airport','code','DFW').values().fold().next()"
   ]
  },
  {
   "cell_type": "code",
   "execution_count": 192,
   "metadata": {},
   "outputs": [
    {
     "output_type": "execute_result",
     "data": {
      "text/plain": [
       "43400"
      ]
     },
     "metadata": {},
     "execution_count": 192
    }
   ],
   "source": [
    "g.E().has('dist').count().next()"
   ]
  },
  {
   "cell_type": "code",
   "execution_count": 196,
   "metadata": {},
   "outputs": [
    {
     "output_type": "execute_result",
     "data": {
      "text/plain": [
       "e[{'@type': 'janusgraph:RelationIdentifier', '@value': {'relationId': 'lccn5-60554-fth-608aw'}}][10084360-route->10088456]"
      ]
     },
     "metadata": {},
     "execution_count": 196
    }
   ],
   "source": [
    "g.E().next()"
   ]
  },
  {
   "cell_type": "code",
   "execution_count": 229,
   "metadata": {},
   "outputs": [
    {
     "output_type": "error",
     "ename": "ConnectionResetError",
     "evalue": "Cannot write to closing transport",
     "traceback": [
      "\u001b[0;31m---------------------------------------------------------------------------\u001b[0m",
      "\u001b[0;31mConnectionResetError\u001b[0m                      Traceback (most recent call last)",
      "\u001b[0;32m<ipython-input-229-56bdcb44c897>\u001b[0m in \u001b[0;36m<module>\u001b[0;34m\u001b[0m\n\u001b[0;32m----> 1\u001b[0;31m \u001b[0mg\u001b[0m\u001b[0;34m.\u001b[0m\u001b[0mE\u001b[0m\u001b[0;34m(\u001b[0m\u001b[0;34m'10084360'\u001b[0m\u001b[0;34m)\u001b[0m\u001b[0;34m.\u001b[0m\u001b[0mvalueMap\u001b[0m\u001b[0;34m(\u001b[0m\u001b[0;34m)\u001b[0m\u001b[0;34m.\u001b[0m\u001b[0mnext\u001b[0m\u001b[0;34m(\u001b[0m\u001b[0;34m)\u001b[0m\u001b[0;34m\u001b[0m\u001b[0;34m\u001b[0m\u001b[0m\n\u001b[0m",
      "\u001b[0;32m~/BIGDATA/lib/python3.8/site-packages/gremlin_python/process/traversal.py\u001b[0m in \u001b[0;36mnext\u001b[0;34m(self, amount)\u001b[0m\n\u001b[1;32m     86\u001b[0m     \u001b[0;32mdef\u001b[0m \u001b[0mnext\u001b[0m\u001b[0;34m(\u001b[0m\u001b[0mself\u001b[0m\u001b[0;34m,\u001b[0m \u001b[0mamount\u001b[0m\u001b[0;34m=\u001b[0m\u001b[0;32mNone\u001b[0m\u001b[0;34m)\u001b[0m\u001b[0;34m:\u001b[0m\u001b[0;34m\u001b[0m\u001b[0;34m\u001b[0m\u001b[0m\n\u001b[1;32m     87\u001b[0m         \u001b[0;32mif\u001b[0m \u001b[0mamount\u001b[0m \u001b[0;32mis\u001b[0m \u001b[0;32mNone\u001b[0m\u001b[0;34m:\u001b[0m\u001b[0;34m\u001b[0m\u001b[0;34m\u001b[0m\u001b[0m\n\u001b[0;32m---> 88\u001b[0;31m             \u001b[0;32mreturn\u001b[0m \u001b[0mself\u001b[0m\u001b[0;34m.\u001b[0m\u001b[0m__next__\u001b[0m\u001b[0;34m(\u001b[0m\u001b[0;34m)\u001b[0m\u001b[0;34m\u001b[0m\u001b[0;34m\u001b[0m\u001b[0m\n\u001b[0m\u001b[1;32m     89\u001b[0m         \u001b[0;32melse\u001b[0m\u001b[0;34m:\u001b[0m\u001b[0;34m\u001b[0m\u001b[0;34m\u001b[0m\u001b[0m\n\u001b[1;32m     90\u001b[0m             \u001b[0mcount\u001b[0m \u001b[0;34m=\u001b[0m \u001b[0;36m0\u001b[0m\u001b[0;34m\u001b[0m\u001b[0;34m\u001b[0m\u001b[0m\n",
      "\u001b[0;32m~/BIGDATA/lib/python3.8/site-packages/gremlin_python/process/traversal.py\u001b[0m in \u001b[0;36m__next__\u001b[0;34m(self)\u001b[0m\n\u001b[1;32m     45\u001b[0m     \u001b[0;32mdef\u001b[0m \u001b[0m__next__\u001b[0m\u001b[0;34m(\u001b[0m\u001b[0mself\u001b[0m\u001b[0;34m)\u001b[0m\u001b[0;34m:\u001b[0m\u001b[0;34m\u001b[0m\u001b[0;34m\u001b[0m\u001b[0m\n\u001b[1;32m     46\u001b[0m         \u001b[0;32mif\u001b[0m \u001b[0mself\u001b[0m\u001b[0;34m.\u001b[0m\u001b[0mtraversers\u001b[0m \u001b[0;32mis\u001b[0m \u001b[0;32mNone\u001b[0m\u001b[0;34m:\u001b[0m\u001b[0;34m\u001b[0m\u001b[0;34m\u001b[0m\u001b[0m\n\u001b[0;32m---> 47\u001b[0;31m             \u001b[0mself\u001b[0m\u001b[0;34m.\u001b[0m\u001b[0mtraversal_strategies\u001b[0m\u001b[0;34m.\u001b[0m\u001b[0mapply_strategies\u001b[0m\u001b[0;34m(\u001b[0m\u001b[0mself\u001b[0m\u001b[0;34m)\u001b[0m\u001b[0;34m\u001b[0m\u001b[0;34m\u001b[0m\u001b[0m\n\u001b[0m\u001b[1;32m     48\u001b[0m         \u001b[0;32mif\u001b[0m \u001b[0mself\u001b[0m\u001b[0;34m.\u001b[0m\u001b[0mlast_traverser\u001b[0m \u001b[0;32mis\u001b[0m \u001b[0;32mNone\u001b[0m\u001b[0;34m:\u001b[0m\u001b[0;34m\u001b[0m\u001b[0;34m\u001b[0m\u001b[0m\n\u001b[1;32m     49\u001b[0m             \u001b[0mself\u001b[0m\u001b[0;34m.\u001b[0m\u001b[0mlast_traverser\u001b[0m \u001b[0;34m=\u001b[0m \u001b[0mnext\u001b[0m\u001b[0;34m(\u001b[0m\u001b[0mself\u001b[0m\u001b[0;34m.\u001b[0m\u001b[0mtraversers\u001b[0m\u001b[0;34m)\u001b[0m\u001b[0;34m\u001b[0m\u001b[0;34m\u001b[0m\u001b[0m\n",
      "\u001b[0;32m~/BIGDATA/lib/python3.8/site-packages/gremlin_python/process/traversal.py\u001b[0m in \u001b[0;36mapply_strategies\u001b[0;34m(self, traversal)\u001b[0m\n\u001b[1;32m    542\u001b[0m     \u001b[0;32mdef\u001b[0m \u001b[0mapply_strategies\u001b[0m\u001b[0;34m(\u001b[0m\u001b[0mself\u001b[0m\u001b[0;34m,\u001b[0m \u001b[0mtraversal\u001b[0m\u001b[0;34m)\u001b[0m\u001b[0;34m:\u001b[0m\u001b[0;34m\u001b[0m\u001b[0;34m\u001b[0m\u001b[0m\n\u001b[1;32m    543\u001b[0m         \u001b[0;32mfor\u001b[0m \u001b[0mtraversal_strategy\u001b[0m \u001b[0;32min\u001b[0m \u001b[0mself\u001b[0m\u001b[0;34m.\u001b[0m\u001b[0mtraversal_strategies\u001b[0m\u001b[0;34m:\u001b[0m\u001b[0;34m\u001b[0m\u001b[0;34m\u001b[0m\u001b[0m\n\u001b[0;32m--> 544\u001b[0;31m             \u001b[0mtraversal_strategy\u001b[0m\u001b[0;34m.\u001b[0m\u001b[0mapply\u001b[0m\u001b[0;34m(\u001b[0m\u001b[0mtraversal\u001b[0m\u001b[0;34m)\u001b[0m\u001b[0;34m\u001b[0m\u001b[0;34m\u001b[0m\u001b[0m\n\u001b[0m\u001b[1;32m    545\u001b[0m \u001b[0;34m\u001b[0m\u001b[0m\n\u001b[1;32m    546\u001b[0m     \u001b[0;32mdef\u001b[0m \u001b[0mapply_async_strategies\u001b[0m\u001b[0;34m(\u001b[0m\u001b[0mself\u001b[0m\u001b[0;34m,\u001b[0m \u001b[0mtraversal\u001b[0m\u001b[0;34m)\u001b[0m\u001b[0;34m:\u001b[0m\u001b[0;34m\u001b[0m\u001b[0;34m\u001b[0m\u001b[0m\n",
      "\u001b[0;32m~/BIGDATA/lib/python3.8/site-packages/gremlin_python/driver/remote_connection.py\u001b[0m in \u001b[0;36mapply\u001b[0;34m(self, traversal)\u001b[0m\n\u001b[1;32m     61\u001b[0m     \u001b[0;32mdef\u001b[0m \u001b[0mapply\u001b[0m\u001b[0;34m(\u001b[0m\u001b[0mself\u001b[0m\u001b[0;34m,\u001b[0m \u001b[0mtraversal\u001b[0m\u001b[0;34m)\u001b[0m\u001b[0;34m:\u001b[0m\u001b[0;34m\u001b[0m\u001b[0;34m\u001b[0m\u001b[0m\n\u001b[1;32m     62\u001b[0m         \u001b[0;32mif\u001b[0m \u001b[0mtraversal\u001b[0m\u001b[0;34m.\u001b[0m\u001b[0mtraversers\u001b[0m \u001b[0;32mis\u001b[0m \u001b[0;32mNone\u001b[0m\u001b[0;34m:\u001b[0m\u001b[0;34m\u001b[0m\u001b[0;34m\u001b[0m\u001b[0m\n\u001b[0;32m---> 63\u001b[0;31m             \u001b[0mremote_traversal\u001b[0m \u001b[0;34m=\u001b[0m \u001b[0mself\u001b[0m\u001b[0;34m.\u001b[0m\u001b[0mremote_connection\u001b[0m\u001b[0;34m.\u001b[0m\u001b[0msubmit\u001b[0m\u001b[0;34m(\u001b[0m\u001b[0mtraversal\u001b[0m\u001b[0;34m.\u001b[0m\u001b[0mbytecode\u001b[0m\u001b[0;34m)\u001b[0m\u001b[0;34m\u001b[0m\u001b[0;34m\u001b[0m\u001b[0m\n\u001b[0m\u001b[1;32m     64\u001b[0m             \u001b[0mtraversal\u001b[0m\u001b[0;34m.\u001b[0m\u001b[0mremote_results\u001b[0m \u001b[0;34m=\u001b[0m \u001b[0mremote_traversal\u001b[0m\u001b[0;34m\u001b[0m\u001b[0;34m\u001b[0m\u001b[0m\n\u001b[1;32m     65\u001b[0m             \u001b[0mtraversal\u001b[0m\u001b[0;34m.\u001b[0m\u001b[0mtraversers\u001b[0m \u001b[0;34m=\u001b[0m \u001b[0mremote_traversal\u001b[0m\u001b[0;34m.\u001b[0m\u001b[0mtraversers\u001b[0m\u001b[0;34m\u001b[0m\u001b[0;34m\u001b[0m\u001b[0m\n",
      "\u001b[0;32m~/BIGDATA/lib/python3.8/site-packages/gremlin_python/driver/driver_remote_connection.py\u001b[0m in \u001b[0;36msubmit\u001b[0;34m(self, bytecode)\u001b[0m\n\u001b[1;32m     57\u001b[0m \u001b[0;34m\u001b[0m\u001b[0m\n\u001b[1;32m     58\u001b[0m     \u001b[0;32mdef\u001b[0m \u001b[0msubmit\u001b[0m\u001b[0;34m(\u001b[0m\u001b[0mself\u001b[0m\u001b[0;34m,\u001b[0m \u001b[0mbytecode\u001b[0m\u001b[0;34m)\u001b[0m\u001b[0;34m:\u001b[0m\u001b[0;34m\u001b[0m\u001b[0;34m\u001b[0m\u001b[0m\n\u001b[0;32m---> 59\u001b[0;31m         \u001b[0mresult_set\u001b[0m \u001b[0;34m=\u001b[0m \u001b[0mself\u001b[0m\u001b[0;34m.\u001b[0m\u001b[0m_client\u001b[0m\u001b[0;34m.\u001b[0m\u001b[0msubmit\u001b[0m\u001b[0;34m(\u001b[0m\u001b[0mbytecode\u001b[0m\u001b[0;34m,\u001b[0m \u001b[0mrequest_options\u001b[0m\u001b[0;34m=\u001b[0m\u001b[0mself\u001b[0m\u001b[0;34m.\u001b[0m\u001b[0m_extract_request_options\u001b[0m\u001b[0;34m(\u001b[0m\u001b[0mbytecode\u001b[0m\u001b[0;34m)\u001b[0m\u001b[0;34m)\u001b[0m\u001b[0;34m\u001b[0m\u001b[0;34m\u001b[0m\u001b[0m\n\u001b[0m\u001b[1;32m     60\u001b[0m         \u001b[0mresults\u001b[0m \u001b[0;34m=\u001b[0m \u001b[0mresult_set\u001b[0m\u001b[0;34m.\u001b[0m\u001b[0mall\u001b[0m\u001b[0;34m(\u001b[0m\u001b[0;34m)\u001b[0m\u001b[0;34m.\u001b[0m\u001b[0mresult\u001b[0m\u001b[0;34m(\u001b[0m\u001b[0;34m)\u001b[0m\u001b[0;34m\u001b[0m\u001b[0;34m\u001b[0m\u001b[0m\n\u001b[1;32m     61\u001b[0m         \u001b[0;32mreturn\u001b[0m \u001b[0mRemoteTraversal\u001b[0m\u001b[0;34m(\u001b[0m\u001b[0miter\u001b[0m\u001b[0;34m(\u001b[0m\u001b[0mresults\u001b[0m\u001b[0;34m)\u001b[0m\u001b[0;34m)\u001b[0m\u001b[0;34m\u001b[0m\u001b[0;34m\u001b[0m\u001b[0m\n",
      "\u001b[0;32m~/BIGDATA/lib/python3.8/site-packages/gremlin_python/driver/client.py\u001b[0m in \u001b[0;36msubmit\u001b[0;34m(self, message, bindings, request_options)\u001b[0m\n\u001b[1;32m    130\u001b[0m \u001b[0;34m\u001b[0m\u001b[0m\n\u001b[1;32m    131\u001b[0m     \u001b[0;32mdef\u001b[0m \u001b[0msubmit\u001b[0m\u001b[0;34m(\u001b[0m\u001b[0mself\u001b[0m\u001b[0;34m,\u001b[0m \u001b[0mmessage\u001b[0m\u001b[0;34m,\u001b[0m \u001b[0mbindings\u001b[0m\u001b[0;34m=\u001b[0m\u001b[0;32mNone\u001b[0m\u001b[0;34m,\u001b[0m \u001b[0mrequest_options\u001b[0m\u001b[0;34m=\u001b[0m\u001b[0;32mNone\u001b[0m\u001b[0;34m)\u001b[0m\u001b[0;34m:\u001b[0m\u001b[0;34m\u001b[0m\u001b[0;34m\u001b[0m\u001b[0m\n\u001b[0;32m--> 132\u001b[0;31m         \u001b[0;32mreturn\u001b[0m \u001b[0mself\u001b[0m\u001b[0;34m.\u001b[0m\u001b[0msubmitAsync\u001b[0m\u001b[0;34m(\u001b[0m\u001b[0mmessage\u001b[0m\u001b[0;34m,\u001b[0m \u001b[0mbindings\u001b[0m\u001b[0;34m=\u001b[0m\u001b[0mbindings\u001b[0m\u001b[0;34m,\u001b[0m \u001b[0mrequest_options\u001b[0m\u001b[0;34m=\u001b[0m\u001b[0mrequest_options\u001b[0m\u001b[0;34m)\u001b[0m\u001b[0;34m.\u001b[0m\u001b[0mresult\u001b[0m\u001b[0;34m(\u001b[0m\u001b[0;34m)\u001b[0m\u001b[0;34m\u001b[0m\u001b[0;34m\u001b[0m\u001b[0m\n\u001b[0m\u001b[1;32m    133\u001b[0m \u001b[0;34m\u001b[0m\u001b[0m\n\u001b[1;32m    134\u001b[0m     \u001b[0;32mdef\u001b[0m \u001b[0msubmitAsync\u001b[0m\u001b[0;34m(\u001b[0m\u001b[0mself\u001b[0m\u001b[0;34m,\u001b[0m \u001b[0mmessage\u001b[0m\u001b[0;34m,\u001b[0m \u001b[0mbindings\u001b[0m\u001b[0;34m=\u001b[0m\u001b[0;32mNone\u001b[0m\u001b[0;34m,\u001b[0m \u001b[0mrequest_options\u001b[0m\u001b[0;34m=\u001b[0m\u001b[0;32mNone\u001b[0m\u001b[0;34m)\u001b[0m\u001b[0;34m:\u001b[0m\u001b[0;34m\u001b[0m\u001b[0;34m\u001b[0m\u001b[0m\n",
      "\u001b[0;32m/usr/lib/python3.8/concurrent/futures/_base.py\u001b[0m in \u001b[0;36mresult\u001b[0;34m(self, timeout)\u001b[0m\n\u001b[1;32m    437\u001b[0m                 \u001b[0;32mraise\u001b[0m \u001b[0mCancelledError\u001b[0m\u001b[0;34m(\u001b[0m\u001b[0;34m)\u001b[0m\u001b[0;34m\u001b[0m\u001b[0;34m\u001b[0m\u001b[0m\n\u001b[1;32m    438\u001b[0m             \u001b[0;32melif\u001b[0m \u001b[0mself\u001b[0m\u001b[0;34m.\u001b[0m\u001b[0m_state\u001b[0m \u001b[0;34m==\u001b[0m \u001b[0mFINISHED\u001b[0m\u001b[0;34m:\u001b[0m\u001b[0;34m\u001b[0m\u001b[0;34m\u001b[0m\u001b[0m\n\u001b[0;32m--> 439\u001b[0;31m                 \u001b[0;32mreturn\u001b[0m \u001b[0mself\u001b[0m\u001b[0;34m.\u001b[0m\u001b[0m__get_result\u001b[0m\u001b[0;34m(\u001b[0m\u001b[0;34m)\u001b[0m\u001b[0;34m\u001b[0m\u001b[0;34m\u001b[0m\u001b[0m\n\u001b[0m\u001b[1;32m    440\u001b[0m             \u001b[0;32melse\u001b[0m\u001b[0;34m:\u001b[0m\u001b[0;34m\u001b[0m\u001b[0;34m\u001b[0m\u001b[0m\n\u001b[1;32m    441\u001b[0m                 \u001b[0;32mraise\u001b[0m \u001b[0mTimeoutError\u001b[0m\u001b[0;34m(\u001b[0m\u001b[0;34m)\u001b[0m\u001b[0;34m\u001b[0m\u001b[0;34m\u001b[0m\u001b[0m\n",
      "\u001b[0;32m/usr/lib/python3.8/concurrent/futures/_base.py\u001b[0m in \u001b[0;36m__get_result\u001b[0;34m(self)\u001b[0m\n\u001b[1;32m    386\u001b[0m     \u001b[0;32mdef\u001b[0m \u001b[0m__get_result\u001b[0m\u001b[0;34m(\u001b[0m\u001b[0mself\u001b[0m\u001b[0;34m)\u001b[0m\u001b[0;34m:\u001b[0m\u001b[0;34m\u001b[0m\u001b[0;34m\u001b[0m\u001b[0m\n\u001b[1;32m    387\u001b[0m         \u001b[0;32mif\u001b[0m \u001b[0mself\u001b[0m\u001b[0;34m.\u001b[0m\u001b[0m_exception\u001b[0m\u001b[0;34m:\u001b[0m\u001b[0;34m\u001b[0m\u001b[0;34m\u001b[0m\u001b[0m\n\u001b[0;32m--> 388\u001b[0;31m             \u001b[0;32mraise\u001b[0m \u001b[0mself\u001b[0m\u001b[0;34m.\u001b[0m\u001b[0m_exception\u001b[0m\u001b[0;34m\u001b[0m\u001b[0;34m\u001b[0m\u001b[0m\n\u001b[0m\u001b[1;32m    389\u001b[0m         \u001b[0;32melse\u001b[0m\u001b[0;34m:\u001b[0m\u001b[0;34m\u001b[0m\u001b[0;34m\u001b[0m\u001b[0m\n\u001b[1;32m    390\u001b[0m             \u001b[0;32mreturn\u001b[0m \u001b[0mself\u001b[0m\u001b[0;34m.\u001b[0m\u001b[0m_result\u001b[0m\u001b[0;34m\u001b[0m\u001b[0;34m\u001b[0m\u001b[0m\n",
      "\u001b[0;32m~/BIGDATA/lib/python3.8/site-packages/gremlin_python/driver/connection.py\u001b[0m in \u001b[0;36mcb\u001b[0;34m(f)\u001b[0m\n\u001b[1;32m     64\u001b[0m         \u001b[0;32mdef\u001b[0m \u001b[0mcb\u001b[0m\u001b[0;34m(\u001b[0m\u001b[0mf\u001b[0m\u001b[0;34m)\u001b[0m\u001b[0;34m:\u001b[0m\u001b[0;34m\u001b[0m\u001b[0;34m\u001b[0m\u001b[0m\n\u001b[1;32m     65\u001b[0m             \u001b[0;32mtry\u001b[0m\u001b[0;34m:\u001b[0m\u001b[0;34m\u001b[0m\u001b[0;34m\u001b[0m\u001b[0m\n\u001b[0;32m---> 66\u001b[0;31m                 \u001b[0mf\u001b[0m\u001b[0;34m.\u001b[0m\u001b[0mresult\u001b[0m\u001b[0;34m(\u001b[0m\u001b[0;34m)\u001b[0m\u001b[0;34m\u001b[0m\u001b[0;34m\u001b[0m\u001b[0m\n\u001b[0m\u001b[1;32m     67\u001b[0m             \u001b[0;32mexcept\u001b[0m \u001b[0mException\u001b[0m \u001b[0;32mas\u001b[0m \u001b[0me\u001b[0m\u001b[0;34m:\u001b[0m\u001b[0;34m\u001b[0m\u001b[0;34m\u001b[0m\u001b[0m\n\u001b[1;32m     68\u001b[0m                 \u001b[0mfuture\u001b[0m\u001b[0;34m.\u001b[0m\u001b[0mset_exception\u001b[0m\u001b[0;34m(\u001b[0m\u001b[0me\u001b[0m\u001b[0;34m)\u001b[0m\u001b[0;34m\u001b[0m\u001b[0;34m\u001b[0m\u001b[0m\n",
      "\u001b[0;32m/usr/lib/python3.8/concurrent/futures/_base.py\u001b[0m in \u001b[0;36mresult\u001b[0;34m(self, timeout)\u001b[0m\n\u001b[1;32m    430\u001b[0m                 \u001b[0;32mraise\u001b[0m \u001b[0mCancelledError\u001b[0m\u001b[0;34m(\u001b[0m\u001b[0;34m)\u001b[0m\u001b[0;34m\u001b[0m\u001b[0;34m\u001b[0m\u001b[0m\n\u001b[1;32m    431\u001b[0m             \u001b[0;32melif\u001b[0m \u001b[0mself\u001b[0m\u001b[0;34m.\u001b[0m\u001b[0m_state\u001b[0m \u001b[0;34m==\u001b[0m \u001b[0mFINISHED\u001b[0m\u001b[0;34m:\u001b[0m\u001b[0;34m\u001b[0m\u001b[0;34m\u001b[0m\u001b[0m\n\u001b[0;32m--> 432\u001b[0;31m                 \u001b[0;32mreturn\u001b[0m \u001b[0mself\u001b[0m\u001b[0;34m.\u001b[0m\u001b[0m__get_result\u001b[0m\u001b[0;34m(\u001b[0m\u001b[0;34m)\u001b[0m\u001b[0;34m\u001b[0m\u001b[0;34m\u001b[0m\u001b[0m\n\u001b[0m\u001b[1;32m    433\u001b[0m \u001b[0;34m\u001b[0m\u001b[0m\n\u001b[1;32m    434\u001b[0m             \u001b[0mself\u001b[0m\u001b[0;34m.\u001b[0m\u001b[0m_condition\u001b[0m\u001b[0;34m.\u001b[0m\u001b[0mwait\u001b[0m\u001b[0;34m(\u001b[0m\u001b[0mtimeout\u001b[0m\u001b[0;34m)\u001b[0m\u001b[0;34m\u001b[0m\u001b[0;34m\u001b[0m\u001b[0m\n",
      "\u001b[0;32m/usr/lib/python3.8/concurrent/futures/_base.py\u001b[0m in \u001b[0;36m__get_result\u001b[0;34m(self)\u001b[0m\n\u001b[1;32m    386\u001b[0m     \u001b[0;32mdef\u001b[0m \u001b[0m__get_result\u001b[0m\u001b[0;34m(\u001b[0m\u001b[0mself\u001b[0m\u001b[0;34m)\u001b[0m\u001b[0;34m:\u001b[0m\u001b[0;34m\u001b[0m\u001b[0;34m\u001b[0m\u001b[0m\n\u001b[1;32m    387\u001b[0m         \u001b[0;32mif\u001b[0m \u001b[0mself\u001b[0m\u001b[0;34m.\u001b[0m\u001b[0m_exception\u001b[0m\u001b[0;34m:\u001b[0m\u001b[0;34m\u001b[0m\u001b[0;34m\u001b[0m\u001b[0m\n\u001b[0;32m--> 388\u001b[0;31m             \u001b[0;32mraise\u001b[0m \u001b[0mself\u001b[0m\u001b[0;34m.\u001b[0m\u001b[0m_exception\u001b[0m\u001b[0;34m\u001b[0m\u001b[0;34m\u001b[0m\u001b[0m\n\u001b[0m\u001b[1;32m    389\u001b[0m         \u001b[0;32melse\u001b[0m\u001b[0;34m:\u001b[0m\u001b[0;34m\u001b[0m\u001b[0;34m\u001b[0m\u001b[0m\n\u001b[1;32m    390\u001b[0m             \u001b[0;32mreturn\u001b[0m \u001b[0mself\u001b[0m\u001b[0;34m.\u001b[0m\u001b[0m_result\u001b[0m\u001b[0;34m\u001b[0m\u001b[0;34m\u001b[0m\u001b[0m\n",
      "\u001b[0;32m/usr/lib/python3.8/concurrent/futures/thread.py\u001b[0m in \u001b[0;36mrun\u001b[0;34m(self)\u001b[0m\n\u001b[1;32m     55\u001b[0m \u001b[0;34m\u001b[0m\u001b[0m\n\u001b[1;32m     56\u001b[0m         \u001b[0;32mtry\u001b[0m\u001b[0;34m:\u001b[0m\u001b[0;34m\u001b[0m\u001b[0;34m\u001b[0m\u001b[0m\n\u001b[0;32m---> 57\u001b[0;31m             \u001b[0mresult\u001b[0m \u001b[0;34m=\u001b[0m \u001b[0mself\u001b[0m\u001b[0;34m.\u001b[0m\u001b[0mfn\u001b[0m\u001b[0;34m(\u001b[0m\u001b[0;34m*\u001b[0m\u001b[0mself\u001b[0m\u001b[0;34m.\u001b[0m\u001b[0margs\u001b[0m\u001b[0;34m,\u001b[0m \u001b[0;34m**\u001b[0m\u001b[0mself\u001b[0m\u001b[0;34m.\u001b[0m\u001b[0mkwargs\u001b[0m\u001b[0;34m)\u001b[0m\u001b[0;34m\u001b[0m\u001b[0;34m\u001b[0m\u001b[0m\n\u001b[0m\u001b[1;32m     58\u001b[0m         \u001b[0;32mexcept\u001b[0m \u001b[0mBaseException\u001b[0m \u001b[0;32mas\u001b[0m \u001b[0mexc\u001b[0m\u001b[0;34m:\u001b[0m\u001b[0;34m\u001b[0m\u001b[0;34m\u001b[0m\u001b[0m\n\u001b[1;32m     59\u001b[0m             \u001b[0mself\u001b[0m\u001b[0;34m.\u001b[0m\u001b[0mfuture\u001b[0m\u001b[0;34m.\u001b[0m\u001b[0mset_exception\u001b[0m\u001b[0;34m(\u001b[0m\u001b[0mexc\u001b[0m\u001b[0;34m)\u001b[0m\u001b[0;34m\u001b[0m\u001b[0;34m\u001b[0m\u001b[0m\n",
      "\u001b[0;32m~/BIGDATA/lib/python3.8/site-packages/gremlin_python/driver/protocol.py\u001b[0m in \u001b[0;36mwrite\u001b[0;34m(self, request_id, request_message)\u001b[0m\n\u001b[1;32m     84\u001b[0m         message = self._message_serializer.serialize_message(\n\u001b[1;32m     85\u001b[0m             request_id, request_message)\n\u001b[0;32m---> 86\u001b[0;31m         \u001b[0mself\u001b[0m\u001b[0;34m.\u001b[0m\u001b[0m_transport\u001b[0m\u001b[0;34m.\u001b[0m\u001b[0mwrite\u001b[0m\u001b[0;34m(\u001b[0m\u001b[0mmessage\u001b[0m\u001b[0;34m)\u001b[0m\u001b[0;34m\u001b[0m\u001b[0;34m\u001b[0m\u001b[0m\n\u001b[0m\u001b[1;32m     87\u001b[0m \u001b[0;34m\u001b[0m\u001b[0m\n\u001b[1;32m     88\u001b[0m     \u001b[0;32mdef\u001b[0m \u001b[0mdata_received\u001b[0m\u001b[0;34m(\u001b[0m\u001b[0mself\u001b[0m\u001b[0;34m,\u001b[0m \u001b[0mmessage\u001b[0m\u001b[0;34m,\u001b[0m \u001b[0mresults_dict\u001b[0m\u001b[0;34m)\u001b[0m\u001b[0;34m:\u001b[0m\u001b[0;34m\u001b[0m\u001b[0;34m\u001b[0m\u001b[0m\n",
      "\u001b[0;32m~/BIGDATA/lib/python3.8/site-packages/gremlin_python/driver/aiohttp/transport.py\u001b[0m in \u001b[0;36mwrite\u001b[0;34m(self, message)\u001b[0m\n\u001b[1;32m     84\u001b[0m \u001b[0;34m\u001b[0m\u001b[0m\n\u001b[1;32m     85\u001b[0m         \u001b[0;31m# Execute the async write synchronously.\u001b[0m\u001b[0;34m\u001b[0m\u001b[0;34m\u001b[0m\u001b[0;34m\u001b[0m\u001b[0m\n\u001b[0;32m---> 86\u001b[0;31m         \u001b[0mself\u001b[0m\u001b[0;34m.\u001b[0m\u001b[0m_loop\u001b[0m\u001b[0;34m.\u001b[0m\u001b[0mrun_until_complete\u001b[0m\u001b[0;34m(\u001b[0m\u001b[0masync_write\u001b[0m\u001b[0;34m(\u001b[0m\u001b[0;34m)\u001b[0m\u001b[0;34m)\u001b[0m\u001b[0;34m\u001b[0m\u001b[0;34m\u001b[0m\u001b[0m\n\u001b[0m\u001b[1;32m     87\u001b[0m \u001b[0;34m\u001b[0m\u001b[0m\n\u001b[1;32m     88\u001b[0m     \u001b[0;32mdef\u001b[0m \u001b[0mread\u001b[0m\u001b[0;34m(\u001b[0m\u001b[0mself\u001b[0m\u001b[0;34m)\u001b[0m\u001b[0;34m:\u001b[0m\u001b[0;34m\u001b[0m\u001b[0;34m\u001b[0m\u001b[0m\n",
      "\u001b[0;32m/usr/lib/python3.8/asyncio/base_events.py\u001b[0m in \u001b[0;36mrun_until_complete\u001b[0;34m(self, future)\u001b[0m\n\u001b[1;32m    614\u001b[0m             \u001b[0;32mraise\u001b[0m \u001b[0mRuntimeError\u001b[0m\u001b[0;34m(\u001b[0m\u001b[0;34m'Event loop stopped before Future completed.'\u001b[0m\u001b[0;34m)\u001b[0m\u001b[0;34m\u001b[0m\u001b[0;34m\u001b[0m\u001b[0m\n\u001b[1;32m    615\u001b[0m \u001b[0;34m\u001b[0m\u001b[0m\n\u001b[0;32m--> 616\u001b[0;31m         \u001b[0;32mreturn\u001b[0m \u001b[0mfuture\u001b[0m\u001b[0;34m.\u001b[0m\u001b[0mresult\u001b[0m\u001b[0;34m(\u001b[0m\u001b[0;34m)\u001b[0m\u001b[0;34m\u001b[0m\u001b[0;34m\u001b[0m\u001b[0m\n\u001b[0m\u001b[1;32m    617\u001b[0m \u001b[0;34m\u001b[0m\u001b[0m\n\u001b[1;32m    618\u001b[0m     \u001b[0;32mdef\u001b[0m \u001b[0mstop\u001b[0m\u001b[0;34m(\u001b[0m\u001b[0mself\u001b[0m\u001b[0;34m)\u001b[0m\u001b[0;34m:\u001b[0m\u001b[0;34m\u001b[0m\u001b[0;34m\u001b[0m\u001b[0m\n",
      "\u001b[0;32m~/BIGDATA/lib/python3.8/site-packages/gremlin_python/driver/aiohttp/transport.py\u001b[0m in \u001b[0;36masync_write\u001b[0;34m()\u001b[0m\n\u001b[1;32m     81\u001b[0m         \u001b[0;32masync\u001b[0m \u001b[0;32mdef\u001b[0m \u001b[0masync_write\u001b[0m\u001b[0;34m(\u001b[0m\u001b[0;34m)\u001b[0m\u001b[0;34m:\u001b[0m\u001b[0;34m\u001b[0m\u001b[0;34m\u001b[0m\u001b[0m\n\u001b[1;32m     82\u001b[0m             \u001b[0;32masync\u001b[0m \u001b[0;32mwith\u001b[0m \u001b[0masync_timeout\u001b[0m\u001b[0;34m.\u001b[0m\u001b[0mtimeout\u001b[0m\u001b[0;34m(\u001b[0m\u001b[0mself\u001b[0m\u001b[0;34m.\u001b[0m\u001b[0m_write_timeout\u001b[0m\u001b[0;34m)\u001b[0m\u001b[0;34m:\u001b[0m\u001b[0;34m\u001b[0m\u001b[0;34m\u001b[0m\u001b[0m\n\u001b[0;32m---> 83\u001b[0;31m                 \u001b[0;32mawait\u001b[0m \u001b[0mself\u001b[0m\u001b[0;34m.\u001b[0m\u001b[0m_websocket\u001b[0m\u001b[0;34m.\u001b[0m\u001b[0msend_bytes\u001b[0m\u001b[0;34m(\u001b[0m\u001b[0mmessage\u001b[0m\u001b[0;34m)\u001b[0m\u001b[0;34m\u001b[0m\u001b[0;34m\u001b[0m\u001b[0m\n\u001b[0m\u001b[1;32m     84\u001b[0m \u001b[0;34m\u001b[0m\u001b[0m\n\u001b[1;32m     85\u001b[0m         \u001b[0;31m# Execute the async write synchronously.\u001b[0m\u001b[0;34m\u001b[0m\u001b[0;34m\u001b[0m\u001b[0;34m\u001b[0m\u001b[0m\n",
      "\u001b[0;32m~/BIGDATA/lib/python3.8/site-packages/aiohttp/client_ws.py\u001b[0m in \u001b[0;36msend_bytes\u001b[0;34m(self, data, compress)\u001b[0m\n\u001b[1;32m    153\u001b[0m         \u001b[0;32mif\u001b[0m \u001b[0;32mnot\u001b[0m \u001b[0misinstance\u001b[0m\u001b[0;34m(\u001b[0m\u001b[0mdata\u001b[0m\u001b[0;34m,\u001b[0m \u001b[0;34m(\u001b[0m\u001b[0mbytes\u001b[0m\u001b[0;34m,\u001b[0m \u001b[0mbytearray\u001b[0m\u001b[0;34m,\u001b[0m \u001b[0mmemoryview\u001b[0m\u001b[0;34m)\u001b[0m\u001b[0;34m)\u001b[0m\u001b[0;34m:\u001b[0m\u001b[0;34m\u001b[0m\u001b[0;34m\u001b[0m\u001b[0m\n\u001b[1;32m    154\u001b[0m             \u001b[0;32mraise\u001b[0m \u001b[0mTypeError\u001b[0m\u001b[0;34m(\u001b[0m\u001b[0;34m\"data argument must be byte-ish (%r)\"\u001b[0m \u001b[0;34m%\u001b[0m \u001b[0mtype\u001b[0m\u001b[0;34m(\u001b[0m\u001b[0mdata\u001b[0m\u001b[0;34m)\u001b[0m\u001b[0;34m)\u001b[0m\u001b[0;34m\u001b[0m\u001b[0;34m\u001b[0m\u001b[0m\n\u001b[0;32m--> 155\u001b[0;31m         \u001b[0;32mawait\u001b[0m \u001b[0mself\u001b[0m\u001b[0;34m.\u001b[0m\u001b[0m_writer\u001b[0m\u001b[0;34m.\u001b[0m\u001b[0msend\u001b[0m\u001b[0;34m(\u001b[0m\u001b[0mdata\u001b[0m\u001b[0;34m,\u001b[0m \u001b[0mbinary\u001b[0m\u001b[0;34m=\u001b[0m\u001b[0;32mTrue\u001b[0m\u001b[0;34m,\u001b[0m \u001b[0mcompress\u001b[0m\u001b[0;34m=\u001b[0m\u001b[0mcompress\u001b[0m\u001b[0;34m)\u001b[0m\u001b[0;34m\u001b[0m\u001b[0;34m\u001b[0m\u001b[0m\n\u001b[0m\u001b[1;32m    156\u001b[0m \u001b[0;34m\u001b[0m\u001b[0m\n\u001b[1;32m    157\u001b[0m     async def send_json(\n",
      "\u001b[0;32m~/BIGDATA/lib/python3.8/site-packages/aiohttp/http_websocket.py\u001b[0m in \u001b[0;36msend\u001b[0;34m(self, message, binary, compress)\u001b[0m\n\u001b[1;32m    683\u001b[0m             \u001b[0mmessage\u001b[0m \u001b[0;34m=\u001b[0m \u001b[0mmessage\u001b[0m\u001b[0;34m.\u001b[0m\u001b[0mencode\u001b[0m\u001b[0;34m(\u001b[0m\u001b[0;34m\"utf-8\"\u001b[0m\u001b[0;34m)\u001b[0m\u001b[0;34m\u001b[0m\u001b[0;34m\u001b[0m\u001b[0m\n\u001b[1;32m    684\u001b[0m         \u001b[0;32mif\u001b[0m \u001b[0mbinary\u001b[0m\u001b[0;34m:\u001b[0m\u001b[0;34m\u001b[0m\u001b[0;34m\u001b[0m\u001b[0m\n\u001b[0;32m--> 685\u001b[0;31m             \u001b[0;32mawait\u001b[0m \u001b[0mself\u001b[0m\u001b[0;34m.\u001b[0m\u001b[0m_send_frame\u001b[0m\u001b[0;34m(\u001b[0m\u001b[0mmessage\u001b[0m\u001b[0;34m,\u001b[0m \u001b[0mWSMsgType\u001b[0m\u001b[0;34m.\u001b[0m\u001b[0mBINARY\u001b[0m\u001b[0;34m,\u001b[0m \u001b[0mcompress\u001b[0m\u001b[0;34m)\u001b[0m\u001b[0;34m\u001b[0m\u001b[0;34m\u001b[0m\u001b[0m\n\u001b[0m\u001b[1;32m    686\u001b[0m         \u001b[0;32melse\u001b[0m\u001b[0;34m:\u001b[0m\u001b[0;34m\u001b[0m\u001b[0;34m\u001b[0m\u001b[0m\n\u001b[1;32m    687\u001b[0m             \u001b[0;32mawait\u001b[0m \u001b[0mself\u001b[0m\u001b[0;34m.\u001b[0m\u001b[0m_send_frame\u001b[0m\u001b[0;34m(\u001b[0m\u001b[0mmessage\u001b[0m\u001b[0;34m,\u001b[0m \u001b[0mWSMsgType\u001b[0m\u001b[0;34m.\u001b[0m\u001b[0mTEXT\u001b[0m\u001b[0;34m,\u001b[0m \u001b[0mcompress\u001b[0m\u001b[0;34m)\u001b[0m\u001b[0;34m\u001b[0m\u001b[0;34m\u001b[0m\u001b[0m\n",
      "\u001b[0;32m~/BIGDATA/lib/python3.8/site-packages/aiohttp/http_websocket.py\u001b[0m in \u001b[0;36m_send_frame\u001b[0;34m(self, message, opcode, compress)\u001b[0m\n\u001b[1;32m    596\u001b[0m         \u001b[0;34m\"\"\"Send a frame over the websocket with message as its payload.\"\"\"\u001b[0m\u001b[0;34m\u001b[0m\u001b[0;34m\u001b[0m\u001b[0m\n\u001b[1;32m    597\u001b[0m         \u001b[0;32mif\u001b[0m \u001b[0mself\u001b[0m\u001b[0;34m.\u001b[0m\u001b[0m_closing\u001b[0m \u001b[0;32mand\u001b[0m \u001b[0;32mnot\u001b[0m \u001b[0;34m(\u001b[0m\u001b[0mopcode\u001b[0m \u001b[0;34m&\u001b[0m \u001b[0mWSMsgType\u001b[0m\u001b[0;34m.\u001b[0m\u001b[0mCLOSE\u001b[0m\u001b[0;34m)\u001b[0m\u001b[0;34m:\u001b[0m\u001b[0;34m\u001b[0m\u001b[0;34m\u001b[0m\u001b[0m\n\u001b[0;32m--> 598\u001b[0;31m             \u001b[0;32mraise\u001b[0m \u001b[0mConnectionResetError\u001b[0m\u001b[0;34m(\u001b[0m\u001b[0;34m\"Cannot write to closing transport\"\u001b[0m\u001b[0;34m)\u001b[0m\u001b[0;34m\u001b[0m\u001b[0;34m\u001b[0m\u001b[0m\n\u001b[0m\u001b[1;32m    599\u001b[0m \u001b[0;34m\u001b[0m\u001b[0m\n\u001b[1;32m    600\u001b[0m         \u001b[0mrsv\u001b[0m \u001b[0;34m=\u001b[0m \u001b[0;36m0\u001b[0m\u001b[0;34m\u001b[0m\u001b[0;34m\u001b[0m\u001b[0m\n",
      "\u001b[0;31mConnectionResetError\u001b[0m: Cannot write to closing transport"
     ]
    }
   ],
   "source": [
    "g.E('10084360').valueMap().next()"
   ]
  },
  {
   "cell_type": "code",
   "execution_count": 183,
   "metadata": {},
   "outputs": [
    {
     "output_type": "execute_result",
     "data": {
      "text/plain": [
       "'Chicago'"
      ]
     },
     "metadata": {},
     "execution_count": 183
    }
   ],
   "source": [
    "g.V().has('airport','code','ORD').values('city').next()"
   ]
  },
  {
   "cell_type": "code",
   "execution_count": 147,
   "metadata": {},
   "outputs": [
    {
     "output_type": "execute_result",
     "data": {
      "text/plain": [
       "{'dist': 811}"
      ]
     },
     "metadata": {},
     "execution_count": 147
    }
   ],
   "source": [
    "g.E().limit(1).valueMap().next()"
   ]
  },
  {
   "cell_type": "code",
   "execution_count": 38,
   "metadata": {},
   "outputs": [
    {
     "output_type": "execute_result",
     "data": {
      "text/plain": [
       "path[Hartsfield - Jackson Atlanta International Airport, Austin Bergstrom International Airport]"
      ]
     },
     "metadata": {},
     "execution_count": 38
    }
   ],
   "source": [
    "g.V().has('code').out('route').path().by('desc').next()"
   ]
  },
  {
   "cell_type": "code",
   "execution_count": 77,
   "metadata": {},
   "outputs": [
    {
     "output_type": "execute_result",
     "data": {
      "text/plain": [
       "{'code': ['SYD'],\n",
       " 'type': ['airport'],\n",
       " 'desc': ['Sydney Kingsford Smith'],\n",
       " 'country': ['AU'],\n",
       " 'longest': [12999],\n",
       " 'city': ['Sydney'],\n",
       " 'elev': [21],\n",
       " 'icao': ['YSSY'],\n",
       " 'lon': [151.177001953125],\n",
       " 'region': ['AU-NSW'],\n",
       " 'runways': [3],\n",
       " 'lat': [-33.9460983276367]}"
      ]
     },
     "metadata": {},
     "execution_count": 77
    }
   ],
   "source": [
    "g.V().has('airport', 'code', 'SYD').valueMap().next()"
   ]
  },
  {
   "cell_type": "code",
   "execution_count": 55,
   "metadata": {},
   "outputs": [
    {
     "output_type": "execute_result",
     "data": {
      "text/plain": [
       "43400"
      ]
     },
     "metadata": {},
     "execution_count": 55
    }
   ],
   "source": [
    "g.V().outE('route').count().next()"
   ]
  },
  {
   "cell_type": "code",
   "execution_count": 56,
   "metadata": {},
   "outputs": [
    {
     "output_type": "execute_result",
     "data": {
      "text/plain": [
       "43400"
      ]
     },
     "metadata": {},
     "execution_count": 56
    }
   ],
   "source": [
    "g.V().hasLabel('airport').outE().count().next()"
   ]
  },
  {
   "cell_type": "code",
   "execution_count": 63,
   "metadata": {},
   "outputs": [
    {
     "output_type": "execute_result",
     "data": {
      "text/plain": [
       "'Austin Bergstrom International Airport'"
      ]
     },
     "metadata": {},
     "execution_count": 63
    }
   ],
   "source": [
    "g.V().outE('route').inV().values('desc').next()"
   ]
  },
  {
   "cell_type": "code",
   "execution_count": 74,
   "metadata": {},
   "outputs": [
    {
     "output_type": "execute_result",
     "data": {
      "text/plain": [
       "1203"
      ]
     },
     "metadata": {},
     "execution_count": 74
    }
   ],
   "source": [
    "g.V()\\\n",
    "    .has('airport', 'code', 'SYD')\\\n",
    "    .as_(\"SYD\")\\\n",
    "    .repeat(__.out(\"route\")).times(2)\\\n",
    "    .emit()\\\n",
    "    .dedup()\\\n",
    "    .where(P.neq(\"SYD\")).count().next()"
   ]
  },
  {
   "cell_type": "code",
   "execution_count": 234,
   "metadata": {},
   "outputs": [
    {
     "output_type": "error",
     "ename": "ConnectionResetError",
     "evalue": "Cannot write to closing transport",
     "traceback": [
      "\u001b[0;31m---------------------------------------------------------------------------\u001b[0m",
      "\u001b[0;31mConnectionResetError\u001b[0m                      Traceback (most recent call last)",
      "\u001b[0;32m<ipython-input-234-425d874c2091>\u001b[0m in \u001b[0;36m<module>\u001b[0;34m\u001b[0m\n\u001b[0;32m----> 1\u001b[0;31m \u001b[0mg\u001b[0m\u001b[0;34m.\u001b[0m\u001b[0mE\u001b[0m\u001b[0;34m(\u001b[0m\u001b[0;34m)\u001b[0m\u001b[0;34m.\u001b[0m\u001b[0mlimit\u001b[0m\u001b[0;34m(\u001b[0m\u001b[0;34m)\u001b[0m\u001b[0;34m.\u001b[0m\u001b[0mnext\u001b[0m\u001b[0;34m(\u001b[0m\u001b[0;34m)\u001b[0m\u001b[0;34m\u001b[0m\u001b[0;34m\u001b[0m\u001b[0m\n\u001b[0m",
      "\u001b[0;32m~/BIGDATA/lib/python3.8/site-packages/gremlin_python/process/traversal.py\u001b[0m in \u001b[0;36mnext\u001b[0;34m(self, amount)\u001b[0m\n\u001b[1;32m     86\u001b[0m     \u001b[0;32mdef\u001b[0m \u001b[0mnext\u001b[0m\u001b[0;34m(\u001b[0m\u001b[0mself\u001b[0m\u001b[0;34m,\u001b[0m \u001b[0mamount\u001b[0m\u001b[0;34m=\u001b[0m\u001b[0;32mNone\u001b[0m\u001b[0;34m)\u001b[0m\u001b[0;34m:\u001b[0m\u001b[0;34m\u001b[0m\u001b[0;34m\u001b[0m\u001b[0m\n\u001b[1;32m     87\u001b[0m         \u001b[0;32mif\u001b[0m \u001b[0mamount\u001b[0m \u001b[0;32mis\u001b[0m \u001b[0;32mNone\u001b[0m\u001b[0;34m:\u001b[0m\u001b[0;34m\u001b[0m\u001b[0;34m\u001b[0m\u001b[0m\n\u001b[0;32m---> 88\u001b[0;31m             \u001b[0;32mreturn\u001b[0m \u001b[0mself\u001b[0m\u001b[0;34m.\u001b[0m\u001b[0m__next__\u001b[0m\u001b[0;34m(\u001b[0m\u001b[0;34m)\u001b[0m\u001b[0;34m\u001b[0m\u001b[0;34m\u001b[0m\u001b[0m\n\u001b[0m\u001b[1;32m     89\u001b[0m         \u001b[0;32melse\u001b[0m\u001b[0;34m:\u001b[0m\u001b[0;34m\u001b[0m\u001b[0;34m\u001b[0m\u001b[0m\n\u001b[1;32m     90\u001b[0m             \u001b[0mcount\u001b[0m \u001b[0;34m=\u001b[0m \u001b[0;36m0\u001b[0m\u001b[0;34m\u001b[0m\u001b[0;34m\u001b[0m\u001b[0m\n",
      "\u001b[0;32m~/BIGDATA/lib/python3.8/site-packages/gremlin_python/process/traversal.py\u001b[0m in \u001b[0;36m__next__\u001b[0;34m(self)\u001b[0m\n\u001b[1;32m     45\u001b[0m     \u001b[0;32mdef\u001b[0m \u001b[0m__next__\u001b[0m\u001b[0;34m(\u001b[0m\u001b[0mself\u001b[0m\u001b[0;34m)\u001b[0m\u001b[0;34m:\u001b[0m\u001b[0;34m\u001b[0m\u001b[0;34m\u001b[0m\u001b[0m\n\u001b[1;32m     46\u001b[0m         \u001b[0;32mif\u001b[0m \u001b[0mself\u001b[0m\u001b[0;34m.\u001b[0m\u001b[0mtraversers\u001b[0m \u001b[0;32mis\u001b[0m \u001b[0;32mNone\u001b[0m\u001b[0;34m:\u001b[0m\u001b[0;34m\u001b[0m\u001b[0;34m\u001b[0m\u001b[0m\n\u001b[0;32m---> 47\u001b[0;31m             \u001b[0mself\u001b[0m\u001b[0;34m.\u001b[0m\u001b[0mtraversal_strategies\u001b[0m\u001b[0;34m.\u001b[0m\u001b[0mapply_strategies\u001b[0m\u001b[0;34m(\u001b[0m\u001b[0mself\u001b[0m\u001b[0;34m)\u001b[0m\u001b[0;34m\u001b[0m\u001b[0;34m\u001b[0m\u001b[0m\n\u001b[0m\u001b[1;32m     48\u001b[0m         \u001b[0;32mif\u001b[0m \u001b[0mself\u001b[0m\u001b[0;34m.\u001b[0m\u001b[0mlast_traverser\u001b[0m \u001b[0;32mis\u001b[0m \u001b[0;32mNone\u001b[0m\u001b[0;34m:\u001b[0m\u001b[0;34m\u001b[0m\u001b[0;34m\u001b[0m\u001b[0m\n\u001b[1;32m     49\u001b[0m             \u001b[0mself\u001b[0m\u001b[0;34m.\u001b[0m\u001b[0mlast_traverser\u001b[0m \u001b[0;34m=\u001b[0m \u001b[0mnext\u001b[0m\u001b[0;34m(\u001b[0m\u001b[0mself\u001b[0m\u001b[0;34m.\u001b[0m\u001b[0mtraversers\u001b[0m\u001b[0;34m)\u001b[0m\u001b[0;34m\u001b[0m\u001b[0;34m\u001b[0m\u001b[0m\n",
      "\u001b[0;32m~/BIGDATA/lib/python3.8/site-packages/gremlin_python/process/traversal.py\u001b[0m in \u001b[0;36mapply_strategies\u001b[0;34m(self, traversal)\u001b[0m\n\u001b[1;32m    542\u001b[0m     \u001b[0;32mdef\u001b[0m \u001b[0mapply_strategies\u001b[0m\u001b[0;34m(\u001b[0m\u001b[0mself\u001b[0m\u001b[0;34m,\u001b[0m \u001b[0mtraversal\u001b[0m\u001b[0;34m)\u001b[0m\u001b[0;34m:\u001b[0m\u001b[0;34m\u001b[0m\u001b[0;34m\u001b[0m\u001b[0m\n\u001b[1;32m    543\u001b[0m         \u001b[0;32mfor\u001b[0m \u001b[0mtraversal_strategy\u001b[0m \u001b[0;32min\u001b[0m \u001b[0mself\u001b[0m\u001b[0;34m.\u001b[0m\u001b[0mtraversal_strategies\u001b[0m\u001b[0;34m:\u001b[0m\u001b[0;34m\u001b[0m\u001b[0;34m\u001b[0m\u001b[0m\n\u001b[0;32m--> 544\u001b[0;31m             \u001b[0mtraversal_strategy\u001b[0m\u001b[0;34m.\u001b[0m\u001b[0mapply\u001b[0m\u001b[0;34m(\u001b[0m\u001b[0mtraversal\u001b[0m\u001b[0;34m)\u001b[0m\u001b[0;34m\u001b[0m\u001b[0;34m\u001b[0m\u001b[0m\n\u001b[0m\u001b[1;32m    545\u001b[0m \u001b[0;34m\u001b[0m\u001b[0m\n\u001b[1;32m    546\u001b[0m     \u001b[0;32mdef\u001b[0m \u001b[0mapply_async_strategies\u001b[0m\u001b[0;34m(\u001b[0m\u001b[0mself\u001b[0m\u001b[0;34m,\u001b[0m \u001b[0mtraversal\u001b[0m\u001b[0;34m)\u001b[0m\u001b[0;34m:\u001b[0m\u001b[0;34m\u001b[0m\u001b[0;34m\u001b[0m\u001b[0m\n",
      "\u001b[0;32m~/BIGDATA/lib/python3.8/site-packages/gremlin_python/driver/remote_connection.py\u001b[0m in \u001b[0;36mapply\u001b[0;34m(self, traversal)\u001b[0m\n\u001b[1;32m     61\u001b[0m     \u001b[0;32mdef\u001b[0m \u001b[0mapply\u001b[0m\u001b[0;34m(\u001b[0m\u001b[0mself\u001b[0m\u001b[0;34m,\u001b[0m \u001b[0mtraversal\u001b[0m\u001b[0;34m)\u001b[0m\u001b[0;34m:\u001b[0m\u001b[0;34m\u001b[0m\u001b[0;34m\u001b[0m\u001b[0m\n\u001b[1;32m     62\u001b[0m         \u001b[0;32mif\u001b[0m \u001b[0mtraversal\u001b[0m\u001b[0;34m.\u001b[0m\u001b[0mtraversers\u001b[0m \u001b[0;32mis\u001b[0m \u001b[0;32mNone\u001b[0m\u001b[0;34m:\u001b[0m\u001b[0;34m\u001b[0m\u001b[0;34m\u001b[0m\u001b[0m\n\u001b[0;32m---> 63\u001b[0;31m             \u001b[0mremote_traversal\u001b[0m \u001b[0;34m=\u001b[0m \u001b[0mself\u001b[0m\u001b[0;34m.\u001b[0m\u001b[0mremote_connection\u001b[0m\u001b[0;34m.\u001b[0m\u001b[0msubmit\u001b[0m\u001b[0;34m(\u001b[0m\u001b[0mtraversal\u001b[0m\u001b[0;34m.\u001b[0m\u001b[0mbytecode\u001b[0m\u001b[0;34m)\u001b[0m\u001b[0;34m\u001b[0m\u001b[0;34m\u001b[0m\u001b[0m\n\u001b[0m\u001b[1;32m     64\u001b[0m             \u001b[0mtraversal\u001b[0m\u001b[0;34m.\u001b[0m\u001b[0mremote_results\u001b[0m \u001b[0;34m=\u001b[0m \u001b[0mremote_traversal\u001b[0m\u001b[0;34m\u001b[0m\u001b[0;34m\u001b[0m\u001b[0m\n\u001b[1;32m     65\u001b[0m             \u001b[0mtraversal\u001b[0m\u001b[0;34m.\u001b[0m\u001b[0mtraversers\u001b[0m \u001b[0;34m=\u001b[0m \u001b[0mremote_traversal\u001b[0m\u001b[0;34m.\u001b[0m\u001b[0mtraversers\u001b[0m\u001b[0;34m\u001b[0m\u001b[0;34m\u001b[0m\u001b[0m\n",
      "\u001b[0;32m~/BIGDATA/lib/python3.8/site-packages/gremlin_python/driver/driver_remote_connection.py\u001b[0m in \u001b[0;36msubmit\u001b[0;34m(self, bytecode)\u001b[0m\n\u001b[1;32m     57\u001b[0m \u001b[0;34m\u001b[0m\u001b[0m\n\u001b[1;32m     58\u001b[0m     \u001b[0;32mdef\u001b[0m \u001b[0msubmit\u001b[0m\u001b[0;34m(\u001b[0m\u001b[0mself\u001b[0m\u001b[0;34m,\u001b[0m \u001b[0mbytecode\u001b[0m\u001b[0;34m)\u001b[0m\u001b[0;34m:\u001b[0m\u001b[0;34m\u001b[0m\u001b[0;34m\u001b[0m\u001b[0m\n\u001b[0;32m---> 59\u001b[0;31m         \u001b[0mresult_set\u001b[0m \u001b[0;34m=\u001b[0m \u001b[0mself\u001b[0m\u001b[0;34m.\u001b[0m\u001b[0m_client\u001b[0m\u001b[0;34m.\u001b[0m\u001b[0msubmit\u001b[0m\u001b[0;34m(\u001b[0m\u001b[0mbytecode\u001b[0m\u001b[0;34m,\u001b[0m \u001b[0mrequest_options\u001b[0m\u001b[0;34m=\u001b[0m\u001b[0mself\u001b[0m\u001b[0;34m.\u001b[0m\u001b[0m_extract_request_options\u001b[0m\u001b[0;34m(\u001b[0m\u001b[0mbytecode\u001b[0m\u001b[0;34m)\u001b[0m\u001b[0;34m)\u001b[0m\u001b[0;34m\u001b[0m\u001b[0;34m\u001b[0m\u001b[0m\n\u001b[0m\u001b[1;32m     60\u001b[0m         \u001b[0mresults\u001b[0m \u001b[0;34m=\u001b[0m \u001b[0mresult_set\u001b[0m\u001b[0;34m.\u001b[0m\u001b[0mall\u001b[0m\u001b[0;34m(\u001b[0m\u001b[0;34m)\u001b[0m\u001b[0;34m.\u001b[0m\u001b[0mresult\u001b[0m\u001b[0;34m(\u001b[0m\u001b[0;34m)\u001b[0m\u001b[0;34m\u001b[0m\u001b[0;34m\u001b[0m\u001b[0m\n\u001b[1;32m     61\u001b[0m         \u001b[0;32mreturn\u001b[0m \u001b[0mRemoteTraversal\u001b[0m\u001b[0;34m(\u001b[0m\u001b[0miter\u001b[0m\u001b[0;34m(\u001b[0m\u001b[0mresults\u001b[0m\u001b[0;34m)\u001b[0m\u001b[0;34m)\u001b[0m\u001b[0;34m\u001b[0m\u001b[0;34m\u001b[0m\u001b[0m\n",
      "\u001b[0;32m~/BIGDATA/lib/python3.8/site-packages/gremlin_python/driver/client.py\u001b[0m in \u001b[0;36msubmit\u001b[0;34m(self, message, bindings, request_options)\u001b[0m\n\u001b[1;32m    130\u001b[0m \u001b[0;34m\u001b[0m\u001b[0m\n\u001b[1;32m    131\u001b[0m     \u001b[0;32mdef\u001b[0m \u001b[0msubmit\u001b[0m\u001b[0;34m(\u001b[0m\u001b[0mself\u001b[0m\u001b[0;34m,\u001b[0m \u001b[0mmessage\u001b[0m\u001b[0;34m,\u001b[0m \u001b[0mbindings\u001b[0m\u001b[0;34m=\u001b[0m\u001b[0;32mNone\u001b[0m\u001b[0;34m,\u001b[0m \u001b[0mrequest_options\u001b[0m\u001b[0;34m=\u001b[0m\u001b[0;32mNone\u001b[0m\u001b[0;34m)\u001b[0m\u001b[0;34m:\u001b[0m\u001b[0;34m\u001b[0m\u001b[0;34m\u001b[0m\u001b[0m\n\u001b[0;32m--> 132\u001b[0;31m         \u001b[0;32mreturn\u001b[0m \u001b[0mself\u001b[0m\u001b[0;34m.\u001b[0m\u001b[0msubmitAsync\u001b[0m\u001b[0;34m(\u001b[0m\u001b[0mmessage\u001b[0m\u001b[0;34m,\u001b[0m \u001b[0mbindings\u001b[0m\u001b[0;34m=\u001b[0m\u001b[0mbindings\u001b[0m\u001b[0;34m,\u001b[0m \u001b[0mrequest_options\u001b[0m\u001b[0;34m=\u001b[0m\u001b[0mrequest_options\u001b[0m\u001b[0;34m)\u001b[0m\u001b[0;34m.\u001b[0m\u001b[0mresult\u001b[0m\u001b[0;34m(\u001b[0m\u001b[0;34m)\u001b[0m\u001b[0;34m\u001b[0m\u001b[0;34m\u001b[0m\u001b[0m\n\u001b[0m\u001b[1;32m    133\u001b[0m \u001b[0;34m\u001b[0m\u001b[0m\n\u001b[1;32m    134\u001b[0m     \u001b[0;32mdef\u001b[0m \u001b[0msubmitAsync\u001b[0m\u001b[0;34m(\u001b[0m\u001b[0mself\u001b[0m\u001b[0;34m,\u001b[0m \u001b[0mmessage\u001b[0m\u001b[0;34m,\u001b[0m \u001b[0mbindings\u001b[0m\u001b[0;34m=\u001b[0m\u001b[0;32mNone\u001b[0m\u001b[0;34m,\u001b[0m \u001b[0mrequest_options\u001b[0m\u001b[0;34m=\u001b[0m\u001b[0;32mNone\u001b[0m\u001b[0;34m)\u001b[0m\u001b[0;34m:\u001b[0m\u001b[0;34m\u001b[0m\u001b[0;34m\u001b[0m\u001b[0m\n",
      "\u001b[0;32m/usr/lib/python3.8/concurrent/futures/_base.py\u001b[0m in \u001b[0;36mresult\u001b[0;34m(self, timeout)\u001b[0m\n\u001b[1;32m    437\u001b[0m                 \u001b[0;32mraise\u001b[0m \u001b[0mCancelledError\u001b[0m\u001b[0;34m(\u001b[0m\u001b[0;34m)\u001b[0m\u001b[0;34m\u001b[0m\u001b[0;34m\u001b[0m\u001b[0m\n\u001b[1;32m    438\u001b[0m             \u001b[0;32melif\u001b[0m \u001b[0mself\u001b[0m\u001b[0;34m.\u001b[0m\u001b[0m_state\u001b[0m \u001b[0;34m==\u001b[0m \u001b[0mFINISHED\u001b[0m\u001b[0;34m:\u001b[0m\u001b[0;34m\u001b[0m\u001b[0;34m\u001b[0m\u001b[0m\n\u001b[0;32m--> 439\u001b[0;31m                 \u001b[0;32mreturn\u001b[0m \u001b[0mself\u001b[0m\u001b[0;34m.\u001b[0m\u001b[0m__get_result\u001b[0m\u001b[0;34m(\u001b[0m\u001b[0;34m)\u001b[0m\u001b[0;34m\u001b[0m\u001b[0;34m\u001b[0m\u001b[0m\n\u001b[0m\u001b[1;32m    440\u001b[0m             \u001b[0;32melse\u001b[0m\u001b[0;34m:\u001b[0m\u001b[0;34m\u001b[0m\u001b[0;34m\u001b[0m\u001b[0m\n\u001b[1;32m    441\u001b[0m                 \u001b[0;32mraise\u001b[0m \u001b[0mTimeoutError\u001b[0m\u001b[0;34m(\u001b[0m\u001b[0;34m)\u001b[0m\u001b[0;34m\u001b[0m\u001b[0;34m\u001b[0m\u001b[0m\n",
      "\u001b[0;32m/usr/lib/python3.8/concurrent/futures/_base.py\u001b[0m in \u001b[0;36m__get_result\u001b[0;34m(self)\u001b[0m\n\u001b[1;32m    386\u001b[0m     \u001b[0;32mdef\u001b[0m \u001b[0m__get_result\u001b[0m\u001b[0;34m(\u001b[0m\u001b[0mself\u001b[0m\u001b[0;34m)\u001b[0m\u001b[0;34m:\u001b[0m\u001b[0;34m\u001b[0m\u001b[0;34m\u001b[0m\u001b[0m\n\u001b[1;32m    387\u001b[0m         \u001b[0;32mif\u001b[0m \u001b[0mself\u001b[0m\u001b[0;34m.\u001b[0m\u001b[0m_exception\u001b[0m\u001b[0;34m:\u001b[0m\u001b[0;34m\u001b[0m\u001b[0;34m\u001b[0m\u001b[0m\n\u001b[0;32m--> 388\u001b[0;31m             \u001b[0;32mraise\u001b[0m \u001b[0mself\u001b[0m\u001b[0;34m.\u001b[0m\u001b[0m_exception\u001b[0m\u001b[0;34m\u001b[0m\u001b[0;34m\u001b[0m\u001b[0m\n\u001b[0m\u001b[1;32m    389\u001b[0m         \u001b[0;32melse\u001b[0m\u001b[0;34m:\u001b[0m\u001b[0;34m\u001b[0m\u001b[0;34m\u001b[0m\u001b[0m\n\u001b[1;32m    390\u001b[0m             \u001b[0;32mreturn\u001b[0m \u001b[0mself\u001b[0m\u001b[0;34m.\u001b[0m\u001b[0m_result\u001b[0m\u001b[0;34m\u001b[0m\u001b[0;34m\u001b[0m\u001b[0m\n",
      "\u001b[0;32m~/BIGDATA/lib/python3.8/site-packages/gremlin_python/driver/connection.py\u001b[0m in \u001b[0;36mcb\u001b[0;34m(f)\u001b[0m\n\u001b[1;32m     64\u001b[0m         \u001b[0;32mdef\u001b[0m \u001b[0mcb\u001b[0m\u001b[0;34m(\u001b[0m\u001b[0mf\u001b[0m\u001b[0;34m)\u001b[0m\u001b[0;34m:\u001b[0m\u001b[0;34m\u001b[0m\u001b[0;34m\u001b[0m\u001b[0m\n\u001b[1;32m     65\u001b[0m             \u001b[0;32mtry\u001b[0m\u001b[0;34m:\u001b[0m\u001b[0;34m\u001b[0m\u001b[0;34m\u001b[0m\u001b[0m\n\u001b[0;32m---> 66\u001b[0;31m                 \u001b[0mf\u001b[0m\u001b[0;34m.\u001b[0m\u001b[0mresult\u001b[0m\u001b[0;34m(\u001b[0m\u001b[0;34m)\u001b[0m\u001b[0;34m\u001b[0m\u001b[0;34m\u001b[0m\u001b[0m\n\u001b[0m\u001b[1;32m     67\u001b[0m             \u001b[0;32mexcept\u001b[0m \u001b[0mException\u001b[0m \u001b[0;32mas\u001b[0m \u001b[0me\u001b[0m\u001b[0;34m:\u001b[0m\u001b[0;34m\u001b[0m\u001b[0;34m\u001b[0m\u001b[0m\n\u001b[1;32m     68\u001b[0m                 \u001b[0mfuture\u001b[0m\u001b[0;34m.\u001b[0m\u001b[0mset_exception\u001b[0m\u001b[0;34m(\u001b[0m\u001b[0me\u001b[0m\u001b[0;34m)\u001b[0m\u001b[0;34m\u001b[0m\u001b[0;34m\u001b[0m\u001b[0m\n",
      "\u001b[0;32m/usr/lib/python3.8/concurrent/futures/_base.py\u001b[0m in \u001b[0;36mresult\u001b[0;34m(self, timeout)\u001b[0m\n\u001b[1;32m    430\u001b[0m                 \u001b[0;32mraise\u001b[0m \u001b[0mCancelledError\u001b[0m\u001b[0;34m(\u001b[0m\u001b[0;34m)\u001b[0m\u001b[0;34m\u001b[0m\u001b[0;34m\u001b[0m\u001b[0m\n\u001b[1;32m    431\u001b[0m             \u001b[0;32melif\u001b[0m \u001b[0mself\u001b[0m\u001b[0;34m.\u001b[0m\u001b[0m_state\u001b[0m \u001b[0;34m==\u001b[0m \u001b[0mFINISHED\u001b[0m\u001b[0;34m:\u001b[0m\u001b[0;34m\u001b[0m\u001b[0;34m\u001b[0m\u001b[0m\n\u001b[0;32m--> 432\u001b[0;31m                 \u001b[0;32mreturn\u001b[0m \u001b[0mself\u001b[0m\u001b[0;34m.\u001b[0m\u001b[0m__get_result\u001b[0m\u001b[0;34m(\u001b[0m\u001b[0;34m)\u001b[0m\u001b[0;34m\u001b[0m\u001b[0;34m\u001b[0m\u001b[0m\n\u001b[0m\u001b[1;32m    433\u001b[0m \u001b[0;34m\u001b[0m\u001b[0m\n\u001b[1;32m    434\u001b[0m             \u001b[0mself\u001b[0m\u001b[0;34m.\u001b[0m\u001b[0m_condition\u001b[0m\u001b[0;34m.\u001b[0m\u001b[0mwait\u001b[0m\u001b[0;34m(\u001b[0m\u001b[0mtimeout\u001b[0m\u001b[0;34m)\u001b[0m\u001b[0;34m\u001b[0m\u001b[0;34m\u001b[0m\u001b[0m\n",
      "\u001b[0;32m/usr/lib/python3.8/concurrent/futures/_base.py\u001b[0m in \u001b[0;36m__get_result\u001b[0;34m(self)\u001b[0m\n\u001b[1;32m    386\u001b[0m     \u001b[0;32mdef\u001b[0m \u001b[0m__get_result\u001b[0m\u001b[0;34m(\u001b[0m\u001b[0mself\u001b[0m\u001b[0;34m)\u001b[0m\u001b[0;34m:\u001b[0m\u001b[0;34m\u001b[0m\u001b[0;34m\u001b[0m\u001b[0m\n\u001b[1;32m    387\u001b[0m         \u001b[0;32mif\u001b[0m \u001b[0mself\u001b[0m\u001b[0;34m.\u001b[0m\u001b[0m_exception\u001b[0m\u001b[0;34m:\u001b[0m\u001b[0;34m\u001b[0m\u001b[0;34m\u001b[0m\u001b[0m\n\u001b[0;32m--> 388\u001b[0;31m             \u001b[0;32mraise\u001b[0m \u001b[0mself\u001b[0m\u001b[0;34m.\u001b[0m\u001b[0m_exception\u001b[0m\u001b[0;34m\u001b[0m\u001b[0;34m\u001b[0m\u001b[0m\n\u001b[0m\u001b[1;32m    389\u001b[0m         \u001b[0;32melse\u001b[0m\u001b[0;34m:\u001b[0m\u001b[0;34m\u001b[0m\u001b[0;34m\u001b[0m\u001b[0m\n\u001b[1;32m    390\u001b[0m             \u001b[0;32mreturn\u001b[0m \u001b[0mself\u001b[0m\u001b[0;34m.\u001b[0m\u001b[0m_result\u001b[0m\u001b[0;34m\u001b[0m\u001b[0;34m\u001b[0m\u001b[0m\n",
      "\u001b[0;32m/usr/lib/python3.8/concurrent/futures/thread.py\u001b[0m in \u001b[0;36mrun\u001b[0;34m(self)\u001b[0m\n\u001b[1;32m     55\u001b[0m \u001b[0;34m\u001b[0m\u001b[0m\n\u001b[1;32m     56\u001b[0m         \u001b[0;32mtry\u001b[0m\u001b[0;34m:\u001b[0m\u001b[0;34m\u001b[0m\u001b[0;34m\u001b[0m\u001b[0m\n\u001b[0;32m---> 57\u001b[0;31m             \u001b[0mresult\u001b[0m \u001b[0;34m=\u001b[0m \u001b[0mself\u001b[0m\u001b[0;34m.\u001b[0m\u001b[0mfn\u001b[0m\u001b[0;34m(\u001b[0m\u001b[0;34m*\u001b[0m\u001b[0mself\u001b[0m\u001b[0;34m.\u001b[0m\u001b[0margs\u001b[0m\u001b[0;34m,\u001b[0m \u001b[0;34m**\u001b[0m\u001b[0mself\u001b[0m\u001b[0;34m.\u001b[0m\u001b[0mkwargs\u001b[0m\u001b[0;34m)\u001b[0m\u001b[0;34m\u001b[0m\u001b[0;34m\u001b[0m\u001b[0m\n\u001b[0m\u001b[1;32m     58\u001b[0m         \u001b[0;32mexcept\u001b[0m \u001b[0mBaseException\u001b[0m \u001b[0;32mas\u001b[0m \u001b[0mexc\u001b[0m\u001b[0;34m:\u001b[0m\u001b[0;34m\u001b[0m\u001b[0;34m\u001b[0m\u001b[0m\n\u001b[1;32m     59\u001b[0m             \u001b[0mself\u001b[0m\u001b[0;34m.\u001b[0m\u001b[0mfuture\u001b[0m\u001b[0;34m.\u001b[0m\u001b[0mset_exception\u001b[0m\u001b[0;34m(\u001b[0m\u001b[0mexc\u001b[0m\u001b[0;34m)\u001b[0m\u001b[0;34m\u001b[0m\u001b[0;34m\u001b[0m\u001b[0m\n",
      "\u001b[0;32m~/BIGDATA/lib/python3.8/site-packages/gremlin_python/driver/protocol.py\u001b[0m in \u001b[0;36mwrite\u001b[0;34m(self, request_id, request_message)\u001b[0m\n\u001b[1;32m     84\u001b[0m         message = self._message_serializer.serialize_message(\n\u001b[1;32m     85\u001b[0m             request_id, request_message)\n\u001b[0;32m---> 86\u001b[0;31m         \u001b[0mself\u001b[0m\u001b[0;34m.\u001b[0m\u001b[0m_transport\u001b[0m\u001b[0;34m.\u001b[0m\u001b[0mwrite\u001b[0m\u001b[0;34m(\u001b[0m\u001b[0mmessage\u001b[0m\u001b[0;34m)\u001b[0m\u001b[0;34m\u001b[0m\u001b[0;34m\u001b[0m\u001b[0m\n\u001b[0m\u001b[1;32m     87\u001b[0m \u001b[0;34m\u001b[0m\u001b[0m\n\u001b[1;32m     88\u001b[0m     \u001b[0;32mdef\u001b[0m \u001b[0mdata_received\u001b[0m\u001b[0;34m(\u001b[0m\u001b[0mself\u001b[0m\u001b[0;34m,\u001b[0m \u001b[0mmessage\u001b[0m\u001b[0;34m,\u001b[0m \u001b[0mresults_dict\u001b[0m\u001b[0;34m)\u001b[0m\u001b[0;34m:\u001b[0m\u001b[0;34m\u001b[0m\u001b[0;34m\u001b[0m\u001b[0m\n",
      "\u001b[0;32m~/BIGDATA/lib/python3.8/site-packages/gremlin_python/driver/aiohttp/transport.py\u001b[0m in \u001b[0;36mwrite\u001b[0;34m(self, message)\u001b[0m\n\u001b[1;32m     84\u001b[0m \u001b[0;34m\u001b[0m\u001b[0m\n\u001b[1;32m     85\u001b[0m         \u001b[0;31m# Execute the async write synchronously.\u001b[0m\u001b[0;34m\u001b[0m\u001b[0;34m\u001b[0m\u001b[0;34m\u001b[0m\u001b[0m\n\u001b[0;32m---> 86\u001b[0;31m         \u001b[0mself\u001b[0m\u001b[0;34m.\u001b[0m\u001b[0m_loop\u001b[0m\u001b[0;34m.\u001b[0m\u001b[0mrun_until_complete\u001b[0m\u001b[0;34m(\u001b[0m\u001b[0masync_write\u001b[0m\u001b[0;34m(\u001b[0m\u001b[0;34m)\u001b[0m\u001b[0;34m)\u001b[0m\u001b[0;34m\u001b[0m\u001b[0;34m\u001b[0m\u001b[0m\n\u001b[0m\u001b[1;32m     87\u001b[0m \u001b[0;34m\u001b[0m\u001b[0m\n\u001b[1;32m     88\u001b[0m     \u001b[0;32mdef\u001b[0m \u001b[0mread\u001b[0m\u001b[0;34m(\u001b[0m\u001b[0mself\u001b[0m\u001b[0;34m)\u001b[0m\u001b[0;34m:\u001b[0m\u001b[0;34m\u001b[0m\u001b[0;34m\u001b[0m\u001b[0m\n",
      "\u001b[0;32m/usr/lib/python3.8/asyncio/base_events.py\u001b[0m in \u001b[0;36mrun_until_complete\u001b[0;34m(self, future)\u001b[0m\n\u001b[1;32m    614\u001b[0m             \u001b[0;32mraise\u001b[0m \u001b[0mRuntimeError\u001b[0m\u001b[0;34m(\u001b[0m\u001b[0;34m'Event loop stopped before Future completed.'\u001b[0m\u001b[0;34m)\u001b[0m\u001b[0;34m\u001b[0m\u001b[0;34m\u001b[0m\u001b[0m\n\u001b[1;32m    615\u001b[0m \u001b[0;34m\u001b[0m\u001b[0m\n\u001b[0;32m--> 616\u001b[0;31m         \u001b[0;32mreturn\u001b[0m \u001b[0mfuture\u001b[0m\u001b[0;34m.\u001b[0m\u001b[0mresult\u001b[0m\u001b[0;34m(\u001b[0m\u001b[0;34m)\u001b[0m\u001b[0;34m\u001b[0m\u001b[0;34m\u001b[0m\u001b[0m\n\u001b[0m\u001b[1;32m    617\u001b[0m \u001b[0;34m\u001b[0m\u001b[0m\n\u001b[1;32m    618\u001b[0m     \u001b[0;32mdef\u001b[0m \u001b[0mstop\u001b[0m\u001b[0;34m(\u001b[0m\u001b[0mself\u001b[0m\u001b[0;34m)\u001b[0m\u001b[0;34m:\u001b[0m\u001b[0;34m\u001b[0m\u001b[0;34m\u001b[0m\u001b[0m\n",
      "\u001b[0;32m~/BIGDATA/lib/python3.8/site-packages/gremlin_python/driver/aiohttp/transport.py\u001b[0m in \u001b[0;36masync_write\u001b[0;34m()\u001b[0m\n\u001b[1;32m     81\u001b[0m         \u001b[0;32masync\u001b[0m \u001b[0;32mdef\u001b[0m \u001b[0masync_write\u001b[0m\u001b[0;34m(\u001b[0m\u001b[0;34m)\u001b[0m\u001b[0;34m:\u001b[0m\u001b[0;34m\u001b[0m\u001b[0;34m\u001b[0m\u001b[0m\n\u001b[1;32m     82\u001b[0m             \u001b[0;32masync\u001b[0m \u001b[0;32mwith\u001b[0m \u001b[0masync_timeout\u001b[0m\u001b[0;34m.\u001b[0m\u001b[0mtimeout\u001b[0m\u001b[0;34m(\u001b[0m\u001b[0mself\u001b[0m\u001b[0;34m.\u001b[0m\u001b[0m_write_timeout\u001b[0m\u001b[0;34m)\u001b[0m\u001b[0;34m:\u001b[0m\u001b[0;34m\u001b[0m\u001b[0;34m\u001b[0m\u001b[0m\n\u001b[0;32m---> 83\u001b[0;31m                 \u001b[0;32mawait\u001b[0m \u001b[0mself\u001b[0m\u001b[0;34m.\u001b[0m\u001b[0m_websocket\u001b[0m\u001b[0;34m.\u001b[0m\u001b[0msend_bytes\u001b[0m\u001b[0;34m(\u001b[0m\u001b[0mmessage\u001b[0m\u001b[0;34m)\u001b[0m\u001b[0;34m\u001b[0m\u001b[0;34m\u001b[0m\u001b[0m\n\u001b[0m\u001b[1;32m     84\u001b[0m \u001b[0;34m\u001b[0m\u001b[0m\n\u001b[1;32m     85\u001b[0m         \u001b[0;31m# Execute the async write synchronously.\u001b[0m\u001b[0;34m\u001b[0m\u001b[0;34m\u001b[0m\u001b[0;34m\u001b[0m\u001b[0m\n",
      "\u001b[0;32m~/BIGDATA/lib/python3.8/site-packages/aiohttp/client_ws.py\u001b[0m in \u001b[0;36msend_bytes\u001b[0;34m(self, data, compress)\u001b[0m\n\u001b[1;32m    153\u001b[0m         \u001b[0;32mif\u001b[0m \u001b[0;32mnot\u001b[0m \u001b[0misinstance\u001b[0m\u001b[0;34m(\u001b[0m\u001b[0mdata\u001b[0m\u001b[0;34m,\u001b[0m \u001b[0;34m(\u001b[0m\u001b[0mbytes\u001b[0m\u001b[0;34m,\u001b[0m \u001b[0mbytearray\u001b[0m\u001b[0;34m,\u001b[0m \u001b[0mmemoryview\u001b[0m\u001b[0;34m)\u001b[0m\u001b[0;34m)\u001b[0m\u001b[0;34m:\u001b[0m\u001b[0;34m\u001b[0m\u001b[0;34m\u001b[0m\u001b[0m\n\u001b[1;32m    154\u001b[0m             \u001b[0;32mraise\u001b[0m \u001b[0mTypeError\u001b[0m\u001b[0;34m(\u001b[0m\u001b[0;34m\"data argument must be byte-ish (%r)\"\u001b[0m \u001b[0;34m%\u001b[0m \u001b[0mtype\u001b[0m\u001b[0;34m(\u001b[0m\u001b[0mdata\u001b[0m\u001b[0;34m)\u001b[0m\u001b[0;34m)\u001b[0m\u001b[0;34m\u001b[0m\u001b[0;34m\u001b[0m\u001b[0m\n\u001b[0;32m--> 155\u001b[0;31m         \u001b[0;32mawait\u001b[0m \u001b[0mself\u001b[0m\u001b[0;34m.\u001b[0m\u001b[0m_writer\u001b[0m\u001b[0;34m.\u001b[0m\u001b[0msend\u001b[0m\u001b[0;34m(\u001b[0m\u001b[0mdata\u001b[0m\u001b[0;34m,\u001b[0m \u001b[0mbinary\u001b[0m\u001b[0;34m=\u001b[0m\u001b[0;32mTrue\u001b[0m\u001b[0;34m,\u001b[0m \u001b[0mcompress\u001b[0m\u001b[0;34m=\u001b[0m\u001b[0mcompress\u001b[0m\u001b[0;34m)\u001b[0m\u001b[0;34m\u001b[0m\u001b[0;34m\u001b[0m\u001b[0m\n\u001b[0m\u001b[1;32m    156\u001b[0m \u001b[0;34m\u001b[0m\u001b[0m\n\u001b[1;32m    157\u001b[0m     async def send_json(\n",
      "\u001b[0;32m~/BIGDATA/lib/python3.8/site-packages/aiohttp/http_websocket.py\u001b[0m in \u001b[0;36msend\u001b[0;34m(self, message, binary, compress)\u001b[0m\n\u001b[1;32m    683\u001b[0m             \u001b[0mmessage\u001b[0m \u001b[0;34m=\u001b[0m \u001b[0mmessage\u001b[0m\u001b[0;34m.\u001b[0m\u001b[0mencode\u001b[0m\u001b[0;34m(\u001b[0m\u001b[0;34m\"utf-8\"\u001b[0m\u001b[0;34m)\u001b[0m\u001b[0;34m\u001b[0m\u001b[0;34m\u001b[0m\u001b[0m\n\u001b[1;32m    684\u001b[0m         \u001b[0;32mif\u001b[0m \u001b[0mbinary\u001b[0m\u001b[0;34m:\u001b[0m\u001b[0;34m\u001b[0m\u001b[0;34m\u001b[0m\u001b[0m\n\u001b[0;32m--> 685\u001b[0;31m             \u001b[0;32mawait\u001b[0m \u001b[0mself\u001b[0m\u001b[0;34m.\u001b[0m\u001b[0m_send_frame\u001b[0m\u001b[0;34m(\u001b[0m\u001b[0mmessage\u001b[0m\u001b[0;34m,\u001b[0m \u001b[0mWSMsgType\u001b[0m\u001b[0;34m.\u001b[0m\u001b[0mBINARY\u001b[0m\u001b[0;34m,\u001b[0m \u001b[0mcompress\u001b[0m\u001b[0;34m)\u001b[0m\u001b[0;34m\u001b[0m\u001b[0;34m\u001b[0m\u001b[0m\n\u001b[0m\u001b[1;32m    686\u001b[0m         \u001b[0;32melse\u001b[0m\u001b[0;34m:\u001b[0m\u001b[0;34m\u001b[0m\u001b[0;34m\u001b[0m\u001b[0m\n\u001b[1;32m    687\u001b[0m             \u001b[0;32mawait\u001b[0m \u001b[0mself\u001b[0m\u001b[0;34m.\u001b[0m\u001b[0m_send_frame\u001b[0m\u001b[0;34m(\u001b[0m\u001b[0mmessage\u001b[0m\u001b[0;34m,\u001b[0m \u001b[0mWSMsgType\u001b[0m\u001b[0;34m.\u001b[0m\u001b[0mTEXT\u001b[0m\u001b[0;34m,\u001b[0m \u001b[0mcompress\u001b[0m\u001b[0;34m)\u001b[0m\u001b[0;34m\u001b[0m\u001b[0;34m\u001b[0m\u001b[0m\n",
      "\u001b[0;32m~/BIGDATA/lib/python3.8/site-packages/aiohttp/http_websocket.py\u001b[0m in \u001b[0;36m_send_frame\u001b[0;34m(self, message, opcode, compress)\u001b[0m\n\u001b[1;32m    596\u001b[0m         \u001b[0;34m\"\"\"Send a frame over the websocket with message as its payload.\"\"\"\u001b[0m\u001b[0;34m\u001b[0m\u001b[0;34m\u001b[0m\u001b[0m\n\u001b[1;32m    597\u001b[0m         \u001b[0;32mif\u001b[0m \u001b[0mself\u001b[0m\u001b[0;34m.\u001b[0m\u001b[0m_closing\u001b[0m \u001b[0;32mand\u001b[0m \u001b[0;32mnot\u001b[0m \u001b[0;34m(\u001b[0m\u001b[0mopcode\u001b[0m \u001b[0;34m&\u001b[0m \u001b[0mWSMsgType\u001b[0m\u001b[0;34m.\u001b[0m\u001b[0mCLOSE\u001b[0m\u001b[0;34m)\u001b[0m\u001b[0;34m:\u001b[0m\u001b[0;34m\u001b[0m\u001b[0;34m\u001b[0m\u001b[0m\n\u001b[0;32m--> 598\u001b[0;31m             \u001b[0;32mraise\u001b[0m \u001b[0mConnectionResetError\u001b[0m\u001b[0;34m(\u001b[0m\u001b[0;34m\"Cannot write to closing transport\"\u001b[0m\u001b[0;34m)\u001b[0m\u001b[0;34m\u001b[0m\u001b[0;34m\u001b[0m\u001b[0m\n\u001b[0m\u001b[1;32m    599\u001b[0m \u001b[0;34m\u001b[0m\u001b[0m\n\u001b[1;32m    600\u001b[0m         \u001b[0mrsv\u001b[0m \u001b[0;34m=\u001b[0m \u001b[0;36m0\u001b[0m\u001b[0;34m\u001b[0m\u001b[0;34m\u001b[0m\u001b[0m\n",
      "\u001b[0;31mConnectionResetError\u001b[0m: Cannot write to closing transport"
     ]
    }
   ],
   "source": [
    "g.E().limit().next()"
   ]
  },
  {
   "cell_type": "code",
   "execution_count": null,
   "metadata": {},
   "outputs": [],
   "source": []
  }
 ]
}