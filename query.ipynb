{
 "metadata": {
  "language_info": {
   "codemirror_mode": {
    "name": "ipython",
    "version": 3
   },
   "file_extension": ".py",
   "mimetype": "text/x-python",
   "name": "python",
   "nbconvert_exporter": "python",
   "pygments_lexer": "ipython3",
   "version": "3.8.5"
  },
  "orig_nbformat": 2,
  "kernelspec": {
   "name": "python385jvsc74a57bd06979c95ed64b1f7d04274d83197a2b6d564011fc5a90e8eff04d7aeea7c20390",
   "display_name": "Python 3.8.5 64-bit ('BIGDATA': venv)"
  },
  "metadata": {
   "interpreter": {
    "hash": "6979c95ed64b1f7d04274d83197a2b6d564011fc5a90e8eff04d7aeea7c20390"
   }
  }
 },
 "nbformat": 4,
 "nbformat_minor": 2,
 "cells": [
  {
   "cell_type": "code",
   "execution_count": 4,
   "metadata": {},
   "outputs": [],
   "source": [
    "from gremlin_python.process.anonymous_traversal import traversal\n",
    "from gremlin_python.driver.driver_remote_connection import\\\n",
    "    DriverRemoteConnection\n",
    "from gremlin_python.process.traversal import T\n",
    "from gremlin_python.process.traversal import P\n",
    "from gremlin_python.process.graph_traversal import __\n",
    "import json"
   ]
  },
  {
   "source": [
    "\n",
    "# TinkerPop 3.5.0 \n",
    "## Tornado replaced \n",
    "\n",
    "Since release, the Python client has used Tornado for its websocket and other transport needs. While this generally worked well, in some cases, such as when working within Jupyter notebooks, the Gremlin client encountered conflicts when trying to create its event loop. Starting with the 3.5.0 release, the Python client no longer uses Tornado. Instead AIO HTTP is used. For most users this will have zero impact to their code. However any code using features provided by Tornado may have to be slightly revised to use AIO HTTP instead. The move to AIO HTTP removes the event loop issues experienced by users of the prior clients and opens the door for additional future improvements.\n",
    "\n",
    "## max_content_length \n",
    "\n",
    "The Gremlin Java clients provide a setting that can be used to increase, or decrease, the maximum size of the result that can be returned to a client. The Tornado default is 10,240 bytes ( 10 * 10 * 1024) but the prior Python clients did not expose a way to set this value. Starting with the 3.5.0 Python client, transport specific arguments can now be provided when a remote connection is created. These are passed as kwargs to allow for easy expansion in the future without having to add additional arguments to the API each time a new setting is needed. If a value is not provided for max_content_length the same default 10,0240 byte value is used. The code below shows an example of how this works.\n"
   ],
   "cell_type": "markdown",
   "metadata": {}
  },
  {
   "cell_type": "code",
   "execution_count": 5,
   "metadata": {},
   "outputs": [],
   "source": [
    "server = '172.17.0.2'\n",
    "port = 8182\n",
    "endpoint = 'ws://' + server + ':' + str(port) + '/gremlin'\n",
    "transport_args = {'max_content_length': 200000}\n",
    "connection = DriverRemoteConnection(endpoint, 'g', **transport_args)\n",
    "g = traversal().withRemote(connection)\n",
    "# results = g.V('1','2','3').valueMap().toList()\n",
    "# print(results)"
   ]
  },
  {
   "cell_type": "code",
   "execution_count": 45,
   "metadata": {},
   "outputs": [
    {
     "output_type": "execute_result",
     "data": {
      "text/plain": [
       "[['addV', 'person'], ['property', 'name', 'serg'], ['as', 'm'], ['addV', 'person'], ['property', 'name', 'alex'], ['as', 'v'], ['addE', 'knows'], ['from', 'm'], ['to', 'v'], ['none'], ['values', '_ipython_canary_method_should_not_exist_'], ['values', '_ipython_canary_method_should_not_exist_']]"
      ]
     },
     "metadata": {},
     "execution_count": 45
    }
   ],
   "source": [
    "g.addV('person').property('name', 'serg').as_('m'). \\\n",
    "        addV('person').property('name', 'alex').as_('v'). \\\n",
    "        addE('knows').from_('m').to('v').iterate()"
   ]
  },
  {
   "cell_type": "code",
   "execution_count": 46,
   "metadata": {},
   "outputs": [
    {
     "output_type": "execute_result",
     "data": {
      "text/plain": [
       "[{'name': ['serg']}]"
      ]
     },
     "metadata": {},
     "execution_count": 46
    }
   ],
   "source": [
    "g.V().has('person', 'name', 'serg').valueMap().fold().next()"
   ]
  },
  {
   "cell_type": "code",
   "execution_count": 47,
   "metadata": {},
   "outputs": [
    {
     "output_type": "stream",
     "name": "stdout",
     "text": [
      "marko: {\"name\": [\"serg\"]}\n"
     ]
    }
   ],
   "source": [
    "    print(\n",
    "        \"marko: \" + json.dumps(g.V().has('person', 'name', 'serg')\n",
    "                              .valueMap().\n",
    "                              next())\n",
    "    )"
   ]
  },
  {
   "cell_type": "code",
   "execution_count": 48,
   "metadata": {},
   "outputs": [
    {
     "output_type": "stream",
     "name": "stdout",
     "text": [
      "who marko knows: {\"name\": [\"alex\"]}\n"
     ]
    }
   ],
   "source": [
    "print(\n",
    "        \"who marko knows: \" + json.dumps(g.V().has('person', 'name', 'serg')\n",
    "                                        .out('knows')\n",
    "                                        .valueMap()\n",
    "                                        .next())\n",
    "    )"
   ]
  },
  {
   "cell_type": "code",
   "execution_count": 49,
   "metadata": {},
   "outputs": [
    {
     "output_type": "execute_result",
     "data": {
      "text/plain": [
       "{'name': ['serg']}"
      ]
     },
     "metadata": {},
     "execution_count": 49
    }
   ],
   "source": [
    "# g.V().drop().iterate()\n",
    "g.V().hasLabel('person').valueMap().next()"
   ]
  },
  {
   "source": [
    "## Load a dataset"
   ],
   "cell_type": "markdown",
   "metadata": {}
  },
  {
   "cell_type": "code",
   "execution_count": 97,
   "metadata": {},
   "outputs": [
    {
     "output_type": "execute_result",
     "data": {
      "text/plain": [
       "[['io', '/home/serg/projects/Bigdata/dataset/air-routes.graph.xml'], ['read'], ['none'], ['values', '_ipython_canary_method_should_not_exist_'], ['values', '_ipython_canary_method_should_not_exist_']]"
      ]
     },
     "metadata": {},
     "execution_count": 97
    }
   ],
   "source": [
    "g.V().drop().iterate()\n",
    "g.io('/home/serg/projects/Bigdata/dataset/air-routes.graph.xml').read().iterate()"
   ]
  },
  {
   "source": [
    "## has(), hasLabel(), hasId()"
   ],
   "cell_type": "markdown",
   "metadata": {}
  },
  {
   "cell_type": "code",
   "execution_count": 98,
   "metadata": {},
   "outputs": [
    {
     "output_type": "execute_result",
     "data": {
      "text/plain": [
       "True"
      ]
     },
     "metadata": {},
     "execution_count": 98
    }
   ],
   "source": [
    "findId = g.V().hasLabel('airport').has('code', 'SYD').next()\n",
    "g.V().hasLabel('airport').has('code', 'SYD').next() == g.V().has('airport', 'code', 'SYD').next() == g.V().hasId(findId).next()"
   ]
  },
  {
   "cell_type": "code",
   "execution_count": 99,
   "metadata": {},
   "outputs": [
    {
     "output_type": "stream",
     "name": "stdout",
     "text": [
      "v[9080968]\n{'code': ['SYD'], 'type': ['airport'], 'desc': ['Sydney Kingsford Smith'], 'country': ['AU'], 'longest': [12999], 'city': ['Sydney'], 'elev': [21], 'icao': ['YSSY'], 'lon': [151.177001953125], 'region': ['AU-NSW'], 'runways': [3], 'lat': [-33.9460983276367]}\n"
     ]
    }
   ],
   "source": [
    " # Check data in Vertex by id\n",
    " print(findId)\n",
    " req = g.V().hasId(findId).valueMap().next()\n",
    " print(req)"
   ]
  },
  {
   "cell_type": "code",
   "execution_count": 92,
   "metadata": {},
   "outputs": [
    {
     "output_type": "stream",
     "name": "stdout",
     "text": [
      "[['V'], ['hasId', v[7192816]], ['drop'], ['none']]\n"
     ]
    }
   ],
   "source": [
    "# Delete data by id\n",
    "# req = g.V().hasId(findId).drop().iterate()\n",
    "# print(req)"
   ]
  },
  {
   "source": [
    "## Count"
   ],
   "cell_type": "markdown",
   "metadata": {}
  },
  {
   "cell_type": "code",
   "execution_count": 63,
   "metadata": {},
   "outputs": [
    {
     "output_type": "stream",
     "name": "stdout",
     "text": [
      "3618\n",
      "237\n",
      "3373\n"
     ]
    }
   ],
   "source": [
    "print(g.V().count().next())\n",
    "print(g.V().hasLabel('country').count().next())\n",
    "print(g.V().hasLabel('airport').count().next())"
   ]
  },
  {
   "source": [
    "## valueMap()\n"
   ],
   "cell_type": "markdown",
   "metadata": {}
  },
  {
   "cell_type": "code",
   "execution_count": 100,
   "metadata": {},
   "outputs": [
    {
     "output_type": "execute_result",
     "data": {
      "text/plain": [
       "{'code': ['SYD'],\n",
       " 'type': ['airport'],\n",
       " 'desc': ['Sydney Kingsford Smith'],\n",
       " 'country': ['AU'],\n",
       " 'longest': [12999],\n",
       " 'city': ['Sydney'],\n",
       " 'elev': [21],\n",
       " 'icao': ['YSSY'],\n",
       " 'lon': [151.177001953125],\n",
       " 'region': ['AU-NSW'],\n",
       " 'runways': [3],\n",
       " 'lat': [-33.9460983276367]}"
      ]
     },
     "metadata": {},
     "execution_count": 100
    }
   ],
   "source": [
    "g.V().has('airport', 'code', 'SYD').valueMap().next()"
   ]
  },
  {
   "cell_type": "code",
   "execution_count": 11,
   "metadata": {},
   "outputs": [
    {
     "output_type": "stream",
     "name": "stdout",
     "text": [
      "SYD\nairport\nSydney Kingsford Smith\nAU\n12999\nSydney\n21\nYSSY\n151.177001953125\nAU-NSW\n3\n-33.9460983276367\n"
     ]
    }
   ],
   "source": [
    "# Check all data in request using next()\n",
    "results = g.V(findId).values()\n",
    "count = g.V(findId).values().count().next()\n",
    "for c in range(count):\n",
    "  print(results.next())"
   ]
  },
  {
   "cell_type": "code",
   "execution_count": 12,
   "metadata": {},
   "outputs": [
    {
     "output_type": "stream",
     "name": "stdout",
     "text": [
      "Sydney Kingsford Smith airport has 3 runways...\n"
     ]
    }
   ],
   "source": [
    "req = g.V(findId).values('desc', 'runways')\n",
    "print(f'{req.next()} airport has {req.next()} runways...')\n"
   ]
  },
  {
   "source": [
    "## unfold() fold()"
   ],
   "cell_type": "markdown",
   "metadata": {}
  },
  {
   "cell_type": "code",
   "execution_count": 13,
   "metadata": {},
   "outputs": [
    {
     "output_type": "stream",
     "name": "stdout",
     "text": [
      "0, {'code': ['SYD']}\n1, {'type': ['airport']}\n2, {'desc': ['Sydney Kingsford Smith']}\n3, {'country': ['AU']}\n4, {'longest': [12999]}\n5, {'city': ['Sydney']}\n6, {'elev': [21]}\n7, {'icao': ['YSSY']}\n8, {'lon': [151.177001953125]}\n9, {'region': ['AU-NSW']}\n10, {'runways': [3]}\n11, {'lat': [-33.9460983276367]}\n"
     ]
    }
   ],
   "source": [
    "\n",
    "req = g.V(findId).valueMap().unfold()\n",
    "count = g.V(findId).values().count().next()\n",
    "for i in range(count):\n",
    "  print(f'{str(i)}, {req.next()}')\n"
   ]
  },
  {
   "cell_type": "code",
   "execution_count": 14,
   "metadata": {},
   "outputs": [
    {
     "output_type": "execute_result",
     "data": {
      "text/plain": [
       "[{'code': ['SYD']},\n",
       " {'type': ['airport']},\n",
       " {'desc': ['Sydney Kingsford Smith']},\n",
       " {'country': ['AU']},\n",
       " {'longest': [12999]},\n",
       " {'city': ['Sydney']},\n",
       " {'elev': [21]},\n",
       " {'icao': ['YSSY']},\n",
       " {'lon': [151.177001953125]},\n",
       " {'region': ['AU-NSW']},\n",
       " {'runways': [3]},\n",
       " {'lat': [-33.9460983276367]}]"
      ]
     },
     "metadata": {},
     "execution_count": 14
    }
   ],
   "source": [
    "req = g.V(findId).valueMap().unfold().fold().next()\n",
    "req"
   ]
  },
  {
   "source": [
    "## hasNot(), not()"
   ],
   "cell_type": "markdown",
   "metadata": {}
  },
  {
   "cell_type": "code",
   "execution_count": 16,
   "metadata": {},
   "outputs": [
    {
     "output_type": "stream",
     "name": "stdout",
     "text": [
      "{'code': ['AL'], 'type': ['country'], 'desc': ['Albania']}\n{'code': ['BB'], 'type': ['country'], 'desc': ['Barbados']}\n{'code': ['BO'], 'type': ['country'], 'desc': ['Bolivia']}\n{'code': ['BQ'], 'type': ['country'], 'desc': ['Bonaire - Sint Eustatius and Saba']}\n{'code': ['BG'], 'type': ['country'], 'desc': ['Bulgaria']}\n{'code': ['BI'], 'type': ['country'], 'desc': ['Burundi']}\n{'code': ['KY'], 'type': ['country'], 'desc': ['Cayman Islands']}\n{'code': ['CF'], 'type': ['country'], 'desc': ['Central African Republic']}\n{'code': ['CC'], 'type': ['country'], 'desc': ['Cocos (Keeling) Islands']}\n{'code': ['CD'], 'type': ['country'], 'desc': ['Democratic Republic of the Congo']}\n"
     ]
    }
   ],
   "source": [
    "req = g.V().hasNot('region').valueMap()\n",
    "count = g.V().hasNot('region').count().next()\n",
    "for c in range(count):\n",
    "    if c == 10:\n",
    "        break\n",
    "    print(req.next())"
   ]
  },
  {
   "cell_type": "code",
   "execution_count": 17,
   "metadata": {},
   "outputs": [],
   "source": [
    "same_count = g.V().not_(__.has('region')).count().next()"
   ]
  },
  {
   "cell_type": "code",
   "execution_count": 18,
   "metadata": {},
   "outputs": [
    {
     "output_type": "execute_result",
     "data": {
      "text/plain": [
       "[v[5849112], v[5853208], v[5857304]]"
      ]
     },
     "metadata": {},
     "execution_count": 18
    }
   ],
   "source": [
    "g.V().hasLabel('airport').next(3)"
   ]
  },
  {
   "cell_type": "code",
   "execution_count": 19,
   "metadata": {},
   "outputs": [
    {
     "output_type": "execute_result",
     "data": {
      "text/plain": [
       "43400"
      ]
     },
     "metadata": {},
     "execution_count": 19
    }
   ],
   "source": [
    "g.E().hasLabel('route').count().next()"
   ]
  },
  {
   "cell_type": "code",
   "execution_count": 20,
   "metadata": {},
   "outputs": [
    {
     "output_type": "stream",
     "name": "stdout",
     "text": [
      "Melbourne International Airport\nWellington International Airport\nManila, Ninoy Aquino International Airport\nSantiago, Comodoro Arturo Merino Benitez International Airport\nCairns International Airport\nDarwin International Airport\nIndira Gandhi International Airport\nAuckland International Airport\nChristchurch International Airport\nTokyo Haneda International Airport\nDoha, Hamad International Airport\nAlice Springs Airport\nDallas/Fort Worth International Airport\nSoekarno-Hatta International Airport\nHonolulu International Airport\nVancouver\nGuangzhou Baiyun International Airport\nPerth International Airport\nCanberra International Airport\nSeoul, Incheon International Airport\nSunshine Coast Airport\nDubai International Airport\nHong Kong - Chek Lap Kok International Airport\nSan Francisco International Airport\nSingapore, Changi International Airport\nKuala Lumpur International Airport\nHo Chi Minh City, Tan Son Nhat International Airport\nAyers Rock Connellan Airport\nGold Coast Airport\nAbu Dhabi International Airport\nAdelaide International Airport\nTaiwan Taoyuan International Airport\nKunming Wujiaba International Airport\nPort Moresby Jacksons International Airport\nLismore Airport\nMoruya Airport\nMackay Airport\nTownsville Airport\nHervey Bay Airport\nKarratha Airport\nParkes Airport\nChongqing Jiangbei International Airport\nRarotonga International Airport\nQueenstown International Airport\nBroome International Airport\nFua'amotu International Airport\nAvalon Airport\nBallina Byron Gateway Airport\nOrange Airport\nMildura Airport\nLaunceston Airport\nPort Macquarie Airport\nDubbo City Regional Airport\nNewcastle Airport\nArmidale Airport\nBroken Hill Airport\nGladstone Airport\nLord Howe Island Airport\nMerimbula Airport\nNarrandera Airport\nNorfolk Island International Airport\nPort Vila Bauerfield Airport\nHamilton Island Airport\nGriffith Airport\nBrisbane West Wellcamp Airport\nNarrabri Airport\nLos Angeles International Airport\nBeijing Capital International Airport\nShanghai - Pudong International Airport\nSuvarnabhumi Bangkok International Airport\nJohannesburg, OR Tambo International Airport\nBali - Ngurah Rai International Airport\nPhuket International Airport\nTokyo Narita\nBrisbane International Airport\nNoi Bai International Airport\nFiji, Nadi International Airport\nNanjing Lukou Airport\nHangzhou Xiaoshan International Airport\nChengdu Shuangliu International Airport\nWuhan Tianhe International Airport\nChangsha Huanghua International Airport\nProserpine Whitsunday Coast Airport\nBathurst Airport\nHobart International Airport\nTamworth Airport\nWagga Wagga City Airport\nTaree Airport\nLa Tontouta International Airport\nXi'an Xianyang International Airport\nNausori International Airport\nAlbury Airport\nMoree Airport\nCoffs Harbour Airport\n"
     ]
    }
   ],
   "source": [
    "results = g.V(findId).inE('route').outV().values('desc')\n",
    "count = g.V(findId).inE('route').outV().count().next()\n",
    "for c in range(count):\n",
    "    print(results.next())"
   ]
  },
  {
   "source": [
    "## Get types of vertices"
   ],
   "cell_type": "markdown",
   "metadata": {}
  },
  {
   "cell_type": "code",
   "execution_count": 21,
   "metadata": {},
   "outputs": [
    {
     "output_type": "stream",
     "name": "stdout",
     "text": [
      "{'continent': 7, 'country': 237, 'version': 1, 'airport': 3374}\n"
     ]
    }
   ],
   "source": [
    "a = g.V().groupCount().by(T.label).next()\n",
    "print(a)"
   ]
  },
  {
   "cell_type": "code",
   "execution_count": 22,
   "metadata": {},
   "outputs": [
    {
     "output_type": "execute_result",
     "data": {
      "text/plain": [
       "{'FR': 58, 'GR': 39, 'BE': 5}"
      ]
     },
     "metadata": {},
     "execution_count": 22
    }
   ],
   "source": [
    "g.V().hasLabel('airport').groupCount().by('country').select('FR','GR','BE').next()"
   ]
  },
  {
   "cell_type": "code",
   "execution_count": 23,
   "metadata": {},
   "outputs": [
    {
     "output_type": "execute_result",
     "data": {
      "text/plain": [
       "{'EU': 583, 'AS': 932, 'NA': 978, 'OC': 284, 'AF': 294, 'AN': 0, 'SA': 303}"
      ]
     },
     "metadata": {},
     "execution_count": 23
    }
   ],
   "source": [
    "g.V().hasLabel('continent').group().\\\n",
    "    by('code').by(__.out().count()).next()"
   ]
  },
  {
   "cell_type": "code",
   "execution_count": 24,
   "metadata": {},
   "outputs": [
    {
     "output_type": "execute_result",
     "data": {
      "text/plain": [
       "{'ORD': [8], 'BNA': [4], 'BWI': [3], 'IAD': [4], 'FLL': [2]}"
      ]
     },
     "metadata": {},
     "execution_count": 24
    }
   ],
   "source": [
    "g.V().hasLabel('airport').limit(5).group().\\\n",
    "    by('code').by('runways').next()"
   ]
  },
  {
   "cell_type": "code",
   "execution_count": 4,
   "metadata": {},
   "outputs": [
    {
     "output_type": "execute_result",
     "data": {
      "text/plain": [
       "value': {'relationId': 'goyrn-3yhi0-fth-3iiag'}}][6647832-route->5902360],\n",
       " e[{'@type': 'janusgraph:RelationIdentifier', '@value': {'relationId': 'g5gqs-3tnog-fth-1pge8'}}][6422560-route->2867264],\n",
       " e[{'@type': 'janusgraph:RelationIdentifier', '@value': {'relationId': 'g5h50-3tnog-fth-20oxs'}}][6422560-route->3391552],\n",
       " e[{'@type': 'janusgraph:RelationIdentifier', '@value': {'relationId': 'g5j44-3tu00-fth-1pge8'}}][6430752-route->2867264],\n",
       " e[{'@type': 'janusgraph:RelationIdentifier', '@value': {'relationId': 'g5jic-3tu00-fth-3iiag'}}][6430752-route->5902360],\n",
       " e[{'@type': 'janusgraph:RelationIdentifier', '@value': {'relationId': 'g5jwk-3tx5s-fth-1pge8'}}][6434848-route->2867264],\n",
       " e[{'@type': 'janusgraph:RelationIdentifier', '@value': {'relationId': 'g5kas-3tx5s-fth-1pjk0'}}][6434848-route->2871360],\n",
       " e[{'@type': 'janusgraph:RelationIdentifier', '@value': {'relationId': 'g5kp0-3tx5s-fth-1wtw8'}}][6434848-route->3211352],\n",
       " e[{'@type': 'janusgraph:RelationIdentifier', '@value': {'relationId': 'g5l38-3u0bk-fth-1pge8'}}][6438944-route->2867264],\n",
       " e[{'@type': 'janusgraph:RelationIdentifier', '@value': {'relationId': 'g5lhg-3u0bk-fth-2i5yo'}}][6438944-route->4206768],\n",
       " e[{'@type': 'janusgraph:RelationIdentifier', '@value': {'relationId': '7239k-1pge8-fth-1pjk0'}}][2867264-route->2871360],\n",
       " e[{'@type': 'janusgraph:RelationIdentifier', '@value': {'relationId': '72614-1pge8-fth-1pmps'}}][2867264-route->2875456],\n",
       " e[{'@type': 'janusgraph:RelationIdentifier', '@value': {'relationId': '728eg-1pge8-fth-1pzcw'}}][2867264-route->2891840],\n",
       " e[{'@type': 'janusgraph:RelationIdentifier', '@value': {'relationId': '72ars-1pge8-fth-1qy4g'}}][2867264-route->2936896],\n",
       " e[{'@type': 'janusgraph:RelationIdentifier', '@value': {'relationId': '72cco-1pge8-fth-1r4g0'}}][2867264-route->2945088],\n",
       " e[{'@type': 'janusgraph:RelationIdentifier', '@value': {'relationId': '72eq0-1pge8-fth-1rh34'}}][2867264-route->2961472],\n",
       " e[{'@type': 'janusgraph:RelationIdentifier', '@value': {'relationId': '72420-1pge8-fth-1s6gg'}}][2867264-route->2994352],\n",
       " e[{'@type': 'janusgraph:RelationIdentifier', '@value': {'relationId': '7258o-1pge8-fth-1scs0'}}][2867264-route->3002544],\n",
       " e[{'@type': 'janusgraph:RelationIdentifier', '@value': {'relationId': '727m0-1pge8-fth-1sj3k'}}][2867264-route->3010736],\n",
       " e[{'@type': 'janusgraph:RelationIdentifier', '@value': {'relationId': '7296w-1pge8-fth-1spf4'}}][2867264-route->3018928],\n",
       " e[{'@type': 'janusgraph:RelationIdentifier', '@value': {'relationId': '729l4-1pge8-fth-1sskw'}}][2867264-route->3023024],\n",
       " e[{'@type': 'janusgraph:RelationIdentifier', '@value': {'relationId': '72bk8-1pge8-fth-1t228'}}][2867264-route->3035312],\n",
       " e[{'@type': 'janusgraph:RelationIdentifier', '@value': {'relationId': '720i0-1pge8-fth-1tuk8'}}][2867264-route->3072248],\n",
       " e[{'@type': 'janusgraph:RelationIdentifier', '@value': {'relationId': '72fig-1pge8-fth-1u0ts'}}][2867264-route->3080368],\n",
       " e[{'@type': 'janusgraph:RelationIdentifier', '@value': {'relationId': '721oo-1pge8-fth-1u0vs'}}][2867264-route->3080440],\n",
       " e[{'@type': 'janusgraph:RelationIdentifier', '@value': {'relationId': '7222w-1pge8-fth-1u41k'}}][2867264-route->3084536],\n",
       " e[{'@type': 'janusgraph:RelationIdentifier', '@value': {'relationId': '72fwo-1pge8-fth-1uab4'}}][2867264-route->3092656],\n",
       " e[{'@type': 'janusgraph:RelationIdentifier', '@value': {'relationId': '724ug-1pge8-fth-1uad4'}}][2867264-route->3092728],\n",
       " e[{'@type': 'janusgraph:RelationIdentifier', '@value': {'relationId': '72808-1pge8-fth-1udiw'}}][2867264-route->3096824],\n",
       " e[{'@type': 'janusgraph:RelationIdentifier', '@value': {'relationId': '729zc-1pge8-fth-1uq60'}}][2867264-route->3113208],\n",
       " e[{'@type': 'janusgraph:RelationIdentifier', '@value': {'relationId': '72djc-1pge8-fth-1uzk8'}}][2867264-route->3125384],\n",
       " e[{'@type': 'janusgraph:RelationIdentifier', '@value': {'relationId': '723ns-1pge8-fth-1v2o8'}}][2867264-route->3129416],\n",
       " e[{'@type': 'janusgraph:RelationIdentifier', '@value': {'relationId': '724g8-1pge8-fth-1v5u0'}}][2867264-route->3133512],\n",
       " e[{'@type': 'janusgraph:RelationIdentifier', '@value': {'relationId': '721ag-1pge8-fth-1vfbs'}}][2867264-route->3145816],\n",
       " e[{'@type': 'janusgraph:RelationIdentifier', '@value': {'relationId': '722vc-1pge8-fth-1vryw'}}][2867264-route->3162200],\n",
       " e[{'@type': 'janusgraph:RelationIdentifier', '@value': {'relationId': '7277s-1pge8-fth-1vv4o'}}][2867264-route->3166296],\n",
       " e[{'@type': 'janusgraph:RelationIdentifier', '@value': {'relationId': '72d54-1pge8-fth-1we2w'}}][2867264-route->3190856],\n",
       " e[{'@type': 'janusgraph:RelationIdentifier', '@value': {'relationId': '72b60-1pge8-fth-1wqqg'}}][2867264-route->3207256],\n",
       " e[{'@type': 'janusgraph:RelationIdentifier', '@value': {'relationId': '72byg-1pge8-fth-1wtw8'}}][2867264-route->3211352],\n",
       " e[{'@type': 'janusgraph:RelationIdentifier', '@value': {'relationId': '72cqw-1pge8-fth-1wx20'}}][2867264-route->3215448],\n",
       " e[{'@type': 'janusgraph:RelationIdentifier', '@value': {'relationId': '72ebs-1pge8-fth-1x07c'}}][2867264-route->3219528],\n",
       " e[{'@type': 'janusgraph:RelationIdentifier', '@value': {'relationId': '72dxk-1pge8-fth-1x9p4'}}][2867264-route->3231832],\n",
       " e[{'@type': 'janusgraph:RelationIdentifier', '@value': {'relationId': '72juw-1pge8-fth-1yhzc'}}][2867264-route->3289224],\n",
       " e[{'@type': 'janusgraph:RelationIdentifier', '@value': {'relationId': '72hvs-1pge8-fth-1yrew'}}][2867264-route->3301448],\n",
       " e[{'@type': 'janusgraph:RelationIdentifier', '@value': {'relationId': '72sjs-1pge8-fth-20628'}}][2867264-route->3367088],\n",
       " e[{'@type': 'janusgraph:RelationIdentifier', '@value': {'relationId': '72vpk-1pge8-fth-20980'}}][2867264-route->3371184],\n",
       " e[{'@type': 'janusgraph:RelationIdentifier', '@value': {'relationId': '72olk-1pge8-fth-20cao'}}][2867264-route->3375168],\n",
       " e[{'@type': 'janusgraph:RelationIdentifier', '@value': {'relationId': '72qko-1pge8-fth-20fgg'}}][2867264-route->3379264],\n",
       " e[{'@type': 'janusgraph:RelationIdentifier', '@value': {'relationId': '72rrc-1pge8-fth-20im8'}}][2867264-route->3383360],\n",
       " e[{'@type': 'janusgraph:RelationIdentifier', '@value': {'relationId': '72ww8-1pge8-fth-20ls0'}}][2867264-route->3387456],\n",
       " e[{'@type': 'janusgraph:RelationIdentifier', '@value': {'relationId': '72xag-1pge8-fth-20oxs'}}][2867264-route->3391552],\n",
       " e[{'@type': 'janusgraph:RelationIdentifier', '@value': {'relationId': '72k94-1pge8-fth-20v9k'}}][2867264-route->3399752],\n",
       " e[{'@type': 'janusgraph:RelationIdentifier', '@value': {'relationId': '72l1k-1pge8-fth-20veg'}}][2867264-route->3399928],\n",
       " e[{'@type': 'janusgraph:RelationIdentifier', '@value': {'relationId': '72n0o-1pge8-fth-211mw'}}][2867264-route->3408008],\n",
       " e[{'@type': 'janusgraph:RelationIdentifier', '@value': {'relationId': '72ps8-1pge8-fth-214so'}}][2867264-route->3412104],\n",
       " e[{'@type': 'janusgraph:RelationIdentifier', '@value': {'relationId': '72m88-1pge8-fth-214vs'}}][2867264-route->3412216],\n",
       " e[{'@type': 'janusgraph:RelationIdentifier', '@value': {'relationId': '72sy0-1pge8-fth-217yg'}}][2867264-route->3416200],\n",
       " e[{'@type': 'janusgraph:RelationIdentifier', '@value': {'relationId': '72ozs-1pge8-fth-2181k'}}][2867264-route->3416312],\n",
       " e[{'@type': 'janusgraph:RelationIdentifier', '@value': {'relationId': '72wi0-1pge8-fth-21b48'}}][2867264-route->3420296],\n",
       " e[{'@type': 'janusgraph:RelationIdentifier', '@value': {'relationId': '72uiw-1pge8-fth-21b7c'}}][2867264-route->3420408],\n",
       " e[{'@type': 'janusgraph:RelationIdentifier', '@value': {'relationId': '72ux4-1pge8-fth-21ed4'}}][2867264-route->3424504],\n",
       " e[{'@type': 'janusgraph:RelationIdentifier', '@value': {'relationId': '72xoo-1pge8-fth-21hiw'}}][2867264-route->3428600],\n",
       " e[{'@type': 'janusgraph:RelationIdentifier', '@value': {'relationId': '72yh4-1pge8-fth-21koo'}}][2867264-route->3432696],\n",
       " e[{'@type': 'janusgraph:RelationIdentifier', '@value': {'relationId': '730g8-1pge8-fth-21nug'}}][2867264-route->3436792],\n",
       " e[{'@type': 'janusgraph:RelationIdentifier', '@value': {'relationId': '72new-1pge8-fth-23brc'}}][2867264-route->3514440],\n",
       " e[{'@type': 'janusgraph:RelationIdentifier', '@value': {'relationId': '72nt4-1pge8-fth-23ex4'}}][2867264-route->3518536],\n",
       " e[{'@type': 'janusgraph:RelationIdentifier', '@value': {'relationId': '72qyw-1pge8-fth-23i2w'}}][2867264-route->3522632],\n",
       " e[{'@type': 'janusgraph:RelationIdentifier', '@value': {'relationId': '72s5k-1pge8-fth-23l8o'}}][2867264-route->3526728],\n",
       " e[{'@type': 'janusgraph:RelationIdentifier', '@value': {'relationId': '72tqg-1pge8-fth-23oeg'}}][2867264-route->3530824],\n",
       " e[{'@type': 'janusgraph:RelationIdentifier', '@value': {'relationId': '72w3s-1pge8-fth-23rk8'}}][2867264-route->3534920],\n",
       " e[{'@type': 'janusgraph:RelationIdentifier', '@value': {'relationId': '72yvc-1pge8-fth-23uq0'}}][2867264-route->3539016],\n",
       " e[{'@type': 'janusgraph:RelationIdentifier', '@value': {'relationId': '72mmg-1pge8-fth-2447s'}}][2867264-route->3551320],\n",
       " e[{'@type': 'janusgraph:RelationIdentifier', '@value': {'relationId': '72o7c-1pge8-fth-247dk'}}][2867264-route->3555416],\n",
       " e[{'@type': 'janusgraph:RelationIdentifier', '@value': {'relationId': '72rd4-1pge8-fth-24ajc'}}][2867264-route->3559512],\n",
       " e[{'@type': 'janusgraph:RelationIdentifier', '@value': {'relationId': '7318o-1pge8-fth-2kcw0'}}][2867264-route->4309056],\n",
       " e[{'@type': 'janusgraph:RelationIdentifier', '@value': {'relationId': '730ug-1pge8-fth-2kss0'}}][2867264-route->4329648],\n",
       " e[{'@type': 'janusgraph:RelationIdentifier', '@value': {'relationId': '720w8-1pge8-fth-3dezk'}}][2867264-route->5664800],\n",
       " e[{'@type': 'janusgraph:RelationIdentifier', '@value': {'relationId': '725mw-1pge8-fth-3ealc'}}][2867264-route->5705760],\n",
       " e[{'@type': 'janusgraph:RelationIdentifier', '@value': {'relationId': '726tk-1pge8-fth-3edr4'}}][2867264-route->5709856],\n",
       " e[{'@type': 'janusgraph:RelationIdentifier', '@value': {'relationId': '728so-1pge8-fth-3etk0'}}][2867264-route->5730336],\n",
       " e[{'@type': 'janusgraph:RelationIdentifier', '@value': {'relationId': '72adk-1pge8-fth-3ezvk'}}][2867264-route->5738528],\n",
       " e[{'@type': 'janusgraph:RelationIdentifier', '@value': {'relationId': '72f48-1pge8-fth-3gu8w'}}][2867264-route->5824544],\n",
       " e[{'@type': 'janusgraph:RelationIdentifier', '@value': {'relationId': '72gaw-1pge8-fth-3hgdc'}}][2867264-route->5853216],\n",
       " e[{'@type': 'janusgraph:RelationIdentifier', '@value': {'relationId': '722h4-1pge8-fth-3if4o'}}][2867264-route->5898264],\n",
       " e[{'@type': 'janusgraph:RelationIdentifier', '@value': {'relationId': '726fc-1pge8-fth-3iiag'}}][2867264-route->5902360],\n",
       " e[{'@type': 'janusgraph:RelationIdentifier', '@value': {'relationId': '72ia0-1pge8-fth-3k9i8'}}][2867264-route->5984288],\n",
       " e[{'@type': 'janusgraph:RelationIdentifier', '@value': {'relationId': '72gp4-1pge8-fth-3ma6w'}}][2867264-route->6078488],\n",
       " e[{'@type': 'janusgraph:RelationIdentifier', '@value': {'relationId': '72h3c-1pge8-fth-3mdco'}}][2867264-route->6082584],\n",
       " e[{'@type': 'janusgraph:RelationIdentifier', '@value': {'relationId': '72io8-1pge8-fth-3mgio'}}][2867264-route->6086688],\n",
       " e[{'@type': 'janusgraph:RelationIdentifier', '@value': {'relationId': '72hhk-1pge8-fth-3n8yg'}}][2867264-route->6123544],\n",
       " e[{'@type': 'janusgraph:RelationIdentifier', '@value': {'relationId': '72jgo-1pge8-fth-3o4kg'}}][2867264-route->6164512],\n",
       " e[{'@type': 'janusgraph:RelationIdentifier', '@value': {'relationId': '72j2g-1pge8-fth-3t1js'}}][2867264-route->6393880],\n",
       " e[{'@type': 'janusgraph:RelationIdentifier', '@value': {'relationId': '72pe0-1pge8-fth-3tkio'}}][2867264-route->6418464],\n",
       " e[{'@type': 'janusgraph:RelationIdentifier', '@value': {'relationId': '72q6g-1pge8-fth-3tnog'}}][2867264-route->6422560],\n",
       " e[{'@type': 'janusgraph:RelationIdentifier', '@value': {'relationId': '72u4o-1pge8-fth-3tqu8'}}][2867264-route->6426656],\n",
       " e[{'@type': 'janusgraph:RelationIdentifier', '@value': {'relationId': '72z9k-1pge8-fth-3tu00'}}][2867264-route->6430752],\n",
       " e[{'@type': 'janusgraph:RelationIdentifier', '@value': {'relationId': '72zns-1pge8-fth-3tx5s'}}][2867264-route->6434848],\n",
       " e[{'@type': 'janusgraph:RelationIdentifier', '@value': {'relationId': '73020-1pge8-fth-3u0bk'}}][2867264-route->6438944],\n",
       " e[{'@type': 'janusgraph:RelationIdentifier', '@value': {'relationId': '72knc-1pge8-fth-3uplk'}}][2867264-route->6471704],\n",
       " e[{'@type': 'janusgraph:RelationIdentifier', '@value': {'relationId': '72lfs-1pge8-fth-3x2xk'}}][2867264-route->6582296],\n",
       " e[{'@type': 'janusgraph:RelationIdentifier', '@value': {'relationId': '72lu0-1pge8-fth-3y80o'}}][2867264-route->6635544],\n",
       " e[{'@type': 'janusgraph:RelationIdentifier', '@value': {'relationId': '72tc8-1pge8-fth-3yb6g'}}][2867264-route->6639640],\n",
       " e[{'@type': 'janusgraph:RelationIdentifier', '@value': {'relationId': '72vbc-1pge8-fth-3yec8'}}][2867264-route->6643736],\n",
       " e[{'@type': 'janusgraph:RelationIdentifier', '@value': {'relationId': '72y2w-1pge8-fth-3yhi0'}}][2867264-route->6647832],\n",
       " e[{'@type': 'janusgraph:RelationIdentifier', '@value': {'relationId': '81ds8-20oxs-fth-1pge8'}}][3391552-route->2867264],\n",
       " e[{'@type': 'janusgraph:RelationIdentifier', '@value': {'relationId': '81e6g-20oxs-fth-3tnog'}}][3391552-route->6422560],\n",
       " e[{'@type': 'janusgraph:RelationIdentifier', '@value': {'relationId': '993bd-23brc-fth-1pge8'}}][3514440-route->2867264],\n",
       " e[{'@type': 'janusgraph:RelationIdentifier', '@value': {'relationId': '993pl-23brc-fth-3iiag'}}][3514440-route->5902360],\n",
       " e[{'@type': 'janusgraph:RelationIdentifier', '@value': {'relationId': '9943t-23ex4-fth-1pge8'}}][3518536-route->2867264],\n",
       " e[{'@type': 'janusgraph:RelationIdentifier', '@value': {'relationId': '994i1-23ex4-fth-1x07c'}}][3518536-route->3219528],\n",
       " e[{'@type': 'janusgraph:RelationIdentifier', '@value': {'relationId': '994w9-23ex4-fth-21b7c'}}][3518536-route->3420408],\n",
       " e[{'@type': 'janusgraph:RelationIdentifier', '@value': {'relationId': '995ah-23ex4-fth-21koo'}}][3518536-route->3432696],\n",
       " e[{'@type': 'janusgraph:RelationIdentifier', '@value': {'relationId': '996vd-23l8o-fth-1pge8'}}][3526728-route->2867264],\n",
       " e[{'@type': 'janusgraph:RelationIdentifier', '@value': {'relationId': '997nt-23l8o-fth-21hiw'}}][3526728-route->3428600],\n",
       " e[{'@type': 'janusgraph:RelationIdentifier', '@value': {'relationId': '9979l-23l8o-fth-3iiag'}}][3526728-route->5902360],\n",
       " e[{'@type': 'janusgraph:RelationIdentifier', '@value': {'relationId': '99821-23oeg-fth-1pge8'}}][3530824-route->2867264],\n",
       " e[{'@type': 'janusgraph:RelationIdentifier', '@value': {'relationId': '998g9-23oeg-fth-1pjk0'}}][3530824-route->2871360],\n",
       " e[{'@type': 'janusgraph:RelationIdentifier', '@value': {'relationId': '998uh-23oeg-fth-20980'}}][3530824-route->3371184],\n",
       " e[{'@type': 'janusgraph:RelationIdentifier', '@value': {'relationId': '9998p-23rk8-fth-1pge8'}}][3534920-route->2867264],\n",
       " e[{'@type': 'janusgraph:RelationIdentifier', '@value': {'relationId': '999mx-23rk8-fth-24ajc'}}][3534920-route->3559512],\n",
       " e[{'@type': 'janusgraph:RelationIdentifier', '@value': {'relationId': '8eeq3-1wtw8-fth-1pge8'}}][3211352-route->2867264],\n",
       " e[{'@type': 'janusgraph:RelationIdentifier', '@value': {'relationId': '8efij-1wtw8-fth-1pjk0'}}][3211352-route->2871360],\n",
       " e[{'@type': 'janusgraph:RelationIdentifier', '@value': {'relationId': '8ehhn-1wtw8-fth-1r4g0'}}][3211352-route->2945088],\n",
       " e[{'@type': 'janusgraph:RelationIdentifier', '@value': {'relationId': '8efwr-1wtw8-fth-1scs0'}}][3211352-route->3002544],\n",
       " e[{'@type': 'janusgraph:RelationIdentifier', '@value': {'relationId': '8egp7-1wtw8-fth-1sj3k'}}][3211352-route->3010736],\n",
       " e[{'@type': 'janusgraph:RelationIdentifier', '@value': {'relationId': '8ehvv-1wtw8-fth-1trcg'}}][3211352-route->3068080],\n",
       " e[{'@type': 'janusgraph:RelationIdentifier', '@value': {'relationId': '8eh3f-1wtw8-fth-1udiw'}}][3211352-route->3096824],\n",
       " e[{'@type': 'janusgraph:RelationIdentifier', '@value': {'relationId': '8ef4b-1wtw8-fth-1vryw'}}][3211352-route->3162200],\n",
       " e[{'@type': 'janusgraph:RelationIdentifier', '@value': {'relationId': '8egaz-1wtw8-fth-1vv4o'}}][3211352-route->3166296],\n",
       " e[{'@type': 'janusgraph:RelationIdentifier', '@value': {'relationId': '8eia3-1wtw8-fth-1x07c'}}][3211352-route->3219528],\n",
       " e[{'@type': 'janusgraph:RelationIdentifier', '@value': {'relationId': '8ejgr-1wtw8-fth-21nug'}}][3211352-route->3436792],\n",
       " e[{'@type': 'janusgraph:RelationIdentifier', '@value': {'relationId': '8eebv-1wtw8-fth-3if4o'}}][3211352-route->5898264],\n",
       " e[{'@type': 'janusgraph:RelationIdentifier', '@value': {'relationId': '8eiob-1wtw8-fth-3o4kg'}}][3211352-route->6164512],\n",
       " e[{'@type': 'janusgraph:RelationIdentifier', '@value': {'relationId': '8ej2j-1wtw8-fth-3tx5s'}}][3211352-route->6434848],\n",
       " e[{'@type': 'janusgraph:RelationIdentifier', '@value': {'relationId': '8ejuz-1wtw8-fth-46wwo'}}][3211352-route->7041048],\n",
       " e[{'@type': 'janusgraph:RelationIdentifier', '@value': {'relationId': '92hhn-24ajc-fth-1pge8'}}][3559512-route->2867264],\n",
       " e[{'@type': 'janusgraph:RelationIdentifier', '@value': {'relationId': '92hvv-24ajc-fth-23rk8'}}][3559512-route->3534920],\n",
       " e[{'@type': 'janusgraph:RelationIdentifier', '@value': {'relationId': '8u429-21b48-fth-1pge8'}}][3420296-route->2867264],\n",
       " e[{'@type': 'janusgraph:RelationIdentifier', '@value': {'relationId': '8u4gh-21b48-fth-3iiag'}}][3420296-route->5902360],\n",
       " e[{'@type': 'janusgraph:RelationIdentifier', '@value': {'relationId': '8z9qu-20628-fth-1pge8'}}][3367088-route->2867264],\n",
       " e[{'@type': 'janusgraph:RelationIdentifier', '@value': {'relationId': '8za52-20980-fth-1pge8'}}][3371184-route->2867264],\n",
       " e[{'@type': 'janusgraph:RelationIdentifier', '@value': {'relationId': '8zaja-20980-fth-23oeg'}}][3371184-route->3530824],\n",
       " e[{'@type': 'janusgraph:RelationIdentifier', '@value': {'relationId': '98x06-2i5yo-fth-3u0bk'}}][4206768-route->6438944],\n",
       " e[{'@type': 'janusgraph:RelationIdentifier', '@value': {'relationId': '99kpi-2kss0-fth-1pge8'}}][4329648-route->2867264],\n",
       " e[{'@type': 'janusgraph:RelationIdentifier', '@value': {'relationId': '99l3q-2kss0-fth-3iiag'}}][4329648-route->5902360],\n",
       " e[{'@type': 'janusgraph:RelationIdentifier', '@value': {'relationId': '99lhy-2kss0-fth-3yec8'}}][4329648-route->6643736],\n",
       " e[{'@type': 'janusgraph:RelationIdentifier', '@value': {'relationId': '86bz3-2181k-fth-1pge8'}}][3416312-route->2867264],\n",
       " e[{'@type': 'janusgraph:RelationIdentifier', '@value': {'relationId': '86cdb-2181k-fth-1pjk0'}}][3416312-route->2871360],\n",
       " e[{'@type': 'janusgraph:RelationIdentifier', '@value': {'relationId': '86crj-2181k-fth-21nug'}}][3416312-route->3436792],\n",
       " e[{'@type': 'janusgraph:RelationIdentifier', '@value': {'relationId': '86gpr-21hiw-fth-1pge8'}}][3428600-route->2867264],\n",
       " e[{'@type': 'janusgraph:RelationIdentifier', '@value': {'relationId': '86hi7-21hiw-fth-23l8o'}}][3428600-route->3526728],\n",
       " e[{'@type': 'janusgraph:RelationIdentifier', '@value': {'relationId': '86h3z-21hiw-fth-3iiag'}}][3428600-route->5902360],\n",
       " e[{'@type': 'janusgraph:RelationIdentifier', '@value': {'relationId': '86hwf-21hiw-fth-4zj8g'}}][3428600-route->8376352],\n",
       " e[{'@type': 'janusgraph:RelationIdentifier', '@value': {'relationId': '86ian-21koo-fth-1pge8'}}][3432696-route->2867264],\n",
       " e[{'@type': 'janusgraph:RelationIdentifier', '@value': {'relationId': '86j33-21koo-fth-23ex4'}}][3432696-route->3518536],\n",
       " e[{'@type': 'janusgraph:RelationIdentifier', '@value': {'relationId': '86iov-21koo-fth-3iiag'}}][3432696-route->5902360],\n",
       " e[{'@type': 'janusgraph:RelationIdentifier', '@value': {'relationId': '86jhb-21koo-fth-4zj8g'}}][3432696-route->8376352],\n",
       " e[{'@type': 'janusgraph:RelationIdentifier', '@value': {'relationId': '86jvj-21nug-fth-1pge8'}}][3436792-route->2867264],\n",
       " e[{'@type': 'janusgraph:RelationIdentifier', '@value': {'relationId': '86k9r-21nug-fth-1pjk0'}}][3436792-route->2871360],\n",
       " e[{'@type': 'janusgraph:RelationIdentifier', '@value': {'relationId': '86l27-21nug-fth-1wtw8'}}][3436792-route->3211352],\n",
       " e[{'@type': 'janusgraph:RelationIdentifier', '@value': {'relationId': '86lgf-21nug-fth-2181k'}}][3436792-route->3416312],\n",
       " e[{'@type': 'janusgraph:RelationIdentifier', '@value': {'relationId': '86knz-21nug-fth-3iiag'}}][3436792-route->5902360],\n",
       " e[{'@type': 'janusgraph:RelationIdentifier', '@value': {'relationId': '86lun-21nug-fth-3yhi0'}}][3436792-route->6647832]]"
      ]
     },
     "metadata": {},
     "execution_count": 4
    }
   ],
   "source": [
    "g.V().has('region', 'AU-NSW').outE('route').fold().next()"
   ]
  },
  {
   "cell_type": "code",
   "execution_count": 9,
   "metadata": {},
   "outputs": [
    {
     "output_type": "execute_result",
     "data": {
      "text/plain": [
       "94"
      ]
     },
     "metadata": {},
     "execution_count": 9
    }
   ],
   "source": [
    "g.V(findId).in_('route').count().next()"
   ]
  },
  {
   "cell_type": "code",
   "execution_count": 11,
   "metadata": {},
   "outputs": [
    {
     "output_type": "execute_result",
     "data": {
      "text/plain": [
       "['Albury Airport',\n",
       " 'Moree Airport',\n",
       " 'Coffs Harbour Airport',\n",
       " 'Portland Airport',\n",
       " 'Bathurst Airport',\n",
       " 'Tamworth Airport',\n",
       " 'Wagga Wagga City Airport',\n",
       " 'Taree Airport',\n",
       " 'Melbourne Essendon Airport',\n",
       " 'Sydney Kingsford Smith',\n",
       " 'Melbourne International Airport',\n",
       " 'Parkes Airport',\n",
       " 'Armidale Airport',\n",
       " 'Broken Hill Airport',\n",
       " 'Lord Howe Island Airport',\n",
       " 'Merimbula Airport',\n",
       " 'Narrandera Airport',\n",
       " 'Gold Coast Airport',\n",
       " 'Griffith Airport',\n",
       " 'Sydney Bankstown Airport',\n",
       " 'Avalon Airport',\n",
       " 'Orange Airport',\n",
       " 'Lismore Airport',\n",
       " 'Moruya Airport',\n",
       " 'Grafton Airport',\n",
       " 'Narrabri Airport',\n",
       " 'Warrnambool Airport',\n",
       " 'Ballina Byron Gateway Airport',\n",
       " 'Mildura Airport',\n",
       " 'Port Macquarie Airport',\n",
       " 'Dubbo City Regional Airport',\n",
       " 'Newcastle Airport']"
      ]
     },
     "metadata": {},
     "execution_count": 11
    }
   ],
   "source": [
    "g.V().has('region', P.within('AU-NSW', 'AU-VIC')).\\\n",
    "    values('desc').fold().next()"
   ]
  },
  {
   "cell_type": "code",
   "execution_count": 12,
   "metadata": {},
   "outputs": [
    {
     "output_type": "execute_result",
     "data": {
      "text/plain": [
       "1.875"
      ]
     },
     "metadata": {},
     "execution_count": 12
    }
   ],
   "source": [
    "g.V().has('region', P.within('AU-NSW', 'AU-VIC')).\\\n",
    "    values('runways').mean().next()"
   ]
  },
  {
   "cell_type": "code",
   "execution_count": 17,
   "metadata": {},
   "outputs": [
    {
     "output_type": "execute_result",
     "data": {
      "text/plain": [
       "1199"
      ]
     },
     "metadata": {},
     "execution_count": 17
    }
   ],
   "source": [
    " g.V(findId).as_('hk').out('route').in_('route').\\\n",
    "    where(P.neq('hk')).dedup().count().next()"
   ]
  },
  {
   "cell_type": "code",
   "execution_count": 18,
   "metadata": {},
   "outputs": [
    {
     "output_type": "execute_result",
     "data": {
      "text/plain": [
       "[v[6643736], v[6647832]]"
      ]
     },
     "metadata": {},
     "execution_count": 18
    }
   ],
   "source": [
    "g.V(findId).out('route').tail(2).fold().next()"
   ]
  },
  {
   "cell_type": "code",
   "execution_count": 22,
   "metadata": {},
   "outputs": [
    {
     "output_type": "execute_result",
     "data": {
      "text/plain": [
       "[path[Sydney Kingsford Smith, Melbourne International Airport, Wellington International Airport, Sydney Kingsford Smith],\n",
       " path[Sydney Kingsford Smith, Melbourne International Airport, Manila, Ninoy Aquino International Airport, Sydney Kingsford Smith],\n",
       " path[Sydney Kingsford Smith, Melbourne International Airport, Cairns International Airport, Sydney Kingsford Smith],\n",
       " path[Sydney Kingsford Smith, Melbourne International Airport, Darwin International Airport, Sydney Kingsford Smith],\n",
       " path[Sydney Kingsford Smith, Melbourne International Airport, Indira Gandhi International Airport, Sydney Kingsford Smith],\n",
       " path[Sydney Kingsford Smith, Melbourne International Airport, Auckland International Airport, Sydney Kingsford Smith],\n",
       " path[Sydney Kingsford Smith, Melbourne International Airport, Christchurch International Airport, Sydney Kingsford Smith],\n",
       " path[Sydney Kingsford Smith, Melbourne International Airport, Doha, Hamad International Airport, Sydney Kingsford Smith],\n",
       " path[Sydney Kingsford Smith, Melbourne International Airport, Alice Springs Airport, Sydney Kingsford Smith],\n",
       " path[Sydney Kingsford Smith, Melbourne International Airport, Soekarno-Hatta International Airport, Sydney Kingsford Smith]]"
      ]
     },
     "metadata": {},
     "execution_count": 22
    }
   ],
   "source": [
    "g.V(findId).out().out().out().has('code', 'SYD').limit(10).path().by('desc').fold().next()"
   ]
  },
  {
   "cell_type": "code",
   "execution_count": 25,
   "metadata": {},
   "outputs": [
    {
     "output_type": "execute_result",
     "data": {
      "text/plain": [
       "[path[DFW, DCA],\n",
       " path[DFW, PBI],\n",
       " path[DFW, ANC],\n",
       " path[DFW, FLL],\n",
       " path[DFW, BWI],\n",
       " path[DFW, TPA],\n",
       " path[DFW, JFK],\n",
       " path[DFW, BNA],\n",
       " path[DFW, SAT],\n",
       " path[DFW, SEA]]"
      ]
     },
     "metadata": {},
     "execution_count": 25
    }
   ],
   "source": [
    " g.V(findId).as_('a').out().as_('b').out().as_('c').path().\\\n",
    "    by('code').from_('b').to('c').limit(10).fold().next()"
   ]
  },
  {
   "source": [
    "## Select"
   ],
   "cell_type": "markdown",
   "metadata": {}
  },
  {
   "cell_type": "code",
   "execution_count": 25,
   "metadata": {},
   "outputs": [
    {
     "output_type": "execute_result",
     "data": {
      "text/plain": [
       "[{'a': v[2867264], 'b': v[2871360], 'c': v[2867264], 'd': v[2871360]},\n",
       " {'a': v[2867264], 'b': v[2871360], 'c': v[2867264], 'd': v[2875456]},\n",
       " {'a': v[2867264], 'b': v[2871360], 'c': v[2867264], 'd': v[2891840]},\n",
       " {'a': v[2867264], 'b': v[2871360], 'c': v[2867264], 'd': v[2936896]},\n",
       " {'a': v[2867264], 'b': v[2871360], 'c': v[2867264], 'd': v[2945088]},\n",
       " {'a': v[2867264], 'b': v[2871360], 'c': v[2867264], 'd': v[2961472]},\n",
       " {'a': v[2867264], 'b': v[2871360], 'c': v[2867264], 'd': v[2994352]},\n",
       " {'a': v[2867264], 'b': v[2871360], 'c': v[2867264], 'd': v[3002544]},\n",
       " {'a': v[2867264], 'b': v[2871360], 'c': v[2867264], 'd': v[3010736]},\n",
       " {'a': v[2867264], 'b': v[2871360], 'c': v[2867264], 'd': v[3018928]}]"
      ]
     },
     "metadata": {},
     "execution_count": 25
    }
   ],
   "source": [
    "# Select the traversal of airports from HK that are 3 flights away\n",
    "g.V(findId).as_('a').out().as_('b').out().as_('c').out().as_('d').\\\n",
    "    select('a', 'b', 'c', 'd').limit(10).fold().next()"
   ]
  },
  {
   "source": [
    "## Mean"
   ],
   "cell_type": "markdown",
   "metadata": {}
  },
  {
   "cell_type": "code",
   "execution_count": 27,
   "metadata": {},
   "outputs": [
    {
     "output_type": "execute_result",
     "data": {
      "text/plain": [
       "12.863070539419088"
      ]
     },
     "metadata": {},
     "execution_count": 27
    }
   ],
   "source": [
    "g.V().hasLabel('airport').\\\n",
    "    local(__.out('route').count()).mean().next()"
   ]
  },
  {
   "cell_type": "code",
   "execution_count": 127,
   "metadata": {},
   "outputs": [
    {
     "output_type": "execute_result",
     "data": {
      "text/plain": [
       "['ABX',\n",
       " 'Albury',\n",
       " 'ARM',\n",
       " 'Armidale',\n",
       " 'BHQ',\n",
       " 'Broken Hill',\n",
       " 'BHS',\n",
       " 'Bathurst',\n",
       " 'BNK',\n",
       " 'Ballina']"
      ]
     },
     "metadata": {},
     "execution_count": 127
    }
   ],
   "source": [
    "g.V().has('region','AU-NSW').order().by('code').values('code','city').limit(10).fold().next()"
   ]
  },
  {
   "source": [
    "## SuM()"
   ],
   "cell_type": "markdown",
   "metadata": {}
  },
  {
   "cell_type": "code",
   "execution_count": 126,
   "metadata": {},
   "outputs": [
    {
     "output_type": "execute_result",
     "data": {
      "text/plain": [
       "4828"
      ]
     },
     "metadata": {},
     "execution_count": 126
    }
   ],
   "source": [
    "g.V().hasLabel('airport').values('runways').sum().next()"
   ]
  },
  {
   "source": [
    "## Max()"
   ],
   "cell_type": "markdown",
   "metadata": {}
  },
  {
   "cell_type": "code",
   "execution_count": 7,
   "metadata": {},
   "outputs": [
    {
     "output_type": "execute_result",
     "data": {
      "text/plain": [
       "18045"
      ]
     },
     "metadata": {},
     "execution_count": 7
    }
   ],
   "source": [
    "g.V().hasLabel('airport').values('longest').max().next()"
   ]
  },
  {
   "source": [
    "# TASK, Select vertex to delete\n",
    "Пример схемы с богами.\n",
    "Написать метод рекурсивного обхода дерева с циклическими связями - и пометить узлы для удаления например\n"
   ],
   "cell_type": "markdown",
   "metadata": {}
  },
  {
   "cell_type": "code",
   "execution_count": 96,
   "metadata": {},
   "outputs": [
    {
     "output_type": "stream",
     "name": "stdout",
     "text": [
      "0\n"
     ]
    }
   ],
   "source": [
    "# Repeating traversal\n",
    "'''\n",
    " * dedup() - Remove duplicates\n",
    " * where(neq(\"u861\")) -  Exclude u861\n",
    " * repeat() - avoid combinatorial explosion!\n",
    "\n",
    " * emit() - modulator to “output” all the traversed vertices\n",
    " If emit() is placed after repeat(), it will “output” all vertices leaving the repeat-traversal. If emit() is placed before repeat(), it will “output” the vertices prior to entering the repeat-traversal.\n",
    "\n",
    " Controlling the recursion\n",
    " repeat(out(\"route\").simplePath())) helps reducing the combinatory explosion due to cyclic loops but we still have a rapid graph expansion.\n",
    " '''\n",
    "\n",
    "list_code = g.V()\\\n",
    "    .has('airport', 'code', 'SYD')\\\n",
    "    .as_(\"SYD\")\\\n",
    "    .repeat(__.out(\"route\")).times(2)\\\n",
    "    .emit()\\\n",
    "    .dedup()\\\n",
    "    .where(P.neq(\"SYD\"))\\\n",
    "    .values(\"code\")\\\n",
    "    .fold()\\\n",
    "    .next()\n",
    "print(len(list_code))"
   ]
  },
  {
   "cell_type": "code",
   "execution_count": 107,
   "metadata": {},
   "outputs": [
    {
     "output_type": "stream",
     "name": "stdout",
     "text": [
      "Total counts 0\n"
     ]
    }
   ],
   "source": [
    "id_for_delete = g.V()\\\n",
    "    .has('airport', 'code', 'SYD')\\\n",
    "    .as_(\"SYD\")\\\n",
    "    .repeat(__.out(\"route\")).times(2)\\\n",
    "    .emit()\\\n",
    "    .dedup()\\\n",
    "    .where(P.neq(\"SYD\"))\n",
    "counts =  g.V()\\\n",
    "    .has('airport', 'code', 'SYD')\\\n",
    "    .as_(\"SYD\")\\\n",
    "    .repeat(__.out(\"route\")).times(2)\\\n",
    "    .emit()\\\n",
    "    .dedup()\\\n",
    "    .where(P.neq(\"SYD\"))\\\n",
    "    .count()\\\n",
    "    .next()\n",
    "print('Total counts', counts)\n",
    "\n",
    "for i in range(counts):\n",
    "    if i > 10:\n",
    "        break\n",
    "    print(id_for_delete.next())\n",
    "\n"
   ]
  },
  {
   "cell_type": "code",
   "execution_count": 106,
   "metadata": {},
   "outputs": [
    {
     "output_type": "execute_result",
     "data": {
      "text/plain": [
       "[['V'], ['has', 'airport', 'code', 'SYD'], ['as', 'SYD'], ['repeat', [['out', 'route']]], ['times', 2], ['emit'], ['where', neq(SYD)], ['drop'], ['none'], ['values', '_ipython_canary_method_should_not_exist_'], ['values', '_ipython_canary_method_should_not_exist_']]"
      ]
     },
     "metadata": {},
     "execution_count": 106
    }
   ],
   "source": [
    "# Delete data\n",
    "g.V()\\\n",
    "    .has('airport', 'code', 'SYD')\\\n",
    "    .as_(\"SYD\")\\\n",
    "    .repeat(__.out(\"route\")).times(2)\\\n",
    "    .emit()\\\n",
    "    .where(P.neq(\"SYD\"))\\\n",
    "    .drop()\\\n",
    "    .iterate()"
   ]
  },
  {
   "cell_type": "code",
   "execution_count": 15,
   "metadata": {},
   "outputs": [
    {
     "output_type": "execute_result",
     "data": {
      "text/plain": [
       "[]"
      ]
     },
     "metadata": {},
     "execution_count": 15
    }
   ],
   "source": [
    "# g.E().has('airport', 'code', 'SYD').drop()\n",
    "g.E().has('airport', 'code', 'SYD').fold().next()"
   ]
  },
  {
   "cell_type": "code",
   "execution_count": 132,
   "metadata": {},
   "outputs": [
    {
     "output_type": "execute_result",
     "data": {
      "text/plain": [
       "[path[SYD, TPE],\n",
       " path[SYD, SIN, TPE],\n",
       " path[SYD, MEL, TPE],\n",
       " path[SYD, NRT, TPE],\n",
       " path[SYD, DXB, TPE],\n",
       " path[SYD, KUL, TPE],\n",
       " path[SYD, BKK, TPE],\n",
       " path[SYD, ICN, TPE],\n",
       " path[SYD, CAN, TPE],\n",
       " path[SYD, DPS, TPE],\n",
       " path[SYD, NKG, TPE],\n",
       " path[SYD, HGH, TPE],\n",
       " path[SYD, KMG, TPE],\n",
       " path[SYD, CSX, TPE],\n",
       " path[SYD, DEL, TPE],\n",
       " path[SYD, LAX, TPE],\n",
       " path[SYD, HKG, TPE],\n",
       " path[SYD, BNE, TPE],\n",
       " path[SYD, HNL, TPE],\n",
       " path[SYD, PEK, TPE],\n",
       " path[SYD, MNL, TPE],\n",
       " path[SYD, SGN, TPE],\n",
       " path[SYD, CTU, TPE],\n",
       " path[SYD, XIY, TPE],\n",
       " path[SYD, HAN, TPE],\n",
       " path[SYD, WUH, TPE],\n",
       " path[SYD, CKG, TPE],\n",
       " path[SYD, SFO, TPE],\n",
       " path[SYD, YVR, TPE],\n",
       " path[SYD, PVG, TPE],\n",
       " path[SYD, HND, TPE],\n",
       " path[SYD, CGK, TPE],\n",
       " path[SYD, SIN, CDG, TPE],\n",
       " path[SYD, SIN, MEL, TPE],\n",
       " path[SYD, SIN, NRT, TPE],\n",
       " path[SYD, SIN, FCO, TPE],\n",
       " path[SYD, SIN, DXB, TPE],\n",
       " path[SYD, SIN, KUL, TPE],\n",
       " path[SYD, SIN, BKK, TPE],\n",
       " path[SYD, SIN, ICN, TPE],\n",
       " path[SYD, SIN, PNH, TPE],\n",
       " path[SYD, SIN, FUK, TPE],\n",
       " path[SYD, SIN, CAN, TPE],\n",
       " path[SYD, SIN, KIX, TPE],\n",
       " path[SYD, SIN, CTS, TPE],\n",
       " path[SYD, SIN, DPS, TPE],\n",
       " path[SYD, SIN, NKG, TPE],\n",
       " path[SYD, SIN, HGH, TPE],\n",
       " path[SYD, SIN, KMG, TPE],\n",
       " path[SYD, SIN, CSX, TPE]]"
      ]
     },
     "metadata": {},
     "execution_count": 132
    }
   ],
   "source": [
    "g.V(findId)\\\n",
    "    .repeat(__.out().simplePath())\\\n",
    "    .emit(__.has('code', 'TPE'))\\\n",
    "    .path()\\\n",
    "    .by('code')\\\n",
    "    .limit(50)\\\n",
    "    .fold()\\\n",
    "    .next()"
   ]
  },
  {
   "cell_type": "code",
   "execution_count": null,
   "metadata": {},
   "outputs": [],
   "source": []
  }
 ]
}